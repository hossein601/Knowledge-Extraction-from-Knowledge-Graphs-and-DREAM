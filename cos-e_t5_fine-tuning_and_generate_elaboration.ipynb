{
 "cells": [
  {
   "cell_type": "markdown",
   "metadata": {},
   "source": [
    "************"
   ]
  },
  {
   "cell_type": "markdown",
   "metadata": {},
   "source": [
    "********"
   ]
  },
  {
   "cell_type": "markdown",
   "metadata": {},
   "source": [
    "COSE dataset"
   ]
  },
  {
   "cell_type": "markdown",
   "metadata": {},
   "source": [
    "Start"
   ]
  },
  {
   "cell_type": "code",
   "execution_count": 1,
   "metadata": {},
   "outputs": [],
   "source": [
    "from datasets import load_dataset\n",
    "\n",
    "# Load the CoS-E dataset\n",
    "dataset = load_dataset('cos_e', 'v1.11')\n",
    "\n",
    "\n"
   ]
  },
  {
   "cell_type": "code",
   "execution_count": 2,
   "metadata": {},
   "outputs": [
    {
     "data": {
      "text/plain": [
       "Dataset({\n",
       "    features: ['id', 'question', 'choices', 'answer', 'abstractive_explanation', 'extractive_explanation'],\n",
       "    num_rows: 9741\n",
       "})"
      ]
     },
     "execution_count": 2,
     "metadata": {},
     "output_type": "execute_result"
    }
   ],
   "source": [
    "dataset['train']"
   ]
  },
  {
   "cell_type": "code",
   "execution_count": 3,
   "metadata": {},
   "outputs": [
    {
     "name": "stdout",
     "output_type": "stream",
     "text": [
      "Question: \"There are 10 apples on an apple tree.  Three fall off.  Now there are X apples.\"  What is this an example of?\n",
      "['park', 'coloring book', 'garden center', 'math problem', 'gravity']\n",
      "Answer: math problem\n",
      "Explanation: webmath is designed to help you solve\n"
     ]
    }
   ],
   "source": [
    "# Display an example\n",
    "example = dataset['train']\n",
    "print(f\"Question: {example['question'][0]}\")\n",
    "print(example['choices'][0])\n",
    "print(f\"Answer: {example['answer'][0]}\")\n",
    "print(f\"Explanation: {example['abstractive_explanation'][0]}\")"
   ]
  },
  {
   "cell_type": "code",
   "execution_count": 1,
   "metadata": {},
   "outputs": [],
   "source": [
    "import torch\n",
    "from transformers import T5ForConditionalGeneration, T5Tokenizer, AdamW\n",
    "from datasets import load_dataset\n",
    "from torch.utils.data import DataLoader\n",
    "from tqdm import tqdm"
   ]
  },
  {
   "cell_type": "code",
   "execution_count": 2,
   "metadata": {},
   "outputs": [
    {
     "name": "stderr",
     "output_type": "stream",
     "text": [
      "Using the latest cached version of the dataset since cos_e couldn't be found on the Hugging Face Hub\n",
      "Found the latest cached dataset configuration 'v1.11' at /opt/huggingface/datasets/cos_e/v1.11/0.0.0/f01396594b768e0026841176bf770afe58b82fba (last modified on Tue Jul 16 10:04:43 2024).\n"
     ]
    }
   ],
   "source": [
    "# Load the CoS-E dataset\n",
    "dataset = load_dataset('cos_e', 'v1.11')"
   ]
  },
  {
   "cell_type": "code",
   "execution_count": 3,
   "metadata": {},
   "outputs": [
    {
     "name": "stderr",
     "output_type": "stream",
     "text": [
      "You are using the default legacy behaviour of the <class 'transformers.models.t5.tokenization_t5.T5Tokenizer'>. This is expected, and simply means that the `legacy` (previous) behavior will be used so nothing changes for you. If you want to use the new behaviour, set `legacy=False`. This should only be set if you understand what it means, and thoroughly read the reason why this was added as explained in https://github.com/huggingface/transformers/pull/24565\n",
      "Special tokens have been added in the vocabulary, make sure the associated word embeddings are fine-tuned or trained.\n"
     ]
    },
    {
     "data": {
      "text/plain": [
       "T5ForConditionalGeneration(\n",
       "  (shared): Embedding(32128, 768)\n",
       "  (encoder): T5Stack(\n",
       "    (embed_tokens): Embedding(32128, 768)\n",
       "    (block): ModuleList(\n",
       "      (0): T5Block(\n",
       "        (layer): ModuleList(\n",
       "          (0): T5LayerSelfAttention(\n",
       "            (SelfAttention): T5Attention(\n",
       "              (q): Linear(in_features=768, out_features=768, bias=False)\n",
       "              (k): Linear(in_features=768, out_features=768, bias=False)\n",
       "              (v): Linear(in_features=768, out_features=768, bias=False)\n",
       "              (o): Linear(in_features=768, out_features=768, bias=False)\n",
       "              (relative_attention_bias): Embedding(32, 12)\n",
       "            )\n",
       "            (layer_norm): T5LayerNorm()\n",
       "            (dropout): Dropout(p=0.1, inplace=False)\n",
       "          )\n",
       "          (1): T5LayerFF(\n",
       "            (DenseReluDense): T5DenseActDense(\n",
       "              (wi): Linear(in_features=768, out_features=3072, bias=False)\n",
       "              (wo): Linear(in_features=3072, out_features=768, bias=False)\n",
       "              (dropout): Dropout(p=0.1, inplace=False)\n",
       "              (act): ReLU()\n",
       "            )\n",
       "            (layer_norm): T5LayerNorm()\n",
       "            (dropout): Dropout(p=0.1, inplace=False)\n",
       "          )\n",
       "        )\n",
       "      )\n",
       "      (1-11): 11 x T5Block(\n",
       "        (layer): ModuleList(\n",
       "          (0): T5LayerSelfAttention(\n",
       "            (SelfAttention): T5Attention(\n",
       "              (q): Linear(in_features=768, out_features=768, bias=False)\n",
       "              (k): Linear(in_features=768, out_features=768, bias=False)\n",
       "              (v): Linear(in_features=768, out_features=768, bias=False)\n",
       "              (o): Linear(in_features=768, out_features=768, bias=False)\n",
       "            )\n",
       "            (layer_norm): T5LayerNorm()\n",
       "            (dropout): Dropout(p=0.1, inplace=False)\n",
       "          )\n",
       "          (1): T5LayerFF(\n",
       "            (DenseReluDense): T5DenseActDense(\n",
       "              (wi): Linear(in_features=768, out_features=3072, bias=False)\n",
       "              (wo): Linear(in_features=3072, out_features=768, bias=False)\n",
       "              (dropout): Dropout(p=0.1, inplace=False)\n",
       "              (act): ReLU()\n",
       "            )\n",
       "            (layer_norm): T5LayerNorm()\n",
       "            (dropout): Dropout(p=0.1, inplace=False)\n",
       "          )\n",
       "        )\n",
       "      )\n",
       "    )\n",
       "    (final_layer_norm): T5LayerNorm()\n",
       "    (dropout): Dropout(p=0.1, inplace=False)\n",
       "  )\n",
       "  (decoder): T5Stack(\n",
       "    (embed_tokens): Embedding(32128, 768)\n",
       "    (block): ModuleList(\n",
       "      (0): T5Block(\n",
       "        (layer): ModuleList(\n",
       "          (0): T5LayerSelfAttention(\n",
       "            (SelfAttention): T5Attention(\n",
       "              (q): Linear(in_features=768, out_features=768, bias=False)\n",
       "              (k): Linear(in_features=768, out_features=768, bias=False)\n",
       "              (v): Linear(in_features=768, out_features=768, bias=False)\n",
       "              (o): Linear(in_features=768, out_features=768, bias=False)\n",
       "              (relative_attention_bias): Embedding(32, 12)\n",
       "            )\n",
       "            (layer_norm): T5LayerNorm()\n",
       "            (dropout): Dropout(p=0.1, inplace=False)\n",
       "          )\n",
       "          (1): T5LayerCrossAttention(\n",
       "            (EncDecAttention): T5Attention(\n",
       "              (q): Linear(in_features=768, out_features=768, bias=False)\n",
       "              (k): Linear(in_features=768, out_features=768, bias=False)\n",
       "              (v): Linear(in_features=768, out_features=768, bias=False)\n",
       "              (o): Linear(in_features=768, out_features=768, bias=False)\n",
       "            )\n",
       "            (layer_norm): T5LayerNorm()\n",
       "            (dropout): Dropout(p=0.1, inplace=False)\n",
       "          )\n",
       "          (2): T5LayerFF(\n",
       "            (DenseReluDense): T5DenseActDense(\n",
       "              (wi): Linear(in_features=768, out_features=3072, bias=False)\n",
       "              (wo): Linear(in_features=3072, out_features=768, bias=False)\n",
       "              (dropout): Dropout(p=0.1, inplace=False)\n",
       "              (act): ReLU()\n",
       "            )\n",
       "            (layer_norm): T5LayerNorm()\n",
       "            (dropout): Dropout(p=0.1, inplace=False)\n",
       "          )\n",
       "        )\n",
       "      )\n",
       "      (1-11): 11 x T5Block(\n",
       "        (layer): ModuleList(\n",
       "          (0): T5LayerSelfAttention(\n",
       "            (SelfAttention): T5Attention(\n",
       "              (q): Linear(in_features=768, out_features=768, bias=False)\n",
       "              (k): Linear(in_features=768, out_features=768, bias=False)\n",
       "              (v): Linear(in_features=768, out_features=768, bias=False)\n",
       "              (o): Linear(in_features=768, out_features=768, bias=False)\n",
       "            )\n",
       "            (layer_norm): T5LayerNorm()\n",
       "            (dropout): Dropout(p=0.1, inplace=False)\n",
       "          )\n",
       "          (1): T5LayerCrossAttention(\n",
       "            (EncDecAttention): T5Attention(\n",
       "              (q): Linear(in_features=768, out_features=768, bias=False)\n",
       "              (k): Linear(in_features=768, out_features=768, bias=False)\n",
       "              (v): Linear(in_features=768, out_features=768, bias=False)\n",
       "              (o): Linear(in_features=768, out_features=768, bias=False)\n",
       "            )\n",
       "            (layer_norm): T5LayerNorm()\n",
       "            (dropout): Dropout(p=0.1, inplace=False)\n",
       "          )\n",
       "          (2): T5LayerFF(\n",
       "            (DenseReluDense): T5DenseActDense(\n",
       "              (wi): Linear(in_features=768, out_features=3072, bias=False)\n",
       "              (wo): Linear(in_features=3072, out_features=768, bias=False)\n",
       "              (dropout): Dropout(p=0.1, inplace=False)\n",
       "              (act): ReLU()\n",
       "            )\n",
       "            (layer_norm): T5LayerNorm()\n",
       "            (dropout): Dropout(p=0.1, inplace=False)\n",
       "          )\n",
       "        )\n",
       "      )\n",
       "    )\n",
       "    (final_layer_norm): T5LayerNorm()\n",
       "    (dropout): Dropout(p=0.1, inplace=False)\n",
       "  )\n",
       "  (lm_head): Linear(in_features=768, out_features=32128, bias=False)\n",
       ")"
      ]
     },
     "execution_count": 3,
     "metadata": {},
     "output_type": "execute_result"
    }
   ],
   "source": [
    "# Initialize the model and tokenizer\n",
    "model_name = \"t5-base\"  # Use \"t5-base\" or \"t5-large\" if resources allow\n",
    "tokenizer = T5Tokenizer.from_pretrained(model_name)\n",
    "model = T5ForConditionalGeneration.from_pretrained(model_name)\n",
    "\n",
    "# Move model to GPU if available\n",
    "device = torch.device('cuda' if torch.cuda.is_available() else 'cpu')\n",
    "model.to(device)"
   ]
  },
  {
   "cell_type": "code",
   "execution_count": 4,
   "metadata": {},
   "outputs": [],
   "source": [
    "examples=dataset['validation']"
   ]
  },
  {
   "cell_type": "code",
   "execution_count": 5,
   "metadata": {},
   "outputs": [
    {
     "name": "stdout",
     "output_type": "stream",
     "text": [
      "A beaver is know for building prowess, their supplies come from where?\n",
      "['british columbia', 'body of water', 'wooded area', 'pay debts', 'zoo']\n"
     ]
    }
   ],
   "source": [
    "for q, choices in zip(examples['question'], examples['choices']):\n",
    "    print(q)\n",
    "    print(choices)\n",
    "    break"
   ]
  },
  {
   "cell_type": "code",
   "execution_count": 6,
   "metadata": {},
   "outputs": [],
   "source": [
    "x=[\"question: \" + q + \" answer: \" + \" \".join(choices) for q, choices in zip(examples['question'], examples['choices'])]"
   ]
  },
  {
   "cell_type": "code",
   "execution_count": 7,
   "metadata": {},
   "outputs": [
    {
     "data": {
      "text/plain": [
       "'wooded area'"
      ]
     },
     "execution_count": 7,
     "metadata": {},
     "output_type": "execute_result"
    }
   ],
   "source": [
    "examples['answer'][0]"
   ]
  },
  {
   "cell_type": "code",
   "execution_count": 8,
   "metadata": {},
   "outputs": [
    {
     "data": {
      "text/plain": [
       "'Wooden area is only the place for the beaver supplies.'"
      ]
     },
     "execution_count": 8,
     "metadata": {},
     "output_type": "execute_result"
    }
   ],
   "source": [
    "examples['abstractive_explanation'][0]"
   ]
  },
  {
   "cell_type": "code",
   "execution_count": 9,
   "metadata": {},
   "outputs": [
    {
     "data": {
      "text/plain": [
       "'question: A beaver is know for building prowess, their supplies come from where? answer: british columbia body of water wooded area pay debts zoo'"
      ]
     },
     "execution_count": 9,
     "metadata": {},
     "output_type": "execute_result"
    }
   ],
   "source": [
    "x[0]"
   ]
  },
  {
   "cell_type": "code",
   "execution_count": 10,
   "metadata": {},
   "outputs": [
    {
     "data": {
      "text/plain": [
       "'answer: wooded area explanation: Wooden area is only the place for the beaver supplies.'"
      ]
     },
     "execution_count": 10,
     "metadata": {},
     "output_type": "execute_result"
    }
   ],
   "source": [
    "\"answer: \" + examples['answer'][0] + \" explanation: \" + examples['abstractive_explanation'][0]"
   ]
  },
  {
   "cell_type": "code",
   "execution_count": 11,
   "metadata": {},
   "outputs": [],
   "source": [
    "    y = [\"answer: \" + answer + \" explanation: \" + explanation for answer, explanation in zip(examples['answer'], examples['abstractive_explanation'])]"
   ]
  },
  {
   "cell_type": "code",
   "execution_count": 12,
   "metadata": {},
   "outputs": [
    {
     "data": {
      "text/plain": [
       "'answer: wooded area explanation: Wooden area is only the place for the beaver supplies.'"
      ]
     },
     "execution_count": 12,
     "metadata": {},
     "output_type": "execute_result"
    }
   ],
   "source": [
    "y[0]"
   ]
  },
  {
   "cell_type": "code",
   "execution_count": 13,
   "metadata": {},
   "outputs": [],
   "source": [
    "# Preprocess the dataset\n",
    "def preprocess_function(examples):\n",
    "    inputs = [\"question: \" + q + \" answer: \" + \" \".join(choices) for q, choices in zip(examples['question'], examples['choices'])]\n",
    "    targets = [\"answer: \" + answer + \" explanation: \" + explanation for answer, explanation in zip(examples['answer'], examples['abstractive_explanation'])]\n",
    "    model_inputs = tokenizer(inputs, max_length=256, truncation=True, padding='max_length')\n",
    "    labels = tokenizer(targets, max_length=256, truncation=True, padding='max_length')\n",
    "    model_inputs['labels'] = labels['input_ids']\n",
    "    return model_inputs\n",
    "\n",
    "\n",
    "\n",
    "\n"
   ]
  },
  {
   "cell_type": "code",
   "execution_count": 14,
   "metadata": {},
   "outputs": [],
   "source": [
    "encoded_dataset = dataset.map(preprocess_function, batched=True)"
   ]
  },
  {
   "cell_type": "code",
   "execution_count": 15,
   "metadata": {},
   "outputs": [
    {
     "data": {
      "text/plain": [
       "Dataset({\n",
       "    features: ['id', 'question', 'choices', 'answer', 'abstractive_explanation', 'extractive_explanation', 'input_ids', 'attention_mask', 'labels'],\n",
       "    num_rows: 1221\n",
       "})"
      ]
     },
     "execution_count": 15,
     "metadata": {},
     "output_type": "execute_result"
    }
   ],
   "source": [
    "encoded_dataset['validation']"
   ]
  },
  {
   "cell_type": "code",
   "execution_count": 16,
   "metadata": {},
   "outputs": [
    {
     "data": {
      "text/plain": [
       "[1525,\n",
       " 10,\n",
       " 1679,\n",
       " 15,\n",
       " 26,\n",
       " 616,\n",
       " 7295,\n",
       " 10,\n",
       " 2985,\n",
       " 35,\n",
       " 616,\n",
       " 19,\n",
       " 163,\n",
       " 8,\n",
       " 286,\n",
       " 21,\n",
       " 8,\n",
       " 36,\n",
       " 9,\n",
       " 624,\n",
       " 4471,\n",
       " 5,\n",
       " 1,\n",
       " 0,\n",
       " 0,\n",
       " 0,\n",
       " 0,\n",
       " 0,\n",
       " 0,\n",
       " 0,\n",
       " 0,\n",
       " 0,\n",
       " 0,\n",
       " 0,\n",
       " 0,\n",
       " 0,\n",
       " 0,\n",
       " 0,\n",
       " 0,\n",
       " 0,\n",
       " 0,\n",
       " 0,\n",
       " 0,\n",
       " 0,\n",
       " 0,\n",
       " 0,\n",
       " 0,\n",
       " 0,\n",
       " 0,\n",
       " 0,\n",
       " 0,\n",
       " 0,\n",
       " 0,\n",
       " 0,\n",
       " 0,\n",
       " 0,\n",
       " 0,\n",
       " 0,\n",
       " 0,\n",
       " 0,\n",
       " 0,\n",
       " 0,\n",
       " 0,\n",
       " 0,\n",
       " 0,\n",
       " 0,\n",
       " 0,\n",
       " 0,\n",
       " 0,\n",
       " 0,\n",
       " 0,\n",
       " 0,\n",
       " 0,\n",
       " 0,\n",
       " 0,\n",
       " 0,\n",
       " 0,\n",
       " 0,\n",
       " 0,\n",
       " 0,\n",
       " 0,\n",
       " 0,\n",
       " 0,\n",
       " 0,\n",
       " 0,\n",
       " 0,\n",
       " 0,\n",
       " 0,\n",
       " 0,\n",
       " 0,\n",
       " 0,\n",
       " 0,\n",
       " 0,\n",
       " 0,\n",
       " 0,\n",
       " 0,\n",
       " 0,\n",
       " 0,\n",
       " 0,\n",
       " 0,\n",
       " 0,\n",
       " 0,\n",
       " 0,\n",
       " 0,\n",
       " 0,\n",
       " 0,\n",
       " 0,\n",
       " 0,\n",
       " 0,\n",
       " 0,\n",
       " 0,\n",
       " 0,\n",
       " 0,\n",
       " 0,\n",
       " 0,\n",
       " 0,\n",
       " 0,\n",
       " 0,\n",
       " 0,\n",
       " 0,\n",
       " 0,\n",
       " 0,\n",
       " 0,\n",
       " 0,\n",
       " 0,\n",
       " 0,\n",
       " 0,\n",
       " 0,\n",
       " 0,\n",
       " 0,\n",
       " 0,\n",
       " 0,\n",
       " 0,\n",
       " 0,\n",
       " 0,\n",
       " 0,\n",
       " 0,\n",
       " 0,\n",
       " 0,\n",
       " 0,\n",
       " 0,\n",
       " 0,\n",
       " 0,\n",
       " 0,\n",
       " 0,\n",
       " 0,\n",
       " 0,\n",
       " 0,\n",
       " 0,\n",
       " 0,\n",
       " 0,\n",
       " 0,\n",
       " 0,\n",
       " 0,\n",
       " 0,\n",
       " 0,\n",
       " 0,\n",
       " 0,\n",
       " 0,\n",
       " 0,\n",
       " 0,\n",
       " 0,\n",
       " 0,\n",
       " 0,\n",
       " 0,\n",
       " 0,\n",
       " 0,\n",
       " 0,\n",
       " 0,\n",
       " 0,\n",
       " 0,\n",
       " 0,\n",
       " 0,\n",
       " 0,\n",
       " 0,\n",
       " 0,\n",
       " 0,\n",
       " 0,\n",
       " 0,\n",
       " 0,\n",
       " 0,\n",
       " 0,\n",
       " 0,\n",
       " 0,\n",
       " 0,\n",
       " 0,\n",
       " 0,\n",
       " 0,\n",
       " 0,\n",
       " 0,\n",
       " 0,\n",
       " 0,\n",
       " 0,\n",
       " 0,\n",
       " 0,\n",
       " 0,\n",
       " 0,\n",
       " 0,\n",
       " 0,\n",
       " 0,\n",
       " 0,\n",
       " 0,\n",
       " 0,\n",
       " 0,\n",
       " 0,\n",
       " 0,\n",
       " 0,\n",
       " 0,\n",
       " 0,\n",
       " 0,\n",
       " 0,\n",
       " 0,\n",
       " 0,\n",
       " 0,\n",
       " 0,\n",
       " 0,\n",
       " 0,\n",
       " 0,\n",
       " 0,\n",
       " 0,\n",
       " 0,\n",
       " 0,\n",
       " 0,\n",
       " 0,\n",
       " 0,\n",
       " 0,\n",
       " 0,\n",
       " 0,\n",
       " 0,\n",
       " 0,\n",
       " 0,\n",
       " 0,\n",
       " 0,\n",
       " 0,\n",
       " 0,\n",
       " 0,\n",
       " 0,\n",
       " 0,\n",
       " 0,\n",
       " 0,\n",
       " 0,\n",
       " 0,\n",
       " 0,\n",
       " 0,\n",
       " 0,\n",
       " 0,\n",
       " 0,\n",
       " 0,\n",
       " 0,\n",
       " 0,\n",
       " 0,\n",
       " 0,\n",
       " 0,\n",
       " 0,\n",
       " 0,\n",
       " 0]"
      ]
     },
     "execution_count": 16,
     "metadata": {},
     "output_type": "execute_result"
    }
   ],
   "source": [
    "encoded_dataset['validation']['labels'][0]"
   ]
  },
  {
   "cell_type": "code",
   "execution_count": 17,
   "metadata": {},
   "outputs": [
    {
     "name": "stderr",
     "output_type": "stream",
     "text": [
      "2024-07-16 12:03:26.200816: I tensorflow/core/util/port.cc:153] oneDNN custom operations are on. You may see slightly different numerical results due to floating-point round-off errors from different computation orders. To turn them off, set the environment variable `TF_ENABLE_ONEDNN_OPTS=0`.\n",
      "2024-07-16 12:03:26.214548: E external/local_xla/xla/stream_executor/cuda/cuda_fft.cc:485] Unable to register cuFFT factory: Attempting to register factory for plugin cuFFT when one has already been registered\n",
      "2024-07-16 12:03:26.230434: E external/local_xla/xla/stream_executor/cuda/cuda_dnn.cc:8454] Unable to register cuDNN factory: Attempting to register factory for plugin cuDNN when one has already been registered\n",
      "2024-07-16 12:03:26.234880: E external/local_xla/xla/stream_executor/cuda/cuda_blas.cc:1452] Unable to register cuBLAS factory: Attempting to register factory for plugin cuBLAS when one has already been registered\n",
      "2024-07-16 12:03:26.247597: I tensorflow/core/platform/cpu_feature_guard.cc:210] This TensorFlow binary is optimized to use available CPU instructions in performance-critical operations.\n",
      "To enable the following instructions: AVX2 AVX512F AVX512_VNNI FMA, in other operations, rebuild TensorFlow with the appropriate compiler flags.\n",
      "2024-07-16 12:03:27.237943: W tensorflow/compiler/tf2tensorrt/utils/py_utils.cc:38] TF-TRT Warning: Could not find TensorRT\n"
     ]
    },
    {
     "data": {
      "text/plain": [
       "['answer',\n",
       " ':',\n",
       " 'wood',\n",
       " 'e',\n",
       " 'd',\n",
       " 'area',\n",
       " 'explanation',\n",
       " ':',\n",
       " 'Wood',\n",
       " 'en',\n",
       " 'area',\n",
       " 'is',\n",
       " 'only',\n",
       " 'the',\n",
       " 'place',\n",
       " 'for',\n",
       " 'the',\n",
       " 'be',\n",
       " 'a',\n",
       " 'ver',\n",
       " 'supplies',\n",
       " '.',\n",
       " '</s>',\n",
       " '<pad>',\n",
       " '<pad>',\n",
       " '<pad>',\n",
       " '<pad>',\n",
       " '<pad>',\n",
       " '<pad>',\n",
       " '<pad>',\n",
       " '<pad>',\n",
       " '<pad>',\n",
       " '<pad>',\n",
       " '<pad>',\n",
       " '<pad>',\n",
       " '<pad>',\n",
       " '<pad>',\n",
       " '<pad>',\n",
       " '<pad>',\n",
       " '<pad>',\n",
       " '<pad>',\n",
       " '<pad>',\n",
       " '<pad>',\n",
       " '<pad>',\n",
       " '<pad>',\n",
       " '<pad>',\n",
       " '<pad>',\n",
       " '<pad>',\n",
       " '<pad>',\n",
       " '<pad>',\n",
       " '<pad>',\n",
       " '<pad>',\n",
       " '<pad>',\n",
       " '<pad>',\n",
       " '<pad>',\n",
       " '<pad>',\n",
       " '<pad>',\n",
       " '<pad>',\n",
       " '<pad>',\n",
       " '<pad>',\n",
       " '<pad>',\n",
       " '<pad>',\n",
       " '<pad>',\n",
       " '<pad>',\n",
       " '<pad>',\n",
       " '<pad>',\n",
       " '<pad>',\n",
       " '<pad>',\n",
       " '<pad>',\n",
       " '<pad>',\n",
       " '<pad>',\n",
       " '<pad>',\n",
       " '<pad>',\n",
       " '<pad>',\n",
       " '<pad>',\n",
       " '<pad>',\n",
       " '<pad>',\n",
       " '<pad>',\n",
       " '<pad>',\n",
       " '<pad>',\n",
       " '<pad>',\n",
       " '<pad>',\n",
       " '<pad>',\n",
       " '<pad>',\n",
       " '<pad>',\n",
       " '<pad>',\n",
       " '<pad>',\n",
       " '<pad>',\n",
       " '<pad>',\n",
       " '<pad>',\n",
       " '<pad>',\n",
       " '<pad>',\n",
       " '<pad>',\n",
       " '<pad>',\n",
       " '<pad>',\n",
       " '<pad>',\n",
       " '<pad>',\n",
       " '<pad>',\n",
       " '<pad>',\n",
       " '<pad>',\n",
       " '<pad>',\n",
       " '<pad>',\n",
       " '<pad>',\n",
       " '<pad>',\n",
       " '<pad>',\n",
       " '<pad>',\n",
       " '<pad>',\n",
       " '<pad>',\n",
       " '<pad>',\n",
       " '<pad>',\n",
       " '<pad>',\n",
       " '<pad>',\n",
       " '<pad>',\n",
       " '<pad>',\n",
       " '<pad>',\n",
       " '<pad>',\n",
       " '<pad>',\n",
       " '<pad>',\n",
       " '<pad>',\n",
       " '<pad>',\n",
       " '<pad>',\n",
       " '<pad>',\n",
       " '<pad>',\n",
       " '<pad>',\n",
       " '<pad>',\n",
       " '<pad>',\n",
       " '<pad>',\n",
       " '<pad>',\n",
       " '<pad>',\n",
       " '<pad>',\n",
       " '<pad>',\n",
       " '<pad>',\n",
       " '<pad>',\n",
       " '<pad>',\n",
       " '<pad>',\n",
       " '<pad>',\n",
       " '<pad>',\n",
       " '<pad>',\n",
       " '<pad>',\n",
       " '<pad>',\n",
       " '<pad>',\n",
       " '<pad>',\n",
       " '<pad>',\n",
       " '<pad>',\n",
       " '<pad>',\n",
       " '<pad>',\n",
       " '<pad>',\n",
       " '<pad>',\n",
       " '<pad>',\n",
       " '<pad>',\n",
       " '<pad>',\n",
       " '<pad>',\n",
       " '<pad>',\n",
       " '<pad>',\n",
       " '<pad>',\n",
       " '<pad>',\n",
       " '<pad>',\n",
       " '<pad>',\n",
       " '<pad>',\n",
       " '<pad>',\n",
       " '<pad>',\n",
       " '<pad>',\n",
       " '<pad>',\n",
       " '<pad>',\n",
       " '<pad>',\n",
       " '<pad>',\n",
       " '<pad>',\n",
       " '<pad>',\n",
       " '<pad>',\n",
       " '<pad>',\n",
       " '<pad>',\n",
       " '<pad>',\n",
       " '<pad>',\n",
       " '<pad>',\n",
       " '<pad>',\n",
       " '<pad>',\n",
       " '<pad>',\n",
       " '<pad>',\n",
       " '<pad>',\n",
       " '<pad>',\n",
       " '<pad>',\n",
       " '<pad>',\n",
       " '<pad>',\n",
       " '<pad>',\n",
       " '<pad>',\n",
       " '<pad>',\n",
       " '<pad>',\n",
       " '<pad>',\n",
       " '<pad>',\n",
       " '<pad>',\n",
       " '<pad>',\n",
       " '<pad>',\n",
       " '<pad>',\n",
       " '<pad>',\n",
       " '<pad>',\n",
       " '<pad>',\n",
       " '<pad>',\n",
       " '<pad>',\n",
       " '<pad>',\n",
       " '<pad>',\n",
       " '<pad>',\n",
       " '<pad>',\n",
       " '<pad>',\n",
       " '<pad>',\n",
       " '<pad>',\n",
       " '<pad>',\n",
       " '<pad>',\n",
       " '<pad>',\n",
       " '<pad>',\n",
       " '<pad>',\n",
       " '<pad>',\n",
       " '<pad>',\n",
       " '<pad>',\n",
       " '<pad>',\n",
       " '<pad>',\n",
       " '<pad>',\n",
       " '<pad>',\n",
       " '<pad>',\n",
       " '<pad>',\n",
       " '<pad>',\n",
       " '<pad>',\n",
       " '<pad>',\n",
       " '<pad>',\n",
       " '<pad>',\n",
       " '<pad>',\n",
       " '<pad>',\n",
       " '<pad>',\n",
       " '<pad>',\n",
       " '<pad>',\n",
       " '<pad>',\n",
       " '<pad>',\n",
       " '<pad>',\n",
       " '<pad>',\n",
       " '<pad>',\n",
       " '<pad>',\n",
       " '<pad>',\n",
       " '<pad>',\n",
       " '<pad>',\n",
       " '<pad>',\n",
       " '<pad>',\n",
       " '<pad>',\n",
       " '<pad>',\n",
       " '<pad>',\n",
       " '<pad>',\n",
       " '<pad>',\n",
       " '<pad>',\n",
       " '<pad>',\n",
       " '<pad>',\n",
       " '<pad>',\n",
       " '<pad>',\n",
       " '<pad>',\n",
       " '<pad>',\n",
       " '<pad>',\n",
       " '<pad>',\n",
       " '<pad>',\n",
       " '<pad>']"
      ]
     },
     "execution_count": 17,
     "metadata": {},
     "output_type": "execute_result"
    }
   ],
   "source": [
    "tokenizer.batch_decode(encoded_dataset['validation']['labels'][0], skip_special_tokens=True)"
   ]
  },
  {
   "cell_type": "code",
   "execution_count": 18,
   "metadata": {},
   "outputs": [],
   "source": [
    "from torch.utils.data import DataLoader\n",
    "\n",
    "# Convert dataset to PyTorch tensors\n",
    "encoded_dataset.set_format(type='torch', columns=['input_ids', 'attention_mask', 'labels'])\n",
    "\n",
    "# Create DataLoaders\n",
    "train_loader = DataLoader(encoded_dataset['train'], batch_size=16, shuffle=True)\n",
    "val_loader = DataLoader(encoded_dataset['validation'], batch_size=16)\n"
   ]
  },
  {
   "cell_type": "code",
   "execution_count": 22,
   "metadata": {},
   "outputs": [],
   "source": [
    "# # Create DataLoaders\n",
    "# train_dataset = encoded_dataset['train']\n",
    "# val_dataset = encoded_dataset['validation']\n",
    "# train_loader = DataLoader(train_dataset, batch_size=4, shuffle=True)\n",
    "# val_loader = DataLoader(val_dataset, batch_size=4)"
   ]
  },
  {
   "cell_type": "code",
   "execution_count": 22,
   "metadata": {},
   "outputs": [
    {
     "name": "stderr",
     "output_type": "stream",
     "text": [
      "/home/manavi/myenv/lib/python3.9/site-packages/transformers/optimization.py:591: FutureWarning: This implementation of AdamW is deprecated and will be removed in a future version. Use the PyTorch implementation torch.optim.AdamW instead, or set `no_deprecation_warning=True` to disable this warning\n",
      "  warnings.warn(\n"
     ]
    }
   ],
   "source": [
    "# Initialize optimizer\n",
    "optimizer = AdamW(model.parameters(), lr=5e-5)"
   ]
  },
  {
   "cell_type": "code",
   "execution_count": 19,
   "metadata": {},
   "outputs": [],
   "source": [
    "# Training loop\n",
    "def train_loop(model, loader, optimizer, accumulation_steps=2):\n",
    "    model.train()\n",
    "    batch_losses = []\n",
    "    optimizer.zero_grad()\n",
    "\n",
    "    for i, batch in enumerate(tqdm(loader, desc='Training:')):\n",
    "        inputs = {k: v.to(device) for k, v in batch.items() if k != 'labels'}\n",
    "        labels = batch['labels'].to(device)\n",
    "        outputs = model(input_ids=inputs['input_ids'], attention_mask=inputs['attention_mask'], labels=labels)\n",
    "        loss = outputs.loss / accumulation_steps  # normalize loss\n",
    "\n",
    "        batch_loss_value = loss.item() * accumulation_steps  # convert to original loss value for logging\n",
    "        loss.backward()\n",
    "\n",
    "        if (i + 1) % accumulation_steps == 0:  # update weights every accumulation_steps mini-batches\n",
    "            optimizer.step()\n",
    "            optimizer.zero_grad()  # reset gradients\n",
    "\n",
    "        batch_losses.append(batch_loss_value)\n",
    "\n",
    "    # Update remaining gradients if the number of batches is not a multiple of accumulation_steps\n",
    "    if len(loader) % accumulation_steps != 0:\n",
    "        optimizer.step()\n",
    "        optimizer.zero_grad()\n",
    "\n",
    "    loss_value = sum(batch_losses) / len(batch_losses)\n",
    "    return {'train_loss': loss_value}\n",
    "\n",
    "# # Validation loop\n",
    "# def validate_loop(model, loader):\n",
    "#     model.eval()\n",
    "#     batch_losses = []\n",
    "\n",
    "#     with torch.no_grad():\n",
    "#         for batch in tqdm(loader, desc='Validation:'):\n",
    "#             inputs = {k: v.to(device) for k, v in batch.items() if k != 'labels'}\n",
    "#             labels = batch['labels'].to(device)\n",
    "#             outputs = model(input_ids=inputs['input_ids'], attention_mask=inputs['attention_mask'], labels=labels)\n",
    "#             loss = outputs.loss\n",
    "\n",
    "#             batch_losses.append(loss.item())\n",
    "\n",
    "#     loss_value = sum(batch_losses) / len(batch_losses)\n",
    "#     return {'val_loss': loss_value}\n",
    "\n",
    "\n"
   ]
  },
  {
   "cell_type": "markdown",
   "metadata": {},
   "source": [
    "***************"
   ]
  },
  {
   "cell_type": "code",
   "execution_count": 25,
   "metadata": {},
   "outputs": [],
   "source": [
    "# def validate_loop(model, loader):\n",
    "#     model.eval()\n",
    "#     batch_losses = []\n",
    "\n",
    "#     with torch.no_grad():\n",
    "#         for batch in tqdm(loader, desc='Validation:'):\n",
    "#             inputs = {k: v.to(device) for k, v in batch.items() if k != 'labels'}\n",
    "#             labels = batch['labels'].to(device)\n",
    "#             outputs = model(input_ids=inputs['input_ids'], attention_mask=inputs['attention_mask'], labels=labels)\n",
    "#             loss = outputs.loss\n",
    "\n",
    "#             # Generate predictions\n",
    "#             predictions = model.generate(inputs['input_ids'], attention_mask=inputs['attention_mask'], max_length=512)\n",
    "\n",
    "#             # Decode predictions\n",
    "#             decoded_preds = tokenizer.batch_decode(predictions, skip_special_tokens=True)\n",
    "#             decoded_labels = tokenizer.batch_decode(labels, skip_special_tokens=True)\n",
    "\n",
    "#             # Print decoded predictions and labels for debugging\n",
    "#             print(f\"Decoded predictions: {decoded_preds}\")\n",
    "#             print(f\"Decoded labels: {decoded_labels}\")\n",
    "\n",
    "#             batch_losses.append(loss.item())\n",
    "\n",
    "#     loss_value = sum(batch_losses) / len(batch_losses)\n",
    "#     return {'val_loss': loss_value}\n"
   ]
  },
  {
   "cell_type": "markdown",
   "metadata": {},
   "source": [
    "***************"
   ]
  },
  {
   "cell_type": "markdown",
   "metadata": {},
   "source": [
    "just add accuracy validation"
   ]
  },
  {
   "cell_type": "code",
   "execution_count": 26,
   "metadata": {},
   "outputs": [],
   "source": [
    "# import numpy as np\n",
    "# from tqdm import tqdm\n",
    "# from datasets import load_metric\n",
    "\n",
    "# # Load metrics\n",
    "# accuracy_metric = load_metric(\"accuracy\")\n",
    "\n",
    "# def validate_loop(model, loader):\n",
    "#     model.eval()\n",
    "#     batch_losses = []\n",
    "#     accuracy_preds = []\n",
    "#     accuracy_labels = []\n",
    "\n",
    "#     with torch.no_grad():\n",
    "#         for batch in tqdm(loader, desc='Validation:'):\n",
    "#             inputs = {k: v.to(device) for k, v in batch.items() if k != 'labels'}\n",
    "#             labels = batch['labels'].to(device)\n",
    "#             outputs = model(input_ids=inputs['input_ids'], attention_mask=inputs['attention_mask'], labels=labels)\n",
    "#             loss = outputs.loss\n",
    "\n",
    "#             # Generate predictions\n",
    "#             predictions = model.generate(inputs['input_ids'], attention_mask=inputs['attention_mask'], max_length=512)\n",
    "\n",
    "#             # Decode predictions and labels\n",
    "#             decoded_preds = tokenizer.batch_decode(predictions, skip_special_tokens=True)\n",
    "#             decoded_labels = tokenizer.batch_decode(labels, skip_special_tokens=True)\n",
    "\n",
    "#             # Print decoded predictions and labels for debugging\n",
    "#             print(f\"Decoded predictions: {decoded_preds}\")\n",
    "#             print(f\"Decoded labels: {decoded_labels}\")\n",
    "\n",
    "#             # Extract the answers from decoded predictions and labels\n",
    "#             extracted_preds = [pred.split('answer: ')[1].split(' ')[0] for pred in decoded_preds if 'answer: ' in pred]\n",
    "#             extracted_labels = [label.split('answer: ')[1].split(' ')[0] for label in decoded_labels if 'answer: ' in label]\n",
    "#             print(f\"extracted_preds: {extracted_preds}\")\n",
    "#             print(f\"extracted_labels:  {extracted_labels}\")\n",
    "#             # Ensure lengths match for accuracy calculation\n",
    "#             if len(extracted_preds) == len(extracted_labels):\n",
    "#                 accuracy_preds.extend(extracted_preds)\n",
    "#                 accuracy_labels.extend(extracted_labels)\n",
    "\n",
    "#             batch_losses.append(loss.item())\n",
    "\n",
    "#     # Calculate accuracy\n",
    "#     accuracy = accuracy_metric.compute(predictions=accuracy_preds, references=accuracy_labels)\n",
    "#     loss_value = sum(batch_losses) / len(batch_losses)\n",
    "\n",
    "#     return {'val_loss': loss_value, 'accuracy': accuracy['accuracy']}\n"
   ]
  },
  {
   "cell_type": "markdown",
   "metadata": {},
   "source": [
    "that's correct"
   ]
  },
  {
   "cell_type": "markdown",
   "metadata": {},
   "source": [
    "add accuracy version 2(customized acc metric)"
   ]
  },
  {
   "cell_type": "code",
   "execution_count": 27,
   "metadata": {},
   "outputs": [
    {
     "name": "stderr",
     "output_type": "stream",
     "text": [
      "Training::   0%|          | 0/609 [00:00<?, ?it/s]"
     ]
    },
    {
     "name": "stderr",
     "output_type": "stream",
     "text": [
      "Training:: 100%|██████████| 609/609 [06:21<00:00,  1.60it/s]\n",
      "Validation:: 100%|██████████| 77/77 [02:07<00:00,  1.65s/it]\n"
     ]
    },
    {
     "name": "stdout",
     "output_type": "stream",
     "text": [
      "Epoch 1/3\n",
      "Train Loss: 0.7436\n",
      "Validation Loss: 0.1424\n",
      "Validation Accuracy: 0.2817\n"
     ]
    },
    {
     "name": "stderr",
     "output_type": "stream",
     "text": [
      "Training:: 100%|██████████| 609/609 [06:23<00:00,  1.59it/s]\n",
      "Validation:: 100%|██████████| 77/77 [01:22<00:00,  1.07s/it]\n"
     ]
    },
    {
     "name": "stdout",
     "output_type": "stream",
     "text": [
      "Epoch 2/3\n",
      "Train Loss: 0.1396\n",
      "Validation Loss: 0.1274\n",
      "Validation Accuracy: 0.3446\n"
     ]
    },
    {
     "name": "stderr",
     "output_type": "stream",
     "text": [
      "Training:: 100%|██████████| 609/609 [06:24<00:00,  1.59it/s]\n",
      "Validation:: 100%|██████████| 77/77 [01:18<00:00,  1.03s/it]"
     ]
    },
    {
     "name": "stdout",
     "output_type": "stream",
     "text": [
      "Epoch 3/3\n",
      "Train Loss: 0.1264\n",
      "Validation Loss: 0.1218\n",
      "Validation Accuracy: 0.3604\n"
     ]
    },
    {
     "name": "stderr",
     "output_type": "stream",
     "text": [
      "\n"
     ]
    }
   ],
   "source": [
    "def validate_loop(model, loader):\n",
    "    model.eval()\n",
    "    batch_losses = []\n",
    "    accuracy_preds = []\n",
    "    accuracy_labels = []\n",
    "\n",
    "    with torch.no_grad():\n",
    "        for batch in tqdm(loader, desc='Validation:'):\n",
    "            inputs = {k: v.to(device) for k, v in batch.items() if k != 'labels'}\n",
    "            labels = batch['labels'].to(device)\n",
    "            outputs = model(input_ids=inputs['input_ids'], attention_mask=inputs['attention_mask'], labels=labels)\n",
    "            loss = outputs.loss\n",
    "\n",
    "            # Generate predictions\n",
    "            predictions = model.generate(inputs['input_ids'], attention_mask=inputs['attention_mask'], max_length=512)\n",
    "\n",
    "            # Decode predictions and labels\n",
    "            decoded_preds = tokenizer.batch_decode(predictions, skip_special_tokens=True)\n",
    "            decoded_labels = tokenizer.batch_decode(labels, skip_special_tokens=True)\n",
    "\n",
    "            # Print decoded predictions and labels for debugging\n",
    "            # print(\"Decoded predictions:\")\n",
    "            # for pred in decoded_preds:\n",
    "            #     print(f\"'{pred}'\")\n",
    "            # print(\"Decoded labels:\")\n",
    "            # for label in decoded_labels:\n",
    "            #     print(f\"'{label}'\")\n",
    "\n",
    "            # # Extract the answers from decoded predictions and labels\n",
    "            # extracted_preds = [pred.strip().split('.')[0] for pred in decoded_preds if pred.strip()]\n",
    "            # extracted_labels = [label.strip().split('.')[0] for label in decoded_labels if label.strip()]\n",
    "            # Extract the answers from decoded predictions and labels\n",
    "            extracted_preds = [pred.split('answer: ')[1].split(' ')[0] for pred in decoded_preds if 'answer: ' in pred]\n",
    "            extracted_labels = [label.split('answer: ')[1].split(' ')[0] for label in decoded_labels if 'answer: ' in label]\n",
    "            # Ensure lengths match for accuracy calculation\n",
    "            if len(extracted_preds) == len(extracted_labels):\n",
    "                accuracy_preds.extend(extracted_preds)\n",
    "                accuracy_labels.extend(extracted_labels)\n",
    "\n",
    "            batch_losses.append(loss.item())\n",
    "\n",
    "    # Calculate accuracy\n",
    "    correct = sum(p == l for p, l in zip(accuracy_preds, accuracy_labels))\n",
    "    accuracy = correct / len(accuracy_preds) if accuracy_preds else 0.0\n",
    "    loss_value = sum(batch_losses) / len(batch_losses)\n",
    "\n",
    "    return {'val_loss': loss_value, 'accuracy': accuracy}\n",
    "\n",
    "# Training and validation\n",
    "num_epochs = 3\n",
    "for epoch in range(num_epochs):\n",
    "    train_metrics = train_loop(model, train_loader, optimizer)\n",
    "    val_metrics = validate_loop(model, val_loader)\n",
    "\n",
    "    print(f\"Epoch {epoch + 1}/{num_epochs}\")\n",
    "    print(f\"Train Loss: {train_metrics['train_loss']:.4f}\")\n",
    "    print(f\"Validation Loss: {val_metrics['val_loss']:.4f}\")\n",
    "    print(f\"Validation Accuracy: {val_metrics['accuracy']:.4f}\")\n",
    "\n"
   ]
  },
  {
   "cell_type": "markdown",
   "metadata": {},
   "source": [
    "add bert score for explanation"
   ]
  },
  {
   "cell_type": "code",
   "execution_count": null,
   "metadata": {},
   "outputs": [],
   "source": [
    "# import bert_score\n",
    "# from datasets import load_metric\n",
    "\n",
    "# # Load metrics\n",
    "# accuracy_metric = load_metric(\"accuracy\")\n",
    "\n",
    "# # Training loop\n",
    "# def train_loop(model, loader, optimizer, accumulation_steps=16):\n",
    "#     model.train()\n",
    "#     batch_losses = []\n",
    "#     optimizer.zero_grad()\n",
    "\n",
    "#     for i, batch in enumerate(tqdm(loader, desc='Training:')):\n",
    "#         inputs = {k: v.to(device) for k, v in batch.items() if k != 'labels'}\n",
    "#         labels = batch['labels'].to(device)\n",
    "\n",
    "#         outputs = model(input_ids=inputs['input_ids'], attention_mask=inputs['attention_mask'], labels=labels)\n",
    "#         loss = outputs.loss / accumulation_steps  # normalize loss\n",
    "\n",
    "#         batch_loss_value = loss.item() * accumulation_steps  # convert to original loss value for logging\n",
    "#         loss.backward()\n",
    "\n",
    "#         if (i + 1) % accumulation_steps == 0:  # update weights every accumulation_steps mini-batches\n",
    "#             optimizer.step()\n",
    "#             optimizer.zero_grad()  # reset gradients\n",
    "\n",
    "#         batch_losses.append(batch_loss_value)\n",
    "\n",
    "#     # Update remaining gradients if the number of batches is not a multiple of accumulation_steps\n",
    "#     if len(loader) % accumulation_steps != 0:\n",
    "#         optimizer.step()\n",
    "#         optimizer.zero_grad()\n",
    "\n",
    "#     loss_value = sum(batch_losses) / len(batch_losses)\n",
    "#     return {'train_loss': loss_value}\n",
    "\n",
    "# # Validation loop\n",
    "# def validate_loop(model, loader):\n",
    "#     model.eval()\n",
    "#     batch_losses = []\n",
    "#     accuracy_preds = []\n",
    "#     accuracy_labels = []\n",
    "#     explanations_preds = []\n",
    "#     explanations_labels = []\n",
    "\n",
    "#     with torch.no_grad():\n",
    "#         for batch in tqdm(loader, desc='Validation:'):\n",
    "#             inputs = {k: v.to(device) for k, v in batch.items() if k != 'labels'}\n",
    "#             labels = batch['labels'].to(device)\n",
    "#             outputs = model(input_ids=inputs['input_ids'], attention_mask=inputs['attention_mask'], labels=labels)\n",
    "#             loss = outputs.loss\n",
    "\n",
    "#             # Generate predictions\n",
    "#             predictions = model.generate(inputs['input_ids'], attention_mask=inputs['attention_mask'], max_length=512)\n",
    "\n",
    "#             # Decode predictions and labels\n",
    "#             decoded_preds = tokenizer.batch_decode(predictions, skip_special_tokens=True)\n",
    "#             decoded_labels = tokenizer.batch_decode(labels, skip_special_tokens=True)\n",
    "\n",
    "#             # Print decoded predictions and labels for debugging\n",
    "#             print(\"Decoded predictions:\")\n",
    "#             for pred in decoded_preds:\n",
    "#                 print(f\"'{pred}'\")\n",
    "#             print(\"Decoded labels:\")\n",
    "#             for label in decoded_labels:\n",
    "#                 print(f\"'{label}'\")\n",
    "\n",
    "#             # Extract the answers from decoded predictions and labels\n",
    "#             # extracted_preds = [pred.strip().split('.')[0] for pred in decoded_preds if pred.strip()]\n",
    "#             # extracted_labels = [label.strip().split('.')[0] for label in decoded_labels if label.strip()]\n",
    "\n",
    "#             extracted_preds = [pred.split('answer: ')[1].split(' ')[0] for pred in decoded_preds if 'answer: ' in pred]\n",
    "#             extracted_labels = [label.split('answer: ')[1].split(' ')[0] for label in decoded_labels if 'answer: ' in label]\n",
    "            \n",
    "#             # Ensure lengths match for accuracy calculation\n",
    "#             if len(extracted_preds) == len(extracted_labels):\n",
    "#                 accuracy_preds.extend(extracted_preds)\n",
    "#                 accuracy_labels.extend(extracted_labels)\n",
    "\n",
    "#             # Collect explanations for BERTScore\n",
    "            \n",
    "#             # explanations_preds.extend(decoded_preds)\n",
    "#             # explanations_labels.extend(decoded_labels)\n",
    "#             explanations_preds = [pred.split('explanation: ')[1].split(' ')[0] for pred in decoded_preds if 'explanation: ' in pred]\n",
    "#             explanations_labels = [label.split('explanation: ')[1].split(' ')[0] for label in decoded_labels if 'explanation: ' in label]\n",
    "\n",
    "#             batch_losses.append(loss.item())\n",
    "\n",
    "#     # Calculate accuracy\n",
    "#     correct = sum(p == l for p, l in zip(accuracy_preds, accuracy_labels))\n",
    "#     accuracy = correct / len(accuracy_preds) if accuracy_preds else 0.0\n",
    "#     loss_value = sum(batch_losses) / len(batch_losses)\n",
    "\n",
    "#     # Calculate BERTScore\n",
    "#     P, R, F1 = bert_score.score(explanations_preds, explanations_labels, lang=\"en\", rescale_with_baseline=True)\n",
    "#     bertscore_avg = F1.mean().item()\n",
    "\n",
    "#     return {'val_loss': loss_value, 'accuracy': accuracy, 'bertscore': bertscore_avg}\n",
    "\n",
    "# # Training and validation\n",
    "# num_epochs = 3\n",
    "# for epoch in range(num_epochs):\n",
    "#     train_metrics = train_loop(model, train_loader, optimizer)\n",
    "#     val_metrics = validate_loop(model, val_loader)\n",
    "\n",
    "#     print(f\"Epoch {epoch + 1}/{num_epochs}\")\n",
    "#     print(f\"Train Loss: {train_metrics['train_loss']:.4f}\")\n",
    "#     print(f\"Validation Loss: {val_metrics['val_loss']:.4f}\")\n",
    "#     print(f\"Validation Accuracy: {val_metrics['accuracy']:.4f}\")\n",
    "#     print(f\"Validation BERTScore: {val_metrics['bertscore']:.4f}\")\n",
    "\n",
    "\n"
   ]
  },
  {
   "cell_type": "markdown",
   "metadata": {},
   "source": [
    "above code has problem,decode predictions has empty"
   ]
  },
  {
   "cell_type": "code",
   "execution_count": 1,
   "metadata": {},
   "outputs": [],
   "source": [
    "\n",
    "# # Validation loop with BERTScore for explanations and predictions\n",
    "# def validate_loop(model, loader):\n",
    "#     model.eval()\n",
    "#     batch_losses = []\n",
    "#     accuracy_preds = []\n",
    "#     accuracy_labels = []\n",
    "#     explanations_preds = []\n",
    "#     explanations_labels = []\n",
    "\n",
    "#     with torch.no_grad():\n",
    "#         for batch in tqdm(loader, desc='Validation:'):\n",
    "#             inputs = {k: v.to(device) for k, v in batch.items() if k != 'labels'}\n",
    "#             labels = batch['labels'].to(device)\n",
    "#             outputs = model(input_ids=inputs['input_ids'], attention_mask=inputs['attention_mask'], labels=labels)\n",
    "#             loss = outputs.loss\n",
    "\n",
    "#             # Generate predictions\n",
    "#             predictions = model.generate(inputs['input_ids'], attention_mask=inputs['attention_mask'], max_length=512)\n",
    "\n",
    "#             # Decode predictions and labels\n",
    "#             decoded_preds = tokenizer.batch_decode(predictions, skip_special_tokens=True)\n",
    "#             decoded_labels = tokenizer.batch_decode(labels, skip_special_tokens=True)\n",
    "\n",
    "#             # Print decoded predictions and labels for debugging\n",
    "#             print(\"Decoded predictions:\")\n",
    "#             for pred in decoded_preds:\n",
    "#                 print(f\"'{pred}'\")\n",
    "#             print(\"Decoded labels:\")\n",
    "#             for label in decoded_labels:\n",
    "#                 print(f\"'{label}'\")\n",
    "\n",
    "#             # Extract the answers from decoded predictions and labels\n",
    "#             extracted_preds = [pred.split('answer: ')[1].split(' ')[0] for pred in decoded_preds if 'answer: ' in pred]\n",
    "#             extracted_labels = [label.split('answer: ')[1].split(' ')[0] for label in decoded_labels if 'answer: ' in label]\n",
    "\n",
    "#             # Ensure lengths match for accuracy calculation\n",
    "#             if len(extracted_preds) == len(extracted_labels):\n",
    "#                 accuracy_preds.extend(extracted_preds)\n",
    "#                 accuracy_labels.extend(extracted_labels)\n",
    "\n",
    "#             # Collect explanations for BERTScore\n",
    "#             # explanations_preds.extend(decoded_preds)\n",
    "#             # explanations_labels.extend(decoded_labels)\n",
    "#             explanations_preds = [pred.split('explanation: ')[1].split(' ')[0] for pred in decoded_preds if 'explanation: ' in pred]\n",
    "#             explanations_labels = [label.split('explanation: ')[1].split(' ')[0] for label in decoded_labels if 'explanation: ' in label]\n",
    "\n",
    "#             batch_losses.append(loss.item())\n",
    "\n",
    "#     # Calculate BERTScore for answers (accuracy_preds and accuracy_labels)\n",
    "#     P_ans, R_ans, F1_ans = bert_score.score(accuracy_preds, accuracy_labels, lang=\"en\", rescale_with_baseline=True)\n",
    "#     bertscore_ans_avg = F1_ans.mean().item()\n",
    "\n",
    "#     # Calculate BERTScore for explanations (explanations_preds and explanations_labels)\n",
    "#     P_exp, R_exp, F1_exp = bert_score.score(explanations_preds, explanations_labels, lang=\"en\", rescale_with_baseline=True)\n",
    "#     bertscore_exp_avg = F1_exp.mean().item()\n",
    "\n",
    "#     loss_value = sum(batch_losses) / len(batch_losses)\n",
    "\n",
    "#     return {'val_loss': loss_value, 'bertscore_ans': bertscore_ans_avg, 'bertscore_exp': bertscore_exp_avg}\n",
    "\n",
    "# # Training and validation\n",
    "# num_epochs = 3\n",
    "# for epoch in range(num_epochs):\n",
    "#     train_metrics = train_loop(model, train_loader, optimizer)\n",
    "#     val_metrics = validate_loop(model, val_loader)\n",
    "\n",
    "#     print(f\"Epoch {epoch + 1}/{num_epochs}\")\n",
    "#     print(f\"Train Loss: {train_metrics['train_loss']:.4f}\")\n",
    "#     print(f\"Validation Loss: {val_metrics['val_loss']:.4f}\")\n",
    "#     print(f\"Validation BERTScore (Answers): {val_metrics['bertscore_ans']:.4f}\")\n",
    "#     print(f\"Validation BERTScore (Explanations): {val_metrics['bertscore_exp']:.4f}\")\n"
   ]
  },
  {
   "cell_type": "markdown",
   "metadata": {},
   "source": [
    "توی پردیکشن ها جمله خالی هم هست."
   ]
  },
  {
   "cell_type": "code",
   "execution_count": 20,
   "metadata": {},
   "outputs": [
    {
     "name": "stdout",
     "output_type": "stream",
     "text": [
      "['The capital of France is Paris.', 'The quick brown fox jumps over the lazy dog.', 'Artificial intelligence is transforming the world.']\n"
     ]
    }
   ],
   "source": [
    "def convert_to_sentences(list_of_lists):\n",
    "    sentences = [' '.join(inner_list) for inner_list in list_of_lists]\n",
    "    return sentences\n",
    "\n",
    "# Example usage\n",
    "list_of_lists = [\n",
    "    [\"The\", \"capital\", \"of\", \"France\", \"is\", \"Paris.\"],\n",
    "    [\"The\", \"quick\", \"brown\", \"fox\", \"jumps\", \"over\", \"the\", \"lazy\", \"dog.\"],\n",
    "    [\"Artificial\", \"intelligence\", \"is\", \"transforming\", \"the\", \"world.\"]\n",
    "]\n",
    "\n",
    "sentences = convert_to_sentences(list_of_lists)\n",
    "print(sentences)\n"
   ]
  },
  {
   "cell_type": "code",
   "execution_count": null,
   "metadata": {},
   "outputs": [],
   "source": [
    "import bert_score\n",
    "from datasets import load_metric\n",
    "def validate_loop(model, loader):\n",
    "    model.eval()\n",
    "    batch_losses = []\n",
    "    accuracy_preds = []\n",
    "    accuracy_labels = []\n",
    "\n",
    "    with torch.no_grad():\n",
    "        for batch in tqdm(loader, desc='Validation:'):\n",
    "            inputs = {k: v.to(device) for k, v in batch.items() if k != 'labels'}\n",
    "            labels = batch['labels'].to(device)\n",
    "            outputs = model(input_ids=inputs['input_ids'], attention_mask=inputs['attention_mask'], labels=labels)\n",
    "            loss = outputs.loss\n",
    "\n",
    "            # Generate predictions\n",
    "            predictions = model.generate(inputs['input_ids'], attention_mask=inputs['attention_mask'], max_length=512)\n",
    "\n",
    "            # Decode predictions and labels\n",
    "            decoded_preds = tokenizer.batch_decode(predictions, skip_special_tokens=True)\n",
    "            decoded_labels = tokenizer.batch_decode(labels, skip_special_tokens=True)\n",
    "\n",
    "            # Print decoded predictions and labels for debugging\n",
    "            # print(\"Decoded predictions:\")\n",
    "            # for pred in decoded_preds:\n",
    "            #     print(f\"'{pred}'\")\n",
    "            # print(\"Decoded labels:\")\n",
    "            # for label in decoded_labels:\n",
    "            #     print(f\"'{label}'\")\n",
    "\n",
    "            # # Extract the answers from decoded predictions and labels\n",
    "            # extracted_preds = [pred.strip().split('.')[0] for pred in decoded_preds if pred.strip()]\n",
    "            # extracted_labels = [label.strip().split('.')[0] for label in decoded_labels if label.strip()]\n",
    "            # Extract the answers from decoded predictions and labels\n",
    "            extracted_preds = [pred.split('answer: ')[1].split(' ')[0] for pred in decoded_preds if 'answer: ' in pred]\n",
    "            extracted_labels = [label.split('answer: ')[1].split(' ')[0] for label in decoded_labels if 'answer: ' in label]\n",
    "            \n",
    "            explanations_preds = [pred.split('explanation: ')[1].split(' ') for pred in decoded_preds if 'explanation: ' in pred]\n",
    "            explanations_labels = [label.split('explanation: ')[1].split(' ') for label in decoded_labels if 'explanation: ' in label]\n",
    "            print(convert_to_sentences(explanations_preds))\n",
    "            print(convert_to_sentences(explanations_labels))\n",
    "            \n",
    "            # Ensure lengths match for accuracy calculation\n",
    "            if len(extracted_preds) == len(extracted_labels):\n",
    "                accuracy_preds.extend(extracted_preds)\n",
    "                accuracy_labels.extend(extracted_labels)\n",
    "\n",
    "            batch_losses.append(loss.item())\n",
    "\n",
    "    # Calculate accuracy\n",
    "    correct = sum(p == l for p, l in zip(accuracy_preds, accuracy_labels))\n",
    "    accuracy = correct / len(accuracy_preds) if accuracy_preds else 0.0\n",
    "    \n",
    "    \n",
    "    # Calculate BERTScore for explanations (explanations_preds and explanations_labels)\n",
    "    P_exp, R_exp, F1_exp,_= bert_score.score(convert_to_sentences(explanations_preds), convert_to_sentences(explanations_labels), lang=\"en\", rescale_with_baseline=True)\n",
    "    bertscore_exp_avg = F1_exp.mean().item()\n",
    "\n",
    "    loss_value = sum(batch_losses) / len(batch_losses)\n",
    "    # return {'val_loss': loss_value, 'accuracy': accuracy}\n",
    "    # return {'val_loss': loss_value, 'bertscore_exp': bertscore_exp_avg}\n",
    "    return {'val_loss': loss_value, 'accuracy': accuracy, 'bertscore_exp': bertscore_exp_avg}\n",
    "\n",
    "\n",
    "# # Training and validation\n",
    "# num_epochs = 1\n",
    "# for epoch in range(num_epochs):\n",
    "#     train_metrics = train_loop(model, train_loader, optimizer)\n",
    "#     val_metrics = validate_loop(model, val_loader)\n",
    "\n",
    "#     print(f\"Epoch {epoch + 1}/{num_epochs}\")\n",
    "#     print(f\"Train Loss: {train_metrics['train_loss']:.4f}\")\n",
    "#     print(f\"Validation Loss: {val_metrics['val_loss']:.4f}\")\n",
    "#     print(f\"Validation Accuracy: {val_metrics['accuracy']:.4f}\")\n",
    "    \n",
    "# Training and validation\n",
    "num_epochs = 3\n",
    "for epoch in range(num_epochs):\n",
    "    train_metrics = train_loop(model, train_loader, optimizer)\n",
    "    val_metrics = validate_loop(model, val_loader)\n",
    "\n",
    "    print(f\"Epoch {epoch + 1}/{num_epochs}\")\n",
    "    print(f\"Train Loss: {train_metrics['train_loss']:.4f}\")\n",
    "    print(f\"Validation Loss: {val_metrics['val_loss']:.4f}\")\n",
    "    print(f\"Validation Accuracy: {val_metrics['accuracy']:.4f}\")\n",
    "    print(f\"Validation BERTScore (Explanations): {val_metrics['bertscore_exp']:.4f}\")\n",
    "\n"
   ]
  },
  {
   "cell_type": "markdown",
   "metadata": {},
   "source": [
    "End"
   ]
  },
  {
   "cell_type": "code",
   "execution_count": 30,
   "metadata": {},
   "outputs": [
    {
     "name": "stdout",
     "output_type": "stream",
     "text": [
      "['The capital of France is Paris.', 'The quick brown fox jumps over the lazy dog.', 'Artificial intelligence is transforming the world.']\n"
     ]
    }
   ],
   "source": [
    "# def convert_to_sentences(list_of_lists):\n",
    "#     sentences = [' '.join(inner_list) for inner_list in list_of_lists]\n",
    "#     return sentences\n",
    "\n",
    "# # Example usage\n",
    "# list_of_lists = [\n",
    "#     [\"The\", \"capital\", \"of\", \"France\", \"is\", \"Paris.\"],\n",
    "#     [\"The\", \"quick\", \"brown\", \"fox\", \"jumps\", \"over\", \"the\", \"lazy\", \"dog.\"],\n",
    "#     [\"Artificial\", \"intelligence\", \"is\", \"transforming\", \"the\", \"world.\"]\n",
    "# ]\n",
    "\n",
    "# sentences = convert_to_sentences(list_of_lists)\n",
    "# print(sentences)\n"
   ]
  },
  {
   "cell_type": "markdown",
   "metadata": {},
   "source": [
    "phase2 <br>\n",
    "adding dream to model"
   ]
  },
  {
   "cell_type": "code",
   "execution_count": 1,
   "metadata": {},
   "outputs": [
    {
     "data": {
      "application/vnd.jupyter.widget-view+json": {
       "model_id": "8855760d435e40c387140fffef2e4f81",
       "version_major": 2,
       "version_minor": 0
      },
      "text/plain": [
       "Loading checkpoint shards:   0%|          | 0/5 [00:00<?, ?it/s]"
      ]
     },
     "metadata": {},
     "output_type": "display_data"
    }
   ],
   "source": [
    "from transformers import AutoTokenizer, AutoModelForSeq2SeqLM\n",
    "model = AutoModelForSeq2SeqLM.from_pretrained(\"allenai/DREAM\") # can take a couple minutes, be patient!\n",
    "tokenizer = AutoTokenizer.from_pretrained(\"t5-11b\")"
   ]
  },
  {
   "cell_type": "markdown",
   "metadata": {},
   "source": [
    "Question: \"There are 10 apples on an apple tree.  Three fall off.  Now there are X apples.\"  What is this an example of?\n",
    "['park', 'coloring book', 'garden center', 'math problem', 'gravity']\n",
    "Answer: math problem\n",
    "Explanation: webmath is designed to help you solve"
   ]
  },
  {
   "cell_type": "code",
   "execution_count": 11,
   "metadata": {},
   "outputs": [
    {
     "data": {
      "text/plain": [
       "['$answer$ = [immoral_consequence] The cat has a hard time balancing its weight with the apples it is carrying.']"
      ]
     },
     "execution_count": 11,
     "metadata": {},
     "output_type": "execute_result"
    }
   ],
   "source": [
    "input_string = \"$answer$ ; $question$ = [SITUATION] There are 10 apples on an apple tree.  Three fall off.  Now there are X apples. What is this an example of?  math or gravity?. [QUERY] consequence\"\n",
    "input_ids = tokenizer.encode(input_string, return_tensors=\"pt\").to(device)\n",
    "output = model.generate(input_ids, max_length=50)\n",
    "tokenizer.batch_decode(output, skip_special_tokens=True)"
   ]
  },
  {
   "cell_type": "code",
   "execution_count": 9,
   "metadata": {},
   "outputs": [
    {
     "data": {
      "text/plain": [
       "['$answer$ = It is good to know the math behind things.']"
      ]
     },
     "execution_count": 9,
     "metadata": {},
     "output_type": "execute_result"
    }
   ],
   "source": [
    "input_string = \"$answer$ ; $question$ = [SITUATION] There are 10 apples on an apple tree.  Three fall off.  Now there are X apples. What is this an example of? math or gravity?.  [QUERY] rot\"\n",
    "input_ids = tokenizer.encode(input_string, return_tensors=\"pt\").to(device)\n",
    "output = model.generate(input_ids, max_length=50)\n",
    "tokenizer.batch_decode(output, skip_special_tokens=True)\n",
    "# [\"$answer$ = It's wrong to damage other people's property.\"]"
   ]
  },
  {
   "cell_type": "markdown",
   "metadata": {},
   "source": [
    "kari ke mikhaim bokonim ine ke tarighe soal dadan avaz konim ya kolan javabaro nadim."
   ]
  },
  {
   "cell_type": "markdown",
   "metadata": {},
   "source": [
    "create elaboration from dream model in two ways"
   ]
  },
  {
   "cell_type": "code",
   "execution_count": 8,
   "metadata": {},
   "outputs": [
    {
     "data": {
      "text/plain": [
       "DatasetDict({\n",
       "    train: Dataset({\n",
       "        features: ['id', 'question', 'choices', 'answer', 'abstractive_explanation', 'extractive_explanation'],\n",
       "        num_rows: 9741\n",
       "    })\n",
       "    validation: Dataset({\n",
       "        features: ['id', 'question', 'choices', 'answer', 'abstractive_explanation', 'extractive_explanation'],\n",
       "        num_rows: 1221\n",
       "    })\n",
       "})"
      ]
     },
     "execution_count": 8,
     "metadata": {},
     "output_type": "execute_result"
    }
   ],
   "source": [
    "dataset"
   ]
  },
  {
   "cell_type": "code",
   "execution_count": 9,
   "metadata": {},
   "outputs": [
    {
     "name": "stdout",
     "output_type": "stream",
     "text": [
      "A beaver is know for building prowess, their supplies come from where?\n",
      "['british columbia', 'body of water', 'wooded area', 'pay debts', 'zoo']\n"
     ]
    }
   ],
   "source": [
    "print(dataset['validation']['question'][0])\n",
    "print(dataset['validation']['choices'][0])"
   ]
  },
  {
   "cell_type": "markdown",
   "metadata": {},
   "source": [
    "with or of choices"
   ]
  },
  {
   "cell_type": "code",
   "execution_count": 16,
   "metadata": {},
   "outputs": [
    {
     "name": "stdout",
     "output_type": "stream",
     "text": [
      "$answer$ ; $question$ = [SITUATION] \"There are 10 apples on an apple tree.  Three fall off.  Now there are X apples.\"  What is this an example of?  park or coloring book or garden center or math problem or gravity [QUERY] rot\n",
      "$answer$ ; $question$ = [SITUATION] A beaver is know for building prowess, their supplies come from where?  british columbia or body of water or wooded area or pay debts or zoo [QUERY] rot\n"
     ]
    }
   ],
   "source": [
    "def format_question(example):\n",
    "    situation = example['question']\n",
    "    choices = \" or \".join(example['choices'])\n",
    "    input_string = f\"$answer$ ; $question$ = [SITUATION] {situation}  {choices} [QUERY] rot\"\n",
    "    example['formatted_question'] = input_string\n",
    "    return example\n",
    "\n",
    "# Apply the formatting function to the dataset\n",
    "formatted_dataset = dataset.map(format_question)\n",
    "\n",
    "# Print a few examples to verify the formatting\n",
    "print(formatted_dataset['train'][0]['formatted_question'])\n",
    "print(formatted_dataset['validation'][0]['formatted_question'])\n"
   ]
  },
  {
   "cell_type": "code",
   "execution_count": 27,
   "metadata": {},
   "outputs": [],
   "source": [
    "# input_string = \"$answer$ ; $question$ = [SITUATION] There are 10 apples on an apple tree.  Three fall off.  Now there are X apples. What is this an example of? math or gravity?.  [QUERY] rot\""
   ]
  },
  {
   "cell_type": "markdown",
   "metadata": {},
   "source": [
    "rot dream"
   ]
  },
  {
   "cell_type": "code",
   "execution_count": 17,
   "metadata": {},
   "outputs": [
    {
     "data": {
      "text/plain": [
       "DatasetDict({\n",
       "    train: Dataset({\n",
       "        features: ['id', 'question', 'choices', 'answer', 'abstractive_explanation', 'extractive_explanation', 'formatted_question'],\n",
       "        num_rows: 9741\n",
       "    })\n",
       "    validation: Dataset({\n",
       "        features: ['id', 'question', 'choices', 'answer', 'abstractive_explanation', 'extractive_explanation', 'formatted_question'],\n",
       "        num_rows: 1221\n",
       "    })\n",
       "})"
      ]
     },
     "execution_count": 17,
     "metadata": {},
     "output_type": "execute_result"
    }
   ],
   "source": [
    "formatted_dataset"
   ]
  },
  {
   "cell_type": "markdown",
   "metadata": {},
   "source": [
    "apply dream to formatted_question"
   ]
  },
  {
   "cell_type": "code",
   "execution_count": 7,
   "metadata": {},
   "outputs": [
    {
     "data": {
      "text/plain": [
       "T5ForConditionalGeneration(\n",
       "  (shared): Embedding(32128, 1024)\n",
       "  (encoder): T5Stack(\n",
       "    (embed_tokens): Embedding(32128, 1024)\n",
       "    (block): ModuleList(\n",
       "      (0): T5Block(\n",
       "        (layer): ModuleList(\n",
       "          (0): T5LayerSelfAttention(\n",
       "            (SelfAttention): T5Attention(\n",
       "              (q): Linear(in_features=1024, out_features=16384, bias=False)\n",
       "              (k): Linear(in_features=1024, out_features=16384, bias=False)\n",
       "              (v): Linear(in_features=1024, out_features=16384, bias=False)\n",
       "              (o): Linear(in_features=16384, out_features=1024, bias=False)\n",
       "              (relative_attention_bias): Embedding(32, 128)\n",
       "            )\n",
       "            (layer_norm): T5LayerNorm()\n",
       "            (dropout): Dropout(p=0.1, inplace=False)\n",
       "          )\n",
       "          (1): T5LayerFF(\n",
       "            (DenseReluDense): T5DenseActDense(\n",
       "              (wi): Linear(in_features=1024, out_features=65536, bias=False)\n",
       "              (wo): Linear(in_features=65536, out_features=1024, bias=False)\n",
       "              (dropout): Dropout(p=0.1, inplace=False)\n",
       "              (act): ReLU()\n",
       "            )\n",
       "            (layer_norm): T5LayerNorm()\n",
       "            (dropout): Dropout(p=0.1, inplace=False)\n",
       "          )\n",
       "        )\n",
       "      )\n",
       "      (1-23): 23 x T5Block(\n",
       "        (layer): ModuleList(\n",
       "          (0): T5LayerSelfAttention(\n",
       "            (SelfAttention): T5Attention(\n",
       "              (q): Linear(in_features=1024, out_features=16384, bias=False)\n",
       "              (k): Linear(in_features=1024, out_features=16384, bias=False)\n",
       "              (v): Linear(in_features=1024, out_features=16384, bias=False)\n",
       "              (o): Linear(in_features=16384, out_features=1024, bias=False)\n",
       "            )\n",
       "            (layer_norm): T5LayerNorm()\n",
       "            (dropout): Dropout(p=0.1, inplace=False)\n",
       "          )\n",
       "          (1): T5LayerFF(\n",
       "            (DenseReluDense): T5DenseActDense(\n",
       "              (wi): Linear(in_features=1024, out_features=65536, bias=False)\n",
       "              (wo): Linear(in_features=65536, out_features=1024, bias=False)\n",
       "              (dropout): Dropout(p=0.1, inplace=False)\n",
       "              (act): ReLU()\n",
       "            )\n",
       "            (layer_norm): T5LayerNorm()\n",
       "            (dropout): Dropout(p=0.1, inplace=False)\n",
       "          )\n",
       "        )\n",
       "      )\n",
       "    )\n",
       "    (final_layer_norm): T5LayerNorm()\n",
       "    (dropout): Dropout(p=0.1, inplace=False)\n",
       "  )\n",
       "  (decoder): T5Stack(\n",
       "    (embed_tokens): Embedding(32128, 1024)\n",
       "    (block): ModuleList(\n",
       "      (0): T5Block(\n",
       "        (layer): ModuleList(\n",
       "          (0): T5LayerSelfAttention(\n",
       "            (SelfAttention): T5Attention(\n",
       "              (q): Linear(in_features=1024, out_features=16384, bias=False)\n",
       "              (k): Linear(in_features=1024, out_features=16384, bias=False)\n",
       "              (v): Linear(in_features=1024, out_features=16384, bias=False)\n",
       "              (o): Linear(in_features=16384, out_features=1024, bias=False)\n",
       "              (relative_attention_bias): Embedding(32, 128)\n",
       "            )\n",
       "            (layer_norm): T5LayerNorm()\n",
       "            (dropout): Dropout(p=0.1, inplace=False)\n",
       "          )\n",
       "          (1): T5LayerCrossAttention(\n",
       "            (EncDecAttention): T5Attention(\n",
       "              (q): Linear(in_features=1024, out_features=16384, bias=False)\n",
       "              (k): Linear(in_features=1024, out_features=16384, bias=False)\n",
       "              (v): Linear(in_features=1024, out_features=16384, bias=False)\n",
       "              (o): Linear(in_features=16384, out_features=1024, bias=False)\n",
       "            )\n",
       "            (layer_norm): T5LayerNorm()\n",
       "            (dropout): Dropout(p=0.1, inplace=False)\n",
       "          )\n",
       "          (2): T5LayerFF(\n",
       "            (DenseReluDense): T5DenseActDense(\n",
       "              (wi): Linear(in_features=1024, out_features=65536, bias=False)\n",
       "              (wo): Linear(in_features=65536, out_features=1024, bias=False)\n",
       "              (dropout): Dropout(p=0.1, inplace=False)\n",
       "              (act): ReLU()\n",
       "            )\n",
       "            (layer_norm): T5LayerNorm()\n",
       "            (dropout): Dropout(p=0.1, inplace=False)\n",
       "          )\n",
       "        )\n",
       "      )\n",
       "      (1-23): 23 x T5Block(\n",
       "        (layer): ModuleList(\n",
       "          (0): T5LayerSelfAttention(\n",
       "            (SelfAttention): T5Attention(\n",
       "              (q): Linear(in_features=1024, out_features=16384, bias=False)\n",
       "              (k): Linear(in_features=1024, out_features=16384, bias=False)\n",
       "              (v): Linear(in_features=1024, out_features=16384, bias=False)\n",
       "              (o): Linear(in_features=16384, out_features=1024, bias=False)\n",
       "            )\n",
       "            (layer_norm): T5LayerNorm()\n",
       "            (dropout): Dropout(p=0.1, inplace=False)\n",
       "          )\n",
       "          (1): T5LayerCrossAttention(\n",
       "            (EncDecAttention): T5Attention(\n",
       "              (q): Linear(in_features=1024, out_features=16384, bias=False)\n",
       "              (k): Linear(in_features=1024, out_features=16384, bias=False)\n",
       "              (v): Linear(in_features=1024, out_features=16384, bias=False)\n",
       "              (o): Linear(in_features=16384, out_features=1024, bias=False)\n",
       "            )\n",
       "            (layer_norm): T5LayerNorm()\n",
       "            (dropout): Dropout(p=0.1, inplace=False)\n",
       "          )\n",
       "          (2): T5LayerFF(\n",
       "            (DenseReluDense): T5DenseActDense(\n",
       "              (wi): Linear(in_features=1024, out_features=65536, bias=False)\n",
       "              (wo): Linear(in_features=65536, out_features=1024, bias=False)\n",
       "              (dropout): Dropout(p=0.1, inplace=False)\n",
       "              (act): ReLU()\n",
       "            )\n",
       "            (layer_norm): T5LayerNorm()\n",
       "            (dropout): Dropout(p=0.1, inplace=False)\n",
       "          )\n",
       "        )\n",
       "      )\n",
       "    )\n",
       "    (final_layer_norm): T5LayerNorm()\n",
       "    (dropout): Dropout(p=0.1, inplace=False)\n",
       "  )\n",
       "  (lm_head): Linear(in_features=1024, out_features=32128, bias=False)\n",
       ")"
      ]
     },
     "execution_count": 7,
     "metadata": {},
     "output_type": "execute_result"
    }
   ],
   "source": [
    "import torch\n",
    "device = torch.device('cuda' if torch.cuda.is_available() else 'cpu')\n",
    "model.to(device)"
   ]
  },
  {
   "cell_type": "code",
   "execution_count": 22,
   "metadata": {},
   "outputs": [],
   "source": [
    "def generate_output(example):\n",
    "    input_string = example['formatted_question']\n",
    "    input_ids = tokenizer.encode(input_string, return_tensors=\"pt\").to(device)\n",
    "    output = model.generate(input_ids, max_length=100)\n",
    "    generated_text = tokenizer.decode(output[0], skip_special_tokens=True)\n",
    "    example['generated_output'] = generated_text\n",
    "    return example\n"
   ]
  },
  {
   "cell_type": "code",
   "execution_count": 29,
   "metadata": {},
   "outputs": [
    {
     "data": {
      "text/plain": [
       "{'id': '080ef6941410139d6869e78122bc741e',\n",
       " 'question': 'A beaver is know for building prowess, their supplies come from where?',\n",
       " 'choices': ['british columbia',\n",
       "  'body of water',\n",
       "  'wooded area',\n",
       "  'pay debts',\n",
       "  'zoo'],\n",
       " 'answer': 'wooded area',\n",
       " 'abstractive_explanation': 'Wooden area is only the place for the beaver supplies.',\n",
       " 'extractive_explanation': 'their supplies come',\n",
       " 'formatted_question': '$answer$ ; $question$ = [SITUATION] A beaver is know for building prowess, their supplies come from where?  british columbia or body of water or wooded area or pay debts or zoo [QUERY] rot'}"
      ]
     },
     "execution_count": 29,
     "metadata": {},
     "output_type": "execute_result"
    }
   ],
   "source": [
    "formatted_dataset['validation'][0]"
   ]
  },
  {
   "cell_type": "code",
   "execution_count": 36,
   "metadata": {},
   "outputs": [
    {
     "name": "stdout",
     "output_type": "stream",
     "text": [
      "tensor([[    0,  1514,  3247,  3321,  3229,  3274,    71,   861,    31,     7,\n",
      "           577,    19,   952,    12,    36, 13006,     5,     1]],\n",
      "       device='cuda:0')\n",
      "$answer$ = A child's play is likely to be boring.\n"
     ]
    }
   ],
   "source": [
    "example=formatted_dataset['validation'][2]\n",
    "input_string = example['formatted_question']\n",
    "input_ids = tokenizer.encode(input_string, return_tensors=\"pt\").to(device)\n",
    "output = model.generate(input_ids, max_length=100)\n",
    "print(output)\n",
    "generated_text = tokenizer.decode(output[0], skip_special_tokens=True)\n",
    "example['generated_output'] = generated_text\n",
    "print(example['generated_output'])"
   ]
  },
  {
   "cell_type": "code",
   "execution_count": 32,
   "metadata": {},
   "outputs": [
    {
     "data": {
      "text/plain": [
       "'$answer$ ; $question$ = [SITUATION] A beaver is know for building prowess, their supplies come from where?  british columbia or body of water or wooded area or pay debts or zoo [QUERY] rot'"
      ]
     },
     "execution_count": 32,
     "metadata": {},
     "output_type": "execute_result"
    }
   ],
   "source": [
    "example['formatted_question']"
   ]
  },
  {
   "cell_type": "code",
   "execution_count": 37,
   "metadata": {},
   "outputs": [
    {
     "data": {
      "application/vnd.jupyter.widget-view+json": {
       "model_id": "7730cea5087c4e579dd80981fb3e6386",
       "version_major": 2,
       "version_minor": 0
      },
      "text/plain": [
       "Map:   0%|          | 0/9741 [00:00<?, ? examples/s]"
      ]
     },
     "metadata": {},
     "output_type": "display_data"
    },
    {
     "data": {
      "application/vnd.jupyter.widget-view+json": {
       "model_id": "25fd233e17dd46b1a8aa970cabfc71f3",
       "version_major": 2,
       "version_minor": 0
      },
      "text/plain": [
       "Map:   0%|          | 0/1221 [00:00<?, ? examples/s]"
      ]
     },
     "metadata": {},
     "output_type": "display_data"
    },
    {
     "name": "stdout",
     "output_type": "stream",
     "text": [
      "$answer$ = It is good to be aware of your surroundings.\n",
      "$answer$ =\n"
     ]
    }
   ],
   "source": [
    "# Apply the function to generate outputs\n",
    "result_dataset = formatted_dataset.map(generate_output)\n",
    "\n",
    "# Print a few examples to verify the outputs\n",
    "print(result_dataset['train'][0]['generated_output'])\n",
    "print(result_dataset['validation'][0]['generated_output'])\n"
   ]
  },
  {
   "cell_type": "code",
   "execution_count": 38,
   "metadata": {},
   "outputs": [
    {
     "data": {
      "application/vnd.jupyter.widget-view+json": {
       "model_id": "9f681cba3c574913bb821f2deb2344fd",
       "version_major": 2,
       "version_minor": 0
      },
      "text/plain": [
       "Saving the dataset (0/1 shards):   0%|          | 0/9741 [00:00<?, ? examples/s]"
      ]
     },
     "metadata": {},
     "output_type": "display_data"
    },
    {
     "data": {
      "application/vnd.jupyter.widget-view+json": {
       "model_id": "43bbe501fbb5498fb69e7704ee4c054c",
       "version_major": 2,
       "version_minor": 0
      },
      "text/plain": [
       "Saving the dataset (0/1 shards):   0%|          | 0/1221 [00:00<?, ? examples/s]"
      ]
     },
     "metadata": {},
     "output_type": "display_data"
    }
   ],
   "source": [
    "# Example to save to a directory named \"formatted_dataset\"\n",
    "result_dataset.save_to_disk('./formatted_dataset')"
   ]
  },
  {
   "cell_type": "markdown",
   "metadata": {},
   "source": [
    "**********************"
   ]
  },
  {
   "cell_type": "markdown",
   "metadata": {},
   "source": [
    "add dream model text to input of t5 and fine-tuning"
   ]
  },
  {
   "cell_type": "markdown",
   "metadata": {},
   "source": [
    "**************************"
   ]
  },
  {
   "cell_type": "markdown",
   "metadata": {},
   "source": [
    "******"
   ]
  },
  {
   "cell_type": "markdown",
   "metadata": {},
   "source": [
    "####################################################"
   ]
  },
  {
   "cell_type": "markdown",
   "metadata": {},
   "source": [
    "************"
   ]
  },
  {
   "cell_type": "markdown",
   "metadata": {},
   "source": [
    "****************"
   ]
  },
  {
   "cell_type": "markdown",
   "metadata": {},
   "source": [
    "### debugging not important"
   ]
  },
  {
   "cell_type": "markdown",
   "metadata": {},
   "source": [
    "**debugging phase and bleurt score that doesn't work because of google api not work**"
   ]
  },
  {
   "cell_type": "markdown",
   "metadata": {},
   "source": [
    "def validation loop using bert score for explanation score"
   ]
  },
  {
   "cell_type": "code",
   "execution_count": 22,
   "metadata": {},
   "outputs": [],
   "source": [
    "# %pip install datasets transformers torch tqdm bert-score bleurt\n"
   ]
  },
  {
   "cell_type": "code",
   "execution_count": 21,
   "metadata": {},
   "outputs": [],
   "source": [
    "from datasets import load_dataset, load_metric"
   ]
  },
  {
   "cell_type": "code",
   "execution_count": 51,
   "metadata": {},
   "outputs": [],
   "source": [
    "# !pip install --upgrade pip  # ensures that pip is current\n",
    "# !git clone https://github.com/google-research/bleurt.git\n",
    "# !pip install ./bleurt"
   ]
  },
  {
   "cell_type": "code",
   "execution_count": 30,
   "metadata": {},
   "outputs": [
    {
     "name": "stdout",
     "output_type": "stream",
     "text": [
      "Archive:  /home/manavi/bleurt-base-128.zip\n",
      "   creating: bleurt-base-128/\n",
      "  inflating: bleurt-base-128/vocab.txt  \n",
      "  inflating: bleurt-base-128/bert_config.json  \n",
      "   creating: bleurt-base-128/variables/\n",
      "  inflating: bleurt-base-128/variables/variables.index  \n",
      "  inflating: bleurt-base-128/variables/variables.data-00000-of-00001  \n",
      "  inflating: bleurt-base-128/bleurt_config.json  \n",
      "  inflating: bleurt-base-128/saved_model.pb  \n"
     ]
    }
   ],
   "source": [
    "!unzip /home/manavi/bleurt-base-128.zip"
   ]
  },
  {
   "cell_type": "code",
   "execution_count": 40,
   "metadata": {},
   "outputs": [],
   "source": [
    "# bleurt_metric = load(\"bleurt\", \"/home/manavi/bleurt-base-128\")"
   ]
  },
  {
   "cell_type": "code",
   "execution_count": 42,
   "metadata": {},
   "outputs": [],
   "source": [
    "# Load metrics\n",
    "# accuracy_metric = load_metric(\"accuracy\")\n",
    "# bert_score_metric = load_metric(\"bertscore\")\n",
    "# bleurt_metric = load_metric(\"bleurt\")\n",
    "\n",
    "# accuracy_metric = load_metric(\"accuracy\")\n",
    "# bert_score_metric = load_metric(\"bertscore\", trust_remote_code=True)\n",
    "# bleurt_metric = load_metric(\"bleurt\",trust_remote_code=True, checkpoint=\"bleurt-base-128\")\n",
    "\n",
    "# Load metrics\n",
    "accuracy_metric = load_metric(\"accuracy\")\n",
    "bert_score_metric = load_metric(\"bertscore\", trust_remote_code=True)"
   ]
  },
  {
   "cell_type": "code",
   "execution_count": 45,
   "metadata": {},
   "outputs": [],
   "source": [
    "\n",
    "# Training loop\n",
    "def train_loop(model, loader, optimizer, accumulation_steps=16):\n",
    "    model.train()\n",
    "    batch_losses = []\n",
    "    optimizer.zero_grad()\n",
    "\n",
    "    for i, batch in enumerate(tqdm(loader, desc='Training:')):\n",
    "        inputs = {k: v.to(device) for k, v in batch.items() if k != 'labels'}\n",
    "        labels = batch['labels'].to(device)\n",
    "        outputs = model(input_ids=inputs['input_ids'], attention_mask=inputs['attention_mask'], labels=labels)\n",
    "        loss = outputs.loss / accumulation_steps  # normalize loss\n",
    "\n",
    "        batch_loss_value = loss.item() * accumulation_steps  # convert to original loss value for logging\n",
    "        loss.backward()\n",
    "\n",
    "        if (i + 1) % accumulation_steps == 0:  # update weights every accumulation_steps mini-batches\n",
    "            optimizer.step()\n",
    "            optimizer.zero_grad()  # reset gradients\n",
    "\n",
    "        batch_losses.append(batch_loss_value)\n",
    "\n",
    "    # Update remaining gradients if the number of batches is not a multiple of accumulation_steps\n",
    "    if len(loader) % accumulation_steps != 0:\n",
    "        optimizer.step()\n",
    "        optimizer.zero_grad()\n",
    "\n",
    "    loss_value = sum(batch_losses) / len(batch_losses)\n",
    "    return {'train_loss': loss_value}\n",
    "\n",
    "# Validation loop\n",
    "def validate_loop(model, loader):\n",
    "    model.eval()\n",
    "    batch_losses = []\n",
    "    accuracy_preds = []\n",
    "    accuracy_labels = []\n",
    "    bertscore_preds = []\n",
    "    bertscore_labels = []\n",
    "\n",
    "    with torch.no_grad():\n",
    "        for batch in tqdm(loader, desc='Validation:'):\n",
    "            inputs = {k: v.to(device) for k, v in batch.items() if k != 'labels'}\n",
    "            labels = batch['labels'].to(device)\n",
    "            outputs = model(input_ids=inputs['input_ids'], attention_mask=inputs['attention_mask'], labels=labels)\n",
    "            loss = outputs.loss\n",
    "\n",
    "            # Generate predictions\n",
    "            predictions = model.generate(inputs['input_ids'], attention_mask=inputs['attention_mask'], max_length=512)\n",
    "            decoded_preds = tokenizer.batch_decode(predictions, skip_special_tokens=True)\n",
    "            decoded_labels = tokenizer.batch_decode(labels, skip_special_tokens=True)\n",
    "\n",
    "            # Prepare for accuracy metric\n",
    "            accuracy_preds.extend(decoded_preds)\n",
    "            accuracy_labels.extend(decoded_labels)\n",
    "\n",
    "            # Prepare for BERTScore metric\n",
    "            bertscore_preds.extend(decoded_preds)\n",
    "            bertscore_labels.extend(decoded_labels)\n",
    "\n",
    "            batch_losses.append(loss.item())\n",
    "\n",
    "    # Compute metrics\n",
    "    loss_value = sum(batch_losses) / len(batch_losses)\n",
    "    accuracy = accuracy_metric.compute(predictions=accuracy_preds, references=accuracy_labels)\n",
    "    bert_score = bert_score_metric.compute(predictions=bertscore_preds, references=bertscore_labels, lang=\"en\")\n",
    "    bert_score_avg = sum(bert_score['f1']) / len(bert_score['f1'])\n",
    "\n",
    "    return {\n",
    "        'val_loss': loss_value,\n",
    "        'accuracy': accuracy['accuracy'],\n",
    "        'bert_score': bert_score_avg\n",
    "    }\n",
    "\n"
   ]
  },
  {
   "cell_type": "code",
   "execution_count": 47,
   "metadata": {},
   "outputs": [],
   "source": [
    "# Training loop\n",
    "def train_loop(model, loader, optimizer, accumulation_steps=16):\n",
    "    model.train()\n",
    "    batch_losses = []\n",
    "    optimizer.zero_grad()\n",
    "\n",
    "    for i, batch in enumerate(tqdm(loader, desc='Training:')):\n",
    "        inputs = {k: v.to(device) for k, v in batch.items() if k != 'labels'}\n",
    "        labels = batch['labels'].to(device)\n",
    "        outputs = model(input_ids=inputs['input_ids'], attention_mask=inputs['attention_mask'], labels=labels)\n",
    "        loss = outputs.loss / accumulation_steps  # normalize loss\n",
    "\n",
    "        batch_loss_value = loss.item() * accumulation_steps  # convert to original loss value for logging\n",
    "        loss.backward()\n",
    "\n",
    "        if (i + 1) % accumulation_steps == 0:  # update weights every accumulation_steps mini-batches\n",
    "            optimizer.step()\n",
    "            optimizer.zero_grad()  # reset gradients\n",
    "\n",
    "        batch_losses.append(batch_loss_value)\n",
    "\n",
    "    # Update remaining gradients if the number of batches is not a multiple of accumulation_steps\n",
    "    if len(loader) % accumulation_steps != 0:\n",
    "        optimizer.step()\n",
    "        optimizer.zero_grad()\n",
    "\n",
    "    loss_value = sum(batch_losses) / len(batch_losses)\n",
    "    return {'train_loss': loss_value}\n",
    "\n",
    "# Validation loop\n",
    "def validate_loop(model, loader):\n",
    "    model.eval()\n",
    "    batch_losses = []\n",
    "    accuracy_preds = []\n",
    "    accuracy_labels = []\n",
    "    bertscore_preds = []\n",
    "    bertscore_labels = []\n",
    "\n",
    "    with torch.no_grad():\n",
    "        for batch in tqdm(loader, desc='Validation:'):\n",
    "            inputs = {k: v.to(device) for k, v in batch.items() if k != 'labels'}\n",
    "            labels = batch['labels'].to(device)\n",
    "            outputs = model(input_ids=inputs['input_ids'], attention_mask=inputs['attention_mask'], labels=labels)\n",
    "            loss = outputs.loss\n",
    "\n",
    "            # Generate predictions\n",
    "            predictions = model.generate(inputs['input_ids'], attention_mask=inputs['attention_mask'], max_length=512)\n",
    "            decoded_preds = tokenizer.batch_decode(predictions, skip_special_tokens=True)\n",
    "            decoded_labels = tokenizer.batch_decode(labels, skip_special_tokens=True)\n",
    "\n",
    "            # Filter out empty strings\n",
    "            decoded_preds = [pred for pred in decoded_preds if pred.strip()]\n",
    "            decoded_labels = [label for label in decoded_labels if label.strip()]\n",
    "\n",
    "            # Prepare for accuracy metric (assuming labels are in the form of text that needs to be converted to integers)\n",
    "            accuracy_preds.extend([int(pred.split()[1]) for pred in decoded_preds if pred.split()[1].isdigit()])\n",
    "            accuracy_labels.extend([int(label.split()[1]) for label in decoded_labels if label.split()[1].isdigit()])\n",
    "\n",
    "            # Prepare for BERTScore metric\n",
    "            bertscore_preds.extend(decoded_preds)\n",
    "            bertscore_labels.extend(decoded_labels)\n",
    "\n",
    "            batch_losses.append(loss.item())\n",
    "\n",
    "    # Compute metrics\n",
    "    loss_value = sum(batch_losses) / len(batch_losses)\n",
    "    accuracy = accuracy_metric.compute(predictions=accuracy_preds, references=accuracy_labels)\n",
    "    bert_score = bert_score_metric.compute(predictions=bertscore_preds, references=bertscore_labels, lang=\"en\")\n",
    "    bert_score_avg = sum(bert_score['f1']) / len(bert_score['f1'])\n",
    "\n",
    "    return {\n",
    "        'val_loss': loss_value,\n",
    "        'accuracy': accuracy['accuracy'],\n",
    "        'bert_score': bert_score_avg\n",
    "    }"
   ]
  },
  {
   "cell_type": "code",
   "execution_count": 26,
   "metadata": {},
   "outputs": [],
   "source": [
    "# %pip install git+https://github.com/google-research/bleurt.git"
   ]
  },
  {
   "cell_type": "code",
   "execution_count": 33,
   "metadata": {},
   "outputs": [],
   "source": [
    "# %pip install git+https://github.com/google-research/bleurt.git'"
   ]
  },
  {
   "cell_type": "code",
   "execution_count": 27,
   "metadata": {},
   "outputs": [],
   "source": [
    "# %pip install bert_score"
   ]
  },
  {
   "cell_type": "code",
   "execution_count": null,
   "metadata": {},
   "outputs": [],
   "source": [
    "# Training and validation\n",
    "num_epochs = 3\n",
    "for epoch in range(num_epochs):\n",
    "    train_metrics = train_loop(model, train_loader, optimizer)\n",
    "    val_metrics = validate_loop(model, val_loader)\n",
    "\n",
    "    print(f\"Epoch {epoch + 1}/{num_epochs}\")\n",
    "    print(f\"Train Loss: {train_metrics['train_loss']:.4f}\")\n",
    "    print(f\"Validation Loss: {val_metrics['val_loss']:.4f}\")\n",
    "    print(f\"Validation Accuracy: {val_metrics['accuracy']:.4f}\")\n",
    "    print(f\"Explanation Score: {val_metrics['explanation_score']}\")"
   ]
  },
  {
   "cell_type": "code",
   "execution_count": 49,
   "metadata": {},
   "outputs": [],
   "source": [
    "# Training loop\n",
    "def train_loop(model, loader, optimizer, accumulation_steps=16):\n",
    "    model.train()\n",
    "    batch_losses = []\n",
    "    optimizer.zero_grad()\n",
    "\n",
    "    for i, batch in enumerate(tqdm(loader, desc='Training:')):\n",
    "        inputs = {k: v.to(device) for k, v in batch.items() if k != 'labels'}\n",
    "        labels = batch['labels'].to(device)\n",
    "        outputs = model(input_ids=inputs['input_ids'], attention_mask=inputs['attention_mask'], labels=labels)\n",
    "        loss = outputs.loss / accumulation_steps  # normalize loss\n",
    "\n",
    "        batch_loss_value = loss.item() * accumulation_steps  # convert to original loss value for logging\n",
    "        loss.backward()\n",
    "\n",
    "        if (i + 1) % accumulation_steps == 0:  # update weights every accumulation_steps mini-batches\n",
    "            optimizer.step()\n",
    "            optimizer.zero_grad()  # reset gradients\n",
    "\n",
    "        batch_losses.append(batch_loss_value)\n",
    "\n",
    "    # Update remaining gradients if the number of batches is not a multiple of accumulation_steps\n",
    "    if len(loader) % accumulation_steps != 0:\n",
    "        optimizer.step()\n",
    "        optimizer.zero_grad()\n",
    "\n",
    "    loss_value = sum(batch_losses) / len(batch_losses)\n",
    "    return {'train_loss': loss_value}\n",
    "\n",
    "# Validation loop\n",
    "def validate_loop(model, loader):\n",
    "    model.eval()\n",
    "    batch_losses = []\n",
    "    accuracy_preds = []\n",
    "    accuracy_labels = []\n",
    "    bertscore_preds = []\n",
    "    bertscore_labels = []\n",
    "\n",
    "    with torch.no_grad():\n",
    "        for batch in tqdm(loader, desc='Validation:'):\n",
    "            inputs = {k: v.to(device) for k, v in batch.items() if k != 'labels'}\n",
    "            labels = batch['labels'].to(device)\n",
    "            outputs = model(input_ids=inputs['input_ids'], attention_mask=inputs['attention_mask'], labels=labels)\n",
    "            loss = outputs.loss\n",
    "\n",
    "            # Generate predictions\n",
    "            predictions = model.generate(inputs['input_ids'], attention_mask=inputs['attention_mask'], max_length=512)\n",
    "            decoded_preds = tokenizer.batch_decode(predictions, skip_special_tokens=True)\n",
    "            decoded_labels = tokenizer.batch_decode(labels, skip_special_tokens=True)\n",
    "\n",
    "            # Filter out empty strings and check lengths\n",
    "            decoded_preds = [pred for pred in decoded_preds if pred.strip()]\n",
    "            decoded_labels = [label for label in decoded_labels if label.strip()]\n",
    "\n",
    "            # Debugging output\n",
    "            print(f\"Decoded predictions: {decoded_preds}\")\n",
    "            print(f\"Decoded labels: {decoded_labels}\")\n",
    "\n",
    "            # Prepare for accuracy metric (assuming labels are in the form of text that needs to be converted to integers)\n",
    "            accuracy_preds.extend([int(pred.split()[1]) for pred in decoded_preds if pred.split()[1].isdigit()])\n",
    "            accuracy_labels.extend([int(label.split()[1]) for label in decoded_labels if label.split()[1].isdigit()])\n",
    "\n",
    "            # Prepare for BERTScore metric\n",
    "            bertscore_preds.extend(decoded_preds)\n",
    "            bertscore_labels.extend(decoded_labels)\n",
    "\n",
    "            batch_losses.append(loss.item())\n",
    "\n",
    "    # Ensure no empty lists before computing metrics\n",
    "    if not accuracy_preds or not accuracy_labels:\n",
    "        raise ValueError(\"Empty list found for accuracy predictions or labels.\")\n",
    "    if not bertscore_preds or not bertscore_labels:\n",
    "        raise ValueError(\"Empty list found for BERTScore predictions or labels.\")\n",
    "\n",
    "    # Compute metrics\n",
    "    loss_value = sum(batch_losses) / len(batch_losses)\n",
    "    accuracy = accuracy_metric.compute(predictions=accuracy_preds, references=accuracy_labels)\n",
    "    bert_score = bert_score_metric.compute(predictions=bertscore_preds, references=bertscore_labels, lang=\"en\")\n",
    "    bert_score_avg = sum(bert_score['f1']) / len(bert_score['f1'])\n",
    "\n",
    "    return {\n",
    "        'val_loss': loss_value,\n",
    "        'accuracy': accuracy['accuracy'],\n",
    "        'bert_score': bert_score_avg\n",
    "    }"
   ]
  },
  {
   "cell_type": "code",
   "execution_count": 50,
   "metadata": {},
   "outputs": [
    {
     "name": "stderr",
     "output_type": "stream",
     "text": [
      "Training:: 100%|██████████| 305/305 [04:29<00:00,  1.13it/s]\n",
      "Validation::   3%|▎         | 1/39 [00:06<03:56,  6.22s/it]"
     ]
    },
    {
     "name": "stdout",
     "output_type": "stream",
     "text": [
      "Decoded predictions: []\n",
      "Decoded labels: ['answer: wooded area explanation: Wooden area is only the place for the beaver supplies.', 'answer: go downtown explanation: Students do everything', 'answer: play tag explanation: tag different ways to play tag', 'answer: great outdoors explanation: woods are must', 'answer: club explanation: he wants a club', 'answer: whirlpool bath explanation: Whirlpool bath definition', 'answer: industrial area explanation: Coimbatore Industrial Park', 'answer: martorell explanation: A man can take a seat in martorell', 'answer: house explanation: A house is a building that functions as a home', 'answer: photograph explanation: photograph A patriotic guy with a camera is looking for a bald eagle', 'answer: heartburn explanation: a meat is tasty', 'answer: bushel basket explanation: Bushel - Wikipedia', 'answer: bank explanation: Rivers flow trough valleys.', 'answer: appliance store explanation: it is more comfortable to normal room', 'answer: country explanation: Rivers flow trough valleys.', 'answer: rocky hills explanation: he found in the rocky hills.', 'answer: tide pool explanation: artificial pool which cost too much as like as sea', 'answer: remorse explanation: Rivers flow trough valleys.', 'answer: healthy explanation: healthy recovering from the disease, what did the doctor call the patient', 'answer: balance explanation: In biomechanics, balance is an abilit', 'answer: wrestle explanation: energy omits well', 'answer: start running explanation: STARTING IN RUNNING', 'answer: united states explanation: This word was most relevant.', 'answer: go down explanation: For the moment, let us just think', 'answer: multitask explanation: this word is more relevant', 'answer: bones explanation: bones some fly thanks to their lightweigh', 'answer: wash dishes explanation: Soak pots and pans', 'answer: stress explanation: The American Institute of Stress', 'answer: death and decay explanation: Death and Decay - Hearthstone Wiki', 'answer: airport explanation: nervous is good', 'answer: paper bag explanation: BUY THE POTATO WITH PAPER BAG', 'answer: cook dinner explanation: Dinner can be ready in less']\n"
     ]
    },
    {
     "name": "stderr",
     "output_type": "stream",
     "text": [
      "Validation::   5%|▌         | 2/39 [00:12<03:49,  6.20s/it]"
     ]
    },
    {
     "name": "stdout",
     "output_type": "stream",
     "text": [
      "Decoded predictions: []\n",
      "Decoded labels: ['answer: common interests explanation: List of hobbies - Wikipedia', 'answer: heartburn explanation: We generally take some chewables to prevent the heartburn.', 'answer: violin case explanation: he needs a violin case', 'answer: fitness center explanation: be FITNESS | Delafield, WI - Fitness Center, Gym & Personal Training', 'answer: butcher shop explanation: goods in specialized stores', 'answer: park explanation: children playing park', \"answer: house explanation: People cannot have their convenience in another person's House.\", 'answer: small town explanation: a big city is capital of country', 'answer: round explanation: approximately round a round face', 'answer: trash explanation: Waste are unwanted or unusable', 'answer: state park explanation: California State Parks', 'answer: closed room explanation: This word was most relevant', 'answer: lie down explanation: By the waters of Babylon we lay down...', 'answer: desire to travel explanation: People want to see the world after learning about it', 'answer: old person explanation: Old age - Wikipedia', 'answer: defeat explanation: to win against someon', 'answer: advance knowledge explanation: Being able to apply', 'answer: skin irritation explanation: Rivers flow trough valleys.', 'answer: desk drawer explanation: check all answers', 'answer: michigan explanation: my father was a former', 'answer: fall asleep explanation: This word was most relevant.', 'answer: move around explanation: Moving around is the opposite.', 'answer: at hotel explanation: Did not have the aesthetic he was hoping for.', 'answer: solitary explanation: alone in the world', 'answer: chess game explanation: This word was most relevant.', 'answer: defend explanation: ManTech secures $668M CDM contract - FedScoop', 'answer: washington d.c explanation: government makes country', 'answer: stillness explanation: This option is better to this task.', 'answer: defecating explanation: This word is Most relavant', 'answer: common explanation: common Everybody seemed to be crying at the holy site, the tour guide', 'answer: theater explanation: everybody is getting ready to go to the theater after the dressing room', 'answer: stretch explanation: Rivers flow trough valleys.']\n"
     ]
    },
    {
     "name": "stderr",
     "output_type": "stream",
     "text": [
      "Validation::   8%|▊         | 3/39 [00:18<03:43,  6.20s/it]"
     ]
    },
    {
     "name": "stdout",
     "output_type": "stream",
     "text": [
      "Decoded predictions: []\n",
      "Decoded labels: ['answer: shady places explanation: Shady Places | Commercial Shade', 'answer: table explanation: Table | Components | BootstrapVue', 'answer: fall out explanation: Rivers flow trough valleys.', 'answer: pleasure explanation: Only pleasure is a feeling', 'answer: jet engine explanation: This word is Most relavant', 'answer: walk explanation: We can walk even though we have blisters.', 'answer: stock market explanation: stock market cookie', 'answer: confidence explanation: every confidence in the staff\"', 'answer: orchestra explanation: Light Music Orchestra in Coimbatore', 'answer: indigestion explanation: Indigestion (for Kids) - KidsHealth', 'answer: conference explanation: conference kept plugging away in his cubicle, it seemed he was the only person not called', 'answer: ground explanation: pumps is cultivated in ground', 'answer: manual explanation: This option is better to this task.', 'answer: go faster explanation: Fast.com: Internet Speed Test', 'answer: pond explanation: pond is entirely small', 'answer: beach explanation: Best Island Beaches in the World', 'answer: surprised explanation: surprised walked into the room and had a great shock', 'answer: resort area explanation: he needed to resort area', 'answer: subdivision explanation: Rivers flow trough valleys.', 'answer: table explanation: One normally eats at a table', 'answer: seek help explanation: seek help write will never want', 'answer: human body explanation: Explore Human Anatomy, Physiology', \"answer: time explanation:. time He was beginning to worry they wouldn't get on the ride before closing, they had been standing in queue for a long what?\", 'answer: eye contact explanation: This word is Most relavant', 'answer: suffering explanation: Rivers flow trough valleys.', 'answer: committing perjury explanation: Perjury and Its Consequences', 'answer: std explanation: Rivers flow trough valleys.', 'answer: conflict explanation: Conflict definition and meaning', 'answer: handshake explanation: This word was most relevant.', 'answer: medicine cabinet explanation: people keep peroxide in medicine cabinets', 'answer: choir explanation: The alto is part in any choir.', 'answer: hardware store explanation: This word was most relevant.']\n"
     ]
    },
    {
     "name": "stderr",
     "output_type": "stream",
     "text": [
      "Validation::  10%|█         | 4/39 [00:24<03:37,  6.22s/it]"
     ]
    },
    {
     "name": "stdout",
     "output_type": "stream",
     "text": [
      "Decoded predictions: []\n",
      "Decoded labels: ['answer: house clean explanation: We clean our house to clear the mess.', 'answer: listen to music explanation: This word is Most relavant', 'answer: map explanation: Google Map Maker has closed', 'answer: overcast explanation: Rivers flow trough valleys.', 'answer: light fire explanation: inder is light, dry materia', 'answer: beehive explanation: Rivers flow trough valleys.', 'answer: forget explanation: i just forget to recall', 'answer: concentrate explanation: Reducer B concentrate | Sigma-Aldrich', 'answer: indiana explanation: indiana woods tampa', 'answer: office desk explanation: Receptionists are usually seated at the entrance', 'answer: show explanation: show I took my seat, the curtains drew back and I enjoyed', 'answer: cellar explanation: cellar maintain temperature', 'answer: music store explanation: Buy Musical Instrument', 'answer: microscope explanation: is the only object to see closer', 'answer: tie around explanation: to restrict its movement', 'answer: play golf explanation: Golf is the only sport in the list.', 'answer: heaven explanation: This word is Most relavant', 'answer: spoon explanation: This word is Most relavant', 'answer: see art explanation: Practice Looking at Art', 'answer: garden center explanation: Rockin E Country Store', 'answer: lamp explanation: IT IS THE PLACE FOR GETTING BRIGHTNESS', 'answer: cage explanation: F]CAGE Questionnaire - US P', 'answer: rug explanation: Rug Store | At Home -', 'answer: own house explanation: The spacious rooms and well', 'answer: furniture store explanation: go to furniture showroom.', 'answer: inappropriate explanation: Manners help people get along together', 'answer: building explanation: building should I get first', 'answer: roots explanation: A person is a human', 'answer: garden explanation: A person is a human', \"answer: slurred speech explanation: slurred speech getting drunk, and people couldn't understand\", 'answer: living room explanation: living room is comfortable', 'answer: having fun explanation: playing some games']\n"
     ]
    },
    {
     "name": "stderr",
     "output_type": "stream",
     "text": [
      "Validation::  13%|█▎        | 5/39 [00:31<03:31,  6.22s/it]"
     ]
    },
    {
     "name": "stdout",
     "output_type": "stream",
     "text": [
      "Decoded predictions: []\n",
      "Decoded labels: ['answer: bedroom explanation: bedroom diner space shuttle', 'answer: change of heart explanation: The person may have changed their story', 'answer: plate explanation: This option is better to this task.', 'answer: cattle show explanation: cattle show home', 'answer: newspaper explanation: If a house has a subscription,newspaper likely shows up in the driveway every morning', 'answer: captivity explanation: captivity lizard is fed by people every day, what has happened to it.', 'answer: happiness explanation: This word was most relevant.', 'answer: much money explanation: EveryDollar Budgeting App | EveryDollar.com', 'answer: express information explanation: Need ERP consulting?', 'answer: falling asleep explanation: Rivers flow trough valleys.', 'answer: lobby explanation: Rivers flow trough valleys.', \"answer: bird's nest explanation: birds are small flying animals that live in nests\", 'answer: tall building explanation: the structure is like tall building', 'answer: sore mouth explanation: It hurts, but is not impossible.', 'answer: prison sentence explanation: Use prison in a sentence', 'answer: arguments explanation: argument is a series', 'answer: convenience store explanation: This word is Most relavant', 'answer: paid for explanation: receiving money for work', 'answer: building explanation: reception is entrance', 'answer: family tree explanation: this word is more relevant', 'answer: kill explanation: killing someone is referred as murder', 'answer: gay bar explanation: This option is better to this task.', 'answer: toaster explanation: plastic bag prison toaster', 'answer: store explanation: A store would have supplies to purchase.', 'answer: farmhouse explanation: need to spend the time in formhouse', 'answer: white house explanation: White House - Wikipedia', 'answer: lifeless explanation: Lifeless | Definition of Lifeless by Merriam-Webster', 'answer: forest explanation: Electric Forest Festiva', 'answer: road rage explanation: Rivers flow trough valleys.', 'answer: depression explanation: Depression indicates mental distress.', 'answer: catching fish explanation: hungry needs food', 'answer: milwaukee explanation: wiscosin is a city']\n"
     ]
    },
    {
     "name": "stderr",
     "output_type": "stream",
     "text": [
      "Validation::  15%|█▌        | 6/39 [00:37<03:25,  6.23s/it]"
     ]
    },
    {
     "name": "stdout",
     "output_type": "stream",
     "text": [
      "Decoded predictions: []\n",
      "Decoded labels: [\"answer: lawn explanation: lawn home with a courtyard, what's one thing you probably don't have to care for any longer\", 'answer: baseball stadium explanation: List of current Major League Baseball stadiums', 'answer: refrigerator explanation: Choose from a wide selection', 'answer: getting tired explanation: not getting sleep at night gets one tired', 'answer: fruit stand explanation: fruit standIf you really wanted a grape, where would you go to get it', 'answer: calluses explanation: This option is better to this task.', 'answer: last several years explanation: This word was most relevant.', 'answer: make peace explanation: Dempsey and Makepeace - Wikipedia', 'answer: enlightenment explanation: The Enlightenment, also known', 'answer: fish department explanation:. fish departmentwanted a license to catch crabs, what governmen', 'answer: expensive clothing explanation: People wear expensive clothes to show off.', 'answer: body of water explanation: body takes a body of water', 'answer: gas station explanation: gas station have a map', 'answer: knowing explanation: A person is a human', 'answer: computer network explanation: Computer network - Wikipedia', 'answer: empty explanation: Empty is the opposite of full.', 'answer: tear down explanation: In basic training they build you up only to do what, all in hopes of building you up even stronger the next tear down', 'answer: begin work explanation: BEGIN WORK WITHOUT REPLICATION (IDS, ESQL/C) - IBM', 'answer: city explanation: its a place to take rest', 'answer: moving body explanation: moving body James and Holly went dancing together. As they danced', 'answer: might win explanation: Will BJP win battleground 2019', 'answer: prosecution explanation: This word is Most relavant', 'answer: rough explanation: But received rough paper', 'answer: head injuries explanation: car park', 'answer: matter to explanation: matter to James was someone who was caught in his own delusions', 'answer: resistance explanation: Wires have too much of resistance.', 'answer: capitol building explanation: This option is better to this task.', 'answer: boiling water explanation: put potato to cook in boiling water', 'answer: talk nonsense explanation: UK also talk rubbish', 'answer: woodland explanation: animal lives in woodland', 'answer: convention center explanation: A convention center is a place where lots of people come together from far away.', 'answer: microwave explanation: microwave is hot so which is panic']\n"
     ]
    },
    {
     "name": "stderr",
     "output_type": "stream",
     "text": [
      "Validation::  18%|█▊        | 7/39 [00:43<03:19,  6.23s/it]"
     ]
    },
    {
     "name": "stdout",
     "output_type": "stream",
     "text": [
      "Decoded predictions: []\n",
      "Decoded labels: ['answer: guide children explanation: Regulate your own emotions', 'answer: standing in line explanation: getting in line after the game', 'answer: insubstantial explanation: Recent Examples on the Web', 'answer: race track explanation: race track is the only place where the cars move around in a circle', 'answer: heat explanation: heat John knew that the sun produced a massive amount of energy in two forms', 'answer: pet explanation: The Honest Kitchen', 'answer: bent explanation: Results are changed', 'answer: unacquainted explanation: Definition of unacquainted. : not acquainted: such as. a : not', 'answer: distant explanation: This word was most relevant.', 'answer: unfortunate explanation: A Series of Unfortunate Events - Wikipedia', 'answer: studying explanation: studying party that lasted all night', 'answer: class explanation: this word is more relevant', 'answer: drink beer explanation: drink beerMany humans enjoy fishing and enjoy another relaxing activity at the same time, what activity is it?', 'answer: city explanation: This word is Most relavant', 'answer: passing out explanation: Reflex syncope - Wikipedia', \"answer: enjoy living explanation: enjoy living More people should lower the guard and just have fun, we don't got long just what\", 'answer: see beautiful views explanation: A person is a human', 'answer: very old explanation: Very old synonyms', 'answer: violent explanation: violent very entertaining', 'answer: university explanation: This option is better to this task.', 'answer: make tools explanation: People are very much like the animals make tools', 'answer: injury explanation: sports is always a risk', 'answer: sail boat explanation: Rivers flow trough valleys.', 'answer: frustration explanation: frustrationSally was standing in queue.', 'answer: family explanation: The B Family', 'answer: deceitful explanation: Deceitful | Definition of Deceitful by Merriam-Webster', 'answer: musical explanation: London Musicals - Musical Tickets', 'answer: open doors explanation: Rivers flow trough valleys.', 'answer: construct explanation: This word is Most relavant', 'answer: slow down explanation: is a song by American singer', 'answer: anxiety explanation: the anxiety will hurt when our idea is always a dream', 'answer: new construction explanation: To start new construction we set frames.']\n"
     ]
    },
    {
     "name": "stderr",
     "output_type": "stream",
     "text": [
      "Validation::  21%|██        | 8/39 [00:49<03:13,  6.23s/it]"
     ]
    },
    {
     "name": "stdout",
     "output_type": "stream",
     "text": [
      "Decoded predictions: []\n",
      "Decoded labels: ['answer: because explanation: Because, because of and cos', 'answer: happiness explanation: she was not sick so she was happy', 'answer: have conversation explanation: excess conversation shows an extra intrest', 'answer: clutter explanation: she is a clutter', 'answer: work out explanation: Inside means inner part', 'answer: happiness explanation: senior place center area', 'answer: marriage explanation: called matrimony or wedlock', 'answer: refrigerators explanation: refrigerators stored at room temperature', 'answer: talking loudly explanation: people taking loudly, so got escorted out of the library', 'answer: animal explanation: This word is Most relavant', 'answer: rash explanation: defined as a widespread eruption', 'answer: playing marbles explanation: play with marbles. Have fun wi', \"answer: unlikely explanation: four random words still don't work\", 'answer: web page explanation: web page email la ville', 'answer: school explanation: school The architect thought that a mezzanine would look good, but the planning committee rejected', 'answer: inspiration explanation: Rivers flow trough valleys.', 'answer: sporting event explanation: Goals are scored during watching sporting events', 'answer: concert hall explanation: concert hall IS USED TO PERFORAMNE', 'answer: open mouth explanation: baby always refuse to eat', 'answer: funnel explanation: funnel is a tube pipe that is wide', 'answer: jungle explanation: Rivers flow trough valleys', 'answer: university explanation: university is an institution of higher', 'answer: jewelry store explanation: watches areonly bought in jewelary shops', 'answer: bathhouse explanation: Rivers flow trough valleys.', 'answer: ample explanation: Ample | Definition of Ample by', 'answer: write will explanation: This word is Most relavant', 'answer: head north explanation: you have to go head north to reach the goal', \"answer: compact explanation: compact car's steering seem quite loose, but he still considered purchasing it because he needed something small\", 'answer: bowling alley explanation: This word is Most relavant', 'answer: get wet explanation: if the cat gets expose they would be wet', 'answer: hungry explanation: TO STIMULATE THE HUNGRY', 'answer: study french cooking explanation: study french cooking wanted to perfect his craft']\n"
     ]
    },
    {
     "name": "stderr",
     "output_type": "stream",
     "text": [
      "Validation::  23%|██▎       | 9/39 [00:56<03:07,  6.23s/it]"
     ]
    },
    {
     "name": "stdout",
     "output_type": "stream",
     "text": [
      "Decoded predictions: []\n",
      "Decoded labels: ['answer: follower explanation: Every tribe always have a leader and a follower.', \"answer: loved explanation: loved child didn't know the problems his mother was going\", 'answer: religion explanation: Rivers flow trough valleys.', 'answer: knowing how to read explanation: only literate can read and comprehend a newspaper', 'answer: say thank explanation: the girl have many birthday gift say thank to everyone', 'answer: patience explanation: ability to endure difficult circumstances', 'answer: set table explanation: Rivers flow trough valleys.', 'answer: helping others explanation: assistance were given to help people', \"answer: stagnation explanation: Stagnation occurs when things don't change\", 'answer: packaging materials explanation: recycled materials are used for packaging', 'answer: demonstration explanation: Demonstration (teaching) - Wikipedia', 'answer: receive data explanation: Rivers flow trough valleys.', 'answer: effort explanation: vigorous or determined attempt', 'answer: unnecessary explanation: Synonyms and Antonyms of unnecessary', 'answer: drawer explanation: it is safe', 'answer: get answers explanation: witness is used to get solve case', 'answer: walked explanation: Walked - definition', 'answer: opera explanation: This word is Most relavant', 'answer: battery explanation: THE BATTERY IS VERY LOW CHARGING', 'answer: military base explanation: Lists of military installations - Wikipedia', 'answer: dishwasher explanation: lot of dish varieties', 'answer: biological child explanation: biological child is a child born', 'answer: word explanation: a letter is a paper', 'answer: chemistry lab explanation: available science chemistry lab', 'answer: cast shadow explanation: Shadow - Wikipedia', 'answer: temperate zone explanation: The forest experienced a cold winter temperate zone', 'answer: countryside explanation: Z Tech Window Tinting', 'answer: water plants explanation: i like very much flower and vegetables', 'answer: motion explanation: if you stand still you get hit', 'answer: social event explanation: social event was time passing', 'answer: bookcase explanation: BOOKCASE IN HARDCOVERS', 'answer: were thirsty explanation: a drink is thirsty']\n"
     ]
    },
    {
     "name": "stderr",
     "output_type": "stream",
     "text": [
      "Validation::  26%|██▌       | 10/39 [01:02<03:00,  6.24s/it]"
     ]
    },
    {
     "name": "stdout",
     "output_type": "stream",
     "text": [
      "Decoded predictions: []\n",
      "Decoded labels: [\"answer: cut grass explanation: many lawn mowers are gas powered while the other items aren't\", 'answer: work room explanation: work room greeted the employees to the program', 'answer: welcome guests explanation: welcome guests hostess was good at her job, she always had a smile', 'answer: compliance explanation: Rivers flow trough valleys.', 'answer: synagogue explanation: service is work', 'answer: nodding explanation: Nodding | Definition of Nodding by Merriam-Webster', 'answer: floor explanation: This word is Most relavant', 'answer: throw up explanation: throw upThe lady would eat and eat, and because of mental issues would then make herself what?', 'answer: bridge explanation: he arches the bridge carefully', 'answer: aggressive explanation: This word was most relevant.', 'answer: ignition switch explanation: it was more safe.', 'answer: creek bed explanation: Rivers flow trough valleys.', 'answer: accelerate explanation: man try himself to accelerate to escape', 'answer: solemn explanation: This word was most relevant.', 'answer: soothing explanation: Definition of soothing', 'answer: fraternity house explanation: obviously we will be at home late night', 'answer: air explanation: air pollution is only visible in sky', 'answer: garage explanation: garage is the place to change oil', 'answer: sick person explanation: person suffering from an illness', 'answer: productive explanation: they weired white suite', 'answer: forest explanation: Deforestation - Wikipedia', 'answer: mexico explanation: North America :: Mexico', \"answer: getting in shape explanation: A Beginner's Guide to Getting\", 'answer: meeting explanation: paperwork is work', 'answer: initiate explanation: Replying means she started the conversations, not him.', 'answer: out of pocket explanation: man gave some thing out from his pocket', 'answer: relaxation explanation: Rivers flow trough valleys.', 'answer: swarm explanation: Swarm is a mobile app that allows', 'answer: mall explanation: mall sale store', 'answer: apartment building explanation: apartment building always a crowd at the landing', 'answer: babies explanation: Rivers flow trough valleys.', 'answer: lie down explanation: order to sleep or rest']\n"
     ]
    },
    {
     "name": "stderr",
     "output_type": "stream",
     "text": [
      "Validation::  28%|██▊       | 11/39 [01:08<02:54,  6.23s/it]"
     ]
    },
    {
     "name": "stdout",
     "output_type": "stream",
     "text": [
      "Decoded predictions: []\n",
      "Decoded labels: ['answer: interior explanation: This word was most relevant.', 'answer: library explanation: got o library what has stationary material', 'answer: trapeze explanation: Trapeze Artists Florida', 'answer: look angry explanation: Rivers flow trough valleys.', 'answer: financial security explanation: Financial security refers to the', 'answer: make larger explanation: this word is more relevant', 'answer: hospital explanation: take care in the hospital', 'answer: warm coat explanation: warm coat is always', 'answer: stock certificate explanation: The piece of paper was worth a lot of money, it was an old Apple Inc stock certificate', 'answer: barrels explanation: This is where a thing would be kept', 'answer: hell explanation: Rivers flow trough valleys.', 'answer: baseball diamond explanation: Baseball diamond - definition of baseball', 'answer: marching band explanation: marching is only in ryhthm', 'answer: crucial explanation: Rivers flow trough valleys.', 'answer: corrupt explanation: corruptprincess was pure, the evil wizard', 'answer: get frustrated explanation: feeling annoyed or less', 'answer: cellar explanation: a location in the house where rats can hide easily', 'answer: gain ground explanation: player wants to gain ground', 'answer: court room explanation: The shark actually counted as evidence court room', 'answer: personal cleanliness explanation: We take bath to clean ourselves.', 'answer: wait for orders explanation: Rivers flow trough valleys.', 'answer: inner ear explanation: inner ear The student explained he had a clue what neuroepithelium was and got really nervous', 'answer: augment explanation: Augment - Wikipedia', 'answer: multiplication explanation: people are powerful', 'answer: music room explanation: Musicroom - A world of music at your fingertips', 'answer: stagger explanation: drunk people staggers', 'answer: japan explanation: This word is Most relavant', 'answer: kentucky explanation: Kentucky is a southeastern state bounded', 'answer: front door explanation: The name townhouse or townhome was later used', 'answer: airport explanation: Rivers flow trough valleys.', 'answer: rest area explanation: To let the body drop heavily', \"answer: friend's house explanation: correct but mean different things\"]\n"
     ]
    },
    {
     "name": "stderr",
     "output_type": "stream",
     "text": [
      "Validation::  31%|███       | 12/39 [01:14<02:48,  6.23s/it]"
     ]
    },
    {
     "name": "stdout",
     "output_type": "stream",
     "text": [
      "Decoded predictions: []\n",
      "Decoded labels: ['answer: die of cancer explanation: Signs that death is near', 'answer: testify explanation: i was to take a metal piece', 'answer: cherry tree explanation: this word is more relevant', 'answer: barn explanation: chicken eggs kept in barn', 'answer: relaxation explanation: Rivers flow trough valleys.', 'answer: sanded explanation: final sanding with a fine grit belt makes', 'answer: countryside explanation: hey explored the surrounding', 'answer: new england explanation: toll road from Maine to New Hampshire', 'answer: bus depot explanation: bus depot travel so it was no surprise sight', 'answer: classroom explanation: Login - E-Classroom', 'answer: good for explanation: Vegetables and fruits are an important', 'answer: neighborhood explanation: safety is m,ust', 'answer: chemistry lab explanation: mixtures mixing fruitsa', 'answer: practice explanation: student might practice the violin', 'answer: atlas explanation: is the latest in a line of advanced humanoid rob', 'answer: differently explanation: differently (adverb) definition and synonyms', 'answer: food store explanation: grape is afood', 'answer: indiana explanation: racetrack motorsport in the world', 'answer: certificate explanation: TO GET THE OFFICIAL RECOGNIZATION', 'answer: fish market explanation: wholesale trade between fishermen', 'answer: backpack explanation: Rivers flow trough valleys.', 'answer: trust explanation: kissing is happens after trust', 'answer: jar explanation: Sauerkrau are often fermented in Jars.', 'answer: theater explanation: they all had a passion for the local theater', 'answer: ground explanation: ground (noun) definition and synonyms', 'answer: garden explanation: Gardening Tips', 'answer: potential explanation: necessary conditions exist', 'answer: indestructible explanation: is the fourth studio', 'answer: moving forward explanation: Here to declare to you my past is over in you', 'answer: eddie bauer explanation: Eddie Bauer clothing store chain', 'answer: two eyes explanation: two eyes Unlike a spider and his many sight seers', 'answer: die explanation: humans are die in one day.']\n"
     ]
    },
    {
     "name": "stderr",
     "output_type": "stream",
     "text": [
      "Validation::  33%|███▎      | 13/39 [01:20<02:41,  6.22s/it]"
     ]
    },
    {
     "name": "stdout",
     "output_type": "stream",
     "text": [
      "Decoded predictions: []\n",
      "Decoded labels: ['answer: stupid explanation: stupid is not a clever', \"answer: place of work explanation: legal definition of 'places of work'.\", 'answer: act responsibly explanation: mistake some work', 'answer: momentum explanation: beginner building momentum', 'answer: effectively treated explanation: effectively treated mental illness receives medication and therapy', 'answer: caregiver explanation: caregiver or carer', 'answer: jogging explanation: Rivers flow trough valleys.', 'answer: open mind explanation: open mindlearning about the world and different cultures', 'answer: desire to win explanation: every player motivation is desire to win.', 'answer: ask question explanation: there are ask questions.', 'answer: do enjoy explanation: We enjoy when we have fun.', 'answer: completing explanation: This word was most relevant.', \"answer: passing explanation: Scoring A's is sure pass.\", 'answer: have fun explanation: When the working day is done', 'answer: below explanation: i see something in party', 'answer: department store explanation: department store clothing and wrenches', 'answer: newsstand explanation: Digital Newsstand - Wikipedia', 'answer: dictionary explanation: vines belonging to the genus Ficus.', 'answer: great outdoors explanation: This word was most relevant.', 'answer: everglades explanation: Everglades National Park Official Webpage', 'answer: wishing well explanation: Wishing well - Wikipedia', 'answer: doctor explanation: the doctor are not available, people read magazines', 'answer: pocket explanation: pocket While walking the student needed to store his writing insturment', 'answer: concentration explanation: in eleborate task concentration is important', 'answer: knowledge explanation: Studying anything increases your knowledge of what you are studying.', 'answer: full explanation: if belly is full you cannot eat', 'answer: disturb explanation: Do Not Disturb - Objective-See', 'answer: painting explanation: Rivers flow trough valleys.', 'answer: office building explanation: A cubicle is a partially', 'answer: construction site explanation: To work in site construction', 'answer: countryside explanation: This word is Most relavant', 'answer: valley explanation: Rivers flow trough valleys.']\n"
     ]
    },
    {
     "name": "stderr",
     "output_type": "stream",
     "text": [
      "Validation::  36%|███▌      | 14/39 [01:27<02:35,  6.22s/it]"
     ]
    },
    {
     "name": "stdout",
     "output_type": "stream",
     "text": [
      "Decoded predictions: []\n",
      "Decoded labels: ['answer: puncture wound explanation: puncture wound is a deep wound', 'answer: hope explanation: Hope is a good feeling that people have', 'answer: inspiration explanation: Rivers flow trough valleys.', 'answer: universe explanation: galaxies is a part of universe', 'answer: toronto explanation: Toronto a mountie got off at a subway stop', 'answer: sneezing explanation: Allergies cause sneezing', 'answer: gaining knowledge explanation: Gaining Knowledge That Will Help', 'answer: water fountain explanation: it calls as water fountain', 'answer: past explanation: It could not be in the future.', 'answer: strip mall explanation: it is the strip mall', 'answer: valley explanation: valleys are always between two mountains', 'answer: bus stop explanation: bus stop is a designated place', 'answer: rabbit warren explanation: 8 Mile (film) - Wikipedia', 'answer: bible explanation: List of biblical names starting with C - Wikipedia', 'answer: new job explanation: After he got hired he hoped for success at his new job', 'answer: repair shop explanation: This option is better to this task.', 'answer: ecosystem explanation: living organism in ecosystem', \"answer: mammals explanation: mammals Animals who have hair and don't lay eggs\", 'answer: lots of attention explanation: nourishment is a work', 'answer: container explanation: Results are changed', 'answer: sore muscles explanation: soak in hot tubs to relieve to sore muscles', 'answer: pay bills explanation: buy food pay bills', 'answer: state fair explanation: Rivers flow trough valleys.', 'answer: can explanation: If not a bottle only option is can', 'answer: illustrate point explanation: illustrates a situation', 'answer: stand still explanation: Rivers flow trough valleys.', 'answer: death explanation: rash driving leads to death', 'answer: table explanation: Come and learn here the 7 times table', 'answer: stress relief explanation: This word was most relevant.', 'answer: sea water explanation: blowfish living seawater', 'answer: new perspective explanation: New Perspective\" is a song by American rock b', 'answer: tropical rainforest explanation: maximum water gain']\n"
     ]
    },
    {
     "name": "stderr",
     "output_type": "stream",
     "text": [
      "Validation::  38%|███▊      | 15/39 [01:33<02:29,  6.23s/it]"
     ]
    },
    {
     "name": "stdout",
     "output_type": "stream",
     "text": [
      "Decoded predictions: []\n",
      "Decoded labels: ['answer: grocery shop explanation: grocery shopBoredom and hunger led to a wandering waste of time and a cart full', 'answer: warm room explanation: A cold room during winter', 'answer: parents explanation: this word is more relevant', 'answer: born again explanation: regeneratio human spirit', 'answer: flower bed explanation: This word was most relevant.', 'answer: crime explanation: Students do everything', 'answer: saltwater explanation: Saltwater crocodile - Wikipedia', 'answer: drunker explanation: Drunk Driving - Wikipedia', 'answer: cabinet explanation: Rivers flow trough valleys.', 'answer: being happy explanation: having fun is associated with happiness.', 'answer: forest explanation: large area of forest', 'answer: spinal injuries explanation: This word is Most relavant', 'answer: outside explanation: This word was most relevant.', 'answer: feel guilty explanation: Rivers flow trough valleys.', 'answer: action explanation: director said only action', 'answer: farming areas explanation: farm land constitutes farmig area', 'answer: country explanation: that is their job', 'answer: making love explanation: Urban Dictionary: making love', 'answer: outer space explanation: aliense are danger', 'answer: cloud explanation: Cloud computing', 'answer: kitchen cabinet explanation: Modular Kitchen Cabinets in Kochi,', 'answer: wide acceptance explanation: People usually support those who suffer.', 'answer: confident explanation: Confident Group: Top Builders', 'answer: sometimes bad explanation: This word was most relevant', 'answer: bridge explanation: Contract bridge - Wikipedia', 'answer: feed themselves explanation: Each milestone a toddler', \"answer: ring explanation: monitoring what's important from\", 'answer: mad cow disease explanation: It is a sickness.', 'answer: write letter explanation: Before the advent of modern technology made', 'answer: watching television explanation: This word is Most relavant', 'answer: have sex explanation: Regular sex can be', 'answer: orbit explanation: is the gravitationally curved trajectory of the planet']\n"
     ]
    },
    {
     "name": "stderr",
     "output_type": "stream",
     "text": [
      "Validation::  41%|████      | 16/39 [01:39<02:23,  6.23s/it]"
     ]
    },
    {
     "name": "stdout",
     "output_type": "stream",
     "text": [
      "Decoded predictions: []\n",
      "Decoded labels: ['answer: feel better explanation: they going jogging in ground', 'answer: spend money explanation: Save more than pennies', 'answer: rush explanation: rush How is a child eager to be going to play likely to get there?', 'answer: say words explanation: person likely to communicatewith say words', 'answer: pedalling explanation: pedalling riding a bike getting it to move', 'answer: twenty four explanation: 24-hour Malayalam news', 'answer: exit ramp explanation: automobile is a machine', 'answer: wonderful explanation: energy is a source', 'answer: send email explanation: send email communicate if you are far away from who you want to communicate', 'answer: talk explanation: i will make drawing', 'answer: write down explanation: They can read what is written.', 'answer: bridge explanation: bridge would you get from one side of a canal', 'answer: read newspapers explanation: All Indian newspapers links', 'answer: homes explanation: where your home search begins', 'answer: rich person explanation: Who are the richest people world', 'answer: subdivision explanation: this word is more relevant', 'answer: television explanation: The common watching device at home is a tv set', 'answer: have to hold explanation: incorporation of the phrase in wedding', 'answer: make more money explanation: 26 Legit Ways to Make Money - NerdWallet', 'answer: recur explanation: people sometimes relapse during gaps in treatment', 'answer: saliva nd mouth explanation: This word is Most relavant', 'answer: halloween explanation: the chrismas time was halloween', 'answer: art supplies explanation: useful for craft work', 'answer: refrigerator explanation: it prevents from decomposing', 'answer: humor explanation: Rivers flow trough valleys.', 'answer: everything explanation: everything who want', 'answer: porous explanation: s definition is - possessing or', 'answer: sidewalk explanation: This word is Most relavant', 'answer: lie explanation: This word is Most relavant', 'answer: michigan explanation: Education + Business (E+B) | Michigan Ross', 'answer: hasten explanation: delay an event and plan or decide that', 'answer: stay in bed explanation: Raining can be disturbing for your chores.']\n"
     ]
    },
    {
     "name": "stderr",
     "output_type": "stream",
     "text": [
      "Validation::  44%|████▎     | 17/39 [01:45<02:17,  6.23s/it]"
     ]
    },
    {
     "name": "stdout",
     "output_type": "stream",
     "text": [
      "Decoded predictions: []\n",
      "Decoded labels: ['answer: calm explanation: we have to teach the child about the calm', 'answer: luggage compartment explanation: women large hand bags', 'answer: bored explanation: a book is world', 'answer: wet explanation: it has water', \"answer: dog's mouth explanation: mostly cat eat by dog\", 'answer: tiredness explanation: This word is Most relavant', 'answer: go broke explanation: i likely happen in marriage party', 'answer: silent explanation: The room is silent after the music turn off', 'answer: shoot explanation: Rivers flow trough valleys.', 'answer: teaching explanation: they want a teaching', \"answer: boredom explanation: boredom attending school and are falling asleep you're likely experiencing\", 'answer: have fun explanation: beer were used to have fun in trip', 'answer: hang over explanation: i gets hang over', 'answer: making new friends explanation: Friends from the same age group are likely to be there.', 'answer: learning about world explanation: increase my knowledge', 'answer: laughter explanation: Laughter is the Best Medicine', 'answer: get away from explanation: Rivers flow trough valleys.', 'answer: take class explanation: Rivers flow trough valleys.', 'answer: theater explanation: This option is better to this task.', 'answer: mexico explanation: mexico is one of the largest coffee production country', 'answer: america explanation: FOOD RESTAURANT IN AMERICA', 'answer: sea water explanation: this word is more relevant', 'answer: air explanation: Rivers flow trough valleys.', 'answer: ridiculous explanation: A person who acts in a silly fashion', 'answer: sleeping in explanation: Friday night and Alice puts off because sleeping in', 'answer: caged in explanation: Rivers flow trough valleys.', 'answer: garage explanation: building where a car is kept', 'answer: bed explanation: This word is Most relavant', 'answer: fall asleep explanation: Rivers flow trough valleys.', 'answer: transit explanation: Get upcoming departure times', \"answer: broken law explanation: broken lawJames knew that he shouldn't have been buying beer for minors. He didn't even get paid for it. Why was this bad?\", 'answer: universe explanation: universe James looked up and saw the start twinkling in the black yonder']\n"
     ]
    },
    {
     "name": "stderr",
     "output_type": "stream",
     "text": [
      "Validation::  46%|████▌     | 18/39 [01:52<02:10,  6.22s/it]"
     ]
    },
    {
     "name": "stdout",
     "output_type": "stream",
     "text": [
      "Decoded predictions: []\n",
      "Decoded labels: [\"answer: wipe out explanation: wipe outJames loved to surf but he wasn't good at it. He would always do what?\", 'answer: motel room explanation: motel room toilet is cheap', 'answer: effusive explanation: This word is Most relavant', \"answer: child's hand explanation: flying the sky\", 'answer: control model explanation: DARK TO THE ADVANTAGES TO THE PROGRAM', 'answer: england explanation: england and france share boarder and one can easiy cross via the channel tunnel.', 'answer: library explanation: We generally found old maps in a library.', 'answer: upwards explanation: upstream upwards diagonal', 'answer: midwest explanation: this word is more relevant', 'answer: relaxation explanation: RELAXATION IS MEETING A FRIEND', 'answer: family tree explanation: Genealogical data can be represented', 'answer: being entertained explanation: being entertained laughter', 'answer: satisfaction explanation: Doing good deeds creates joy.', 'answer: being prepared explanation: Rivers flow trough valleys.', 'answer: need for food explanation: Physiology of weight reduction: To lose weight you must burn more calories than you eat', 'answer: bedroom explanation: For some medical center', 'answer: watch tv explanation: Watching television is a lazy activity.', 'answer: have fun explanation: Acvities that are fun are done more often', 'answer: garage explanation: Rivers flow trough valleys.', 'answer: mail box explanation: mail box in outside', 'answer: current explanation: Direct current - Wikipedia', 'answer: orchestra explanation: orchestra is a large instrumental ensemble', 'answer: typhoon explanation: Hurricanes, typhoons and cyclones', 'answer: sporting event explanation: Sporting event - definition of Sporting event', 'answer: injury explanation: i planning games in summer', 'answer: feeling happy explanation: Playing with another causes enjoyment', 'answer: garage explanation: A neatly coiled garden hose. A garden hose,', 'answer: function explanation: The function of a thing matters for that its aesthetics.', 'answer: nursery explanation: Top Plant Nurseries in Gandhipuram', 'answer: bedroom explanation: it is in his bedroom', 'answer: choice explanation: A person is a human', 'answer: free money explanation: JOHN GET A FREE MONEY']\n"
     ]
    },
    {
     "name": "stderr",
     "output_type": "stream",
     "text": [
      "Validation::  49%|████▊     | 19/39 [01:58<02:04,  6.22s/it]"
     ]
    },
    {
     "name": "stdout",
     "output_type": "stream",
     "text": [
      "Decoded predictions: []\n",
      "Decoded labels: ['answer: with brush explanation: paint house with brush', \"answer: cliff explanation: u can't drive in cliff\", 'answer: south carolina explanation: Beaches are typical found in east coast areas.', 'answer: new york explanation: wilderness available in ney york', 'answer: attic explanation: space found directly below the pitched', 'answer: new hampshire explanation: Fox hunting is an activity involving the tracking', 'answer: restaurant explanation: Sauces and ketchup are found is cafes and restaurants.', 'answer: joy explanation: joy cause what emotion', 'answer: partner explanation: a person or organization', 'answer: coffee table explanation: This word is Most relavant', 'answer: courtroom explanation: They are plaintiffs', 'answer: painful explanation: Painful Synonyms, Painful Antonyms', 'answer: europe explanation: Northern Hemisphere and mostly', 'answer: spain explanation: Spain is name of a country.', 'answer: corner explanation: Definition of corner in English', 'answer: ore explanation: Eeyore - Wikipedia', 'answer: instruments explanation: this word is more relevant', 'answer: multivitamin explanation: This word is Most relavant', 'answer: desk drawer explanation: more at The Conta', 'answer: overpriced explanation: retail stores are on sale overpriced', 'answer: think explanation: Think Synonyms, Think Antonyms', 'answer: hug explanation: hug Most people who are family like to greet', 'answer: attic explanation: Location is a important for routing', 'answer: man made explanation: E-Man - Wikipedia', 'answer: inferior explanation: he Romans had lots of different gods and goddesses', 'answer: getting hurt explanation: Rivers flow trough valleys.', 'answer: eat ice cream explanation: eat ice cream enjoy something cool and sweet', \"answer: colds and flu explanation: Colds and flu's are unpredictable.\", 'answer: refrigerator explanation: drive is good', 'answer: strange explanation: Strange Synonyms, Strange Antonyms', 'answer: listen to music explanation:. listen to music People do many things to alleviate boredom', 'answer: park explanation: This word was most relevant.']\n"
     ]
    },
    {
     "name": "stderr",
     "output_type": "stream",
     "text": [
      "Validation::  51%|█████▏    | 20/39 [02:04<01:58,  6.23s/it]"
     ]
    },
    {
     "name": "stdout",
     "output_type": "stream",
     "text": [
      "Decoded predictions: []\n",
      "Decoded labels: ['answer: vancouver island explanation: Vancouver Island News', 'answer: use paper explanation: we use paper to print', 'answer: skate explanation: skate is one of the important sport', 'answer: literacy explanation: newspaper have news', 'answer: fatigue explanation: THIS IS BETTER ANSWER', 'answer: aggravation explanation: aggravation is causes of errands', 'answer: exchanging ideas explanation: exchanging ideas confusion', 'answer: death explanation: A Death - Wikipedia', 'answer: school explanation: List of schools in Ernakulam district', 'answer: safety explanation: safety Sally was afraid of danger and always double checked', 'answer: television explanation: Televisions | Croma Electronics', 'answer: nightmare explanation: Rivers flow trough valleys', 'answer: game explanation: she wants game', 'answer: coastal cities explanation: Coastal Cities in India', 'answer: neighborhood explanation: To the house of his acquaintances', 'answer: one choice for pet explanation: puppy is a dog', 'answer: flatulence explanation: flatulence is kind of stoke', 'answer: exercise explanation: By doing relaxing exercise', 'answer: first class explanation: The most comfort travel suite is first class.', 'answer: pain explanation: Urban Dictionary: Pain', 'answer: gruesome explanation: Rivers flow trough valleys.', 'answer: fight explanation: Rivers flow trough valleys.', \"answer: get tired of explanation: dreams rarely mean what they're actually showing you.\", 'answer: viking ship explanation: warships that have a l', 'answer: washington state explanation: Washington (state) - Wikipedia', 'answer: sporting event explanation: This word is Most relavant', 'answer: receiving explanation: function that involves checking', 'answer: attack explanation: protection can mean attack', 'answer: solar system explanation: the earth is big', 'answer: blunderbuss explanation: blunderbussThe end of the barrel of what primitive firearm is bell shaped', 'answer: awake explanation: awake - Dictionary Definition', 'answer: attack explanation: the attack are displayed in the show']\n"
     ]
    },
    {
     "name": "stderr",
     "output_type": "stream",
     "text": [
      "Validation::  54%|█████▍    | 21/39 [02:10<01:52,  6.23s/it]"
     ]
    },
    {
     "name": "stdout",
     "output_type": "stream",
     "text": [
      "Decoded predictions: []\n",
      "Decoded labels: ['answer: play with toys explanation: Diana play with New Toy Bus', 'answer: carnival explanation: carnival is college music party', 'answer: open book explanation: literally change things', 'answer: hallway explanation: hallway in a building is a long passage', 'answer: uninhabitable explanation: their is no more oxygen', 'answer: table explanation: Come and learn here the 7 times table', 'answer: maryland explanation: Maryland is a Mid-Atlantic state', 'answer: cry explanation: Child Rights and You', 'answer: uneven explanation: This word was most relevant.', 'answer: classroom explanation: Rivers flow trough valleys.', 'answer: classroom explanation: Rivers flow trough valleys.', 'answer: zoo explanation: TIGER WILL BE LIVED IN ZOO', 'answer: snowflake explanation: Rivers flow trough valleys.', 'answer: liquor store explanation: iquor store gas station', 'answer: full sunlight explanation: full sunlight There was no shade for Jenny. She was forced', 'answer: bankruptcy explanation: Bankruptcy is a legal process through', 'answer: reduce explanation: returned value is assigned to the accumulator', 'answer: increased heart rate explanation: that might increase the heart rtae', 'answer: launder explanation: launder clean clothes', 'answer: practice explanation: The verb practice/practise', 'answer: go to movies explanation: Refine See titleswatch instantly', 'answer: surface of earth explanation: surface of earth museum', 'answer: exhilarating explanation: traveling to new place is exhilarating', \"answer: balkan peninsula explanation: Most smaller parts of a country are peninsula's.\", 'answer: homicide explanation: type of suicide', 'answer: organ explanation: Rivers flow trough valleys.', 'answer: surface of earth explanation: Earth - Wikipedia', 'answer: hedgehog explanation: Rivers flow trough valleys.', 'answer: goat explanation: Rivers flow trough valleys.', 'answer: dark explanation: When two children', 'answer: sharp claws explanation: Rivers flow trough valleys.', 'answer: digesting explanation: food wants to digest']\n"
     ]
    },
    {
     "name": "stderr",
     "output_type": "stream",
     "text": [
      "Validation::  56%|█████▋    | 22/39 [02:16<01:45,  6.23s/it]"
     ]
    },
    {
     "name": "stdout",
     "output_type": "stream",
     "text": [
      "Decoded predictions: []\n",
      "Decoded labels: ['answer: thank god explanation: thanks is unexpected decent', 'answer: spend time explanation: These days, many people spend time', 'answer: money explanation: money boss at the end of the week', 'answer: bluegrass music explanation: play is a game', 'answer: headphones explanation: Headphones are the only things you use on you ears', \"answer: people explanation: people waiting alongside with when you're in a reception area\", 'answer: beat explanation: watch in area beat crimes', 'answer: amusement park explanation: amusement park is always attraction', 'answer: moon explanation: moon blocks sunshine', 'answer: announce explanation: How Newspapers Can Use Social Media.', 'answer: human body explanation: cell basic living', 'answer: indigestion explanation: indigestion tasty health problems', 'answer: heartburn explanation: heartburn is after eating at lunch time', 'answer: disagreements explanation: disagreement about the details', 'answer: fall asleep explanation: boring show will bring fall asleep', 'answer: daydream explanation: when u contemplate alone without any action.it remains as a dream', 'answer: fly explanation: machine fly but humans not', 'answer: hand explanation: we can buy', 'answer: suitcase explanation: ican use the suitcase to keep my book while traveling', 'answer: chicago explanation: chicago has many parking structures', 'answer: europe explanation: because of the tradition', 'answer: wreak explanation: Wreak | Definition of Wreak', 'answer: bloom explanation: deposit certain fresh fruits', 'answer: orchestra explanation: orchestra could be playing a balailaika', 'answer: cargo ship explanation: Rivers flow trough valleys.', 'answer: find god explanation: the killer goes to hell', 'answer: carpet explanation: Carpets in Chennai', 'answer: athletic club explanation: it make life sportiveness', 'answer: excitement explanation: This word is Most relavant', 'answer: thirsty explanation: thirsty cat other than wanting food', 'answer: exhaustion explanation: Emotional exhaustion can arise when', 'answer: confession explanation: confession could people do that involves']\n"
     ]
    },
    {
     "name": "stderr",
     "output_type": "stream",
     "text": [
      "Validation::  59%|█████▉    | 23/39 [02:23<01:39,  6.24s/it]"
     ]
    },
    {
     "name": "stdout",
     "output_type": "stream",
     "text": [
      "Decoded predictions: []\n",
      "Decoded labels: ['answer: automobile accidents explanation: TO AVOID THE ACCIDENTS', 'answer: falling down explanation: reviews & Metacritic score', 'answer: happy explanation: feels relaxed and happy', 'answer: peach explanation: peach only produces rough pit', 'answer: water fountain explanation: Water Fountain, Fountain manufacturers', 'answer: taxi explanation: Taxis are often taken to airports', 'answer: dress himself explanation: Rivers flow trough valleys.', 'answer: help explanation: cry is an expression', 'answer: slow down explanation: Rivers flow trough valleys.', 'answer: listen to each other explanation: Couples are advised', 'answer: show explanation: Audiences performance', 'answer: need care explanation: s the elderly population incre', 'answer: group together explanation: Rivers flow trough valleys.', 'answer: burial explanation: We bury humans after their death', \"answer: oversupply explanation: company doesn't want oversupply\", 'answer: go out to play explanation: Rivers flow trough valleys.', 'answer: complete job explanation: people aim to complete job in work', 'answer: kill animals explanation: Humans eat animals regularly.', 'answer: build trust explanation: Know yourself and your', 'answer: ask questions explanation: ultimate game development platform', 'answer: jump to conclusions explanation: Quick thinking leads to quick conclusions', 'answer: dirty explanation: Rivers flow trough valleys.', 'answer: face problems explanation:. face problems people need to do to chang', 'answer: singing explanation: Become a Singer Singing Job', 'answer: happiness explanation: love makes life beautiful.', 'answer: wealth explanation: only wealth is gained from hard work', 'answer: teach courses explanation: teach courses professors primarily', 'answer: warm up explanation: ndia vs New Live Score', 'answer: very colorful explanation: feathers are good', 'answer: fair explanation: fair the terms need to be in order to compete against someone', 'answer: dustbin explanation: waste things dustbin in household', 'answer: state name explanation: When we meet someone we generally ask thier name.']\n"
     ]
    },
    {
     "name": "stderr",
     "output_type": "stream",
     "text": [
      "Validation::  62%|██████▏   | 24/39 [02:29<01:33,  6.24s/it]"
     ]
    },
    {
     "name": "stdout",
     "output_type": "stream",
     "text": [
      "Decoded predictions: []\n",
      "Decoded labels: ['answer: parents explanation: parents bring up children', 'answer: buy tickets explanation: buying air ticket is the way to fly', 'answer: shop explanation: shop need to get food', \"answer: buy food explanation: buy food you do when you're going to\", 'answer: look around explanation: Look around, look around, look around', 'answer: satisfaction explanation: atisfaction may refer to: Contentment', 'answer: show explanation: A show has real live performance.', 'answer: play sports explanation: we coach the fundamentals of sports', 'answer: open eyes explanation: open eyes plug in', 'answer: shin splints explanation: shin splints you need to wea', 'answer: hand explanation: hand part of the body', 'answer: understanding explanation: we need a understanding', 'answer: english alphabet explanation: English alphabet - Wikipedia', 'answer: play hockey explanation: boys are like hockey', 'answer: intoxication explanation: drinking alcohol leads to intoxication', 'answer: dress herself explanation: many wondering how much they actually', 'answer: grow corn explanation: maze leads to grow corn', 'answer: lose money explanation: Gambler never wants to lose money.', 'answer: tell story explanation: person is a man', 'answer: wash themselves explanation: Rivers flow trough valleys.', 'answer: english house explanation: Avalon sometimes written Avallon or Avilion', 'answer: resentment explanation: person feels like resentment', 'answer: know what time explanation: This word was most relevant.', 'answer: feel important explanation: feel important What does a self assured person often do?', 'answer: warm room explanation: Every man needs denim in their life', 'answer: satisfaction explanation: Customer satisfaction - Wikipedia', 'answer: branch out explanation: Rivers flow trough valleys.', 'answer: life partner explanation: every person want life partner', 'answer: afraid of explanation: Afraid of/worried about-English', 'answer: feelings explanation: Talking About Your Feelings', 'answer: get pregnant explanation: This word was most relevant.', 'answer: trouble explanation: against a government official']\n"
     ]
    },
    {
     "name": "stderr",
     "output_type": "stream",
     "text": [
      "Validation::  64%|██████▍   | 25/39 [02:35<01:27,  6.26s/it]"
     ]
    },
    {
     "name": "stdout",
     "output_type": "stream",
     "text": [
      "Decoded predictions: []\n",
      "Decoded labels: ['answer: excitement explanation: winning is the form of exictement', 'answer: go to bed explanation: bed is used for relaxing', 'answer: breathing explanation:. breathingWhat does someone stop doing when being dead?', 'answer: anxiety and fear explanation: anxiety and fear being employed', 'answer: cloud over explanation: High-level clouds, called cirrus clouds', 'answer: anger explanation: anger emotion leads to punching', 'answer: show explanation: You buy tickets for a show', 'answer: table explanation: table normally find near a side chair', 'answer: west texas explanation: Rivers flow trough valleys.', 'answer: countryside explanation: countryside is in marmot', 'answer: growing older explanation: humans are to die in living room', 'answer: shortness of breath explanation: Rivers flow trough valleys.', 'answer: losing money explanation: this word is more relevant', 'answer: decomposition explanation: its a natural thing', 'answer: get lost explanation: dog put up posters', 'answer: crash explanation: After getting into a serious car accid', 'answer: wheels turning explanation: HAPPEN TO WHEELTURN', 'answer: melted explanation: This word is Most relavant', 'answer: go back explanation: Rivers flow trough valleys.', 'answer: chest of drawers explanation: Shop from a wide variety of wooden', 'answer: tetrahedron explanation: Rivers flow trough valleys.', 'answer: graduated explanation: It does not strictly imply that', 'answer: fiddle explanation: THIS IS BETTER ANSWER', 'answer: run explanation: lack of breathing level', 'answer: mortal explanation: immortality is relevant', 'answer: made fun of explanation: Synonyms for make fun Thesaurus', 'answer: happiness explanation: to be happy one has to be married to a right person', 'answer: intellectual challenge explanation: puzzles are games', 'answer: avoid pain explanation: ome products combine acetaminophen', 'answer: talented explanation: good at sports is cosidered as talented', 'answer: wisdom explanation: should gain more job opportunities', 'answer: state park explanation: Rivers flow trough valleys']\n"
     ]
    },
    {
     "name": "stderr",
     "output_type": "stream",
     "text": [
      "Validation::  67%|██████▋   | 26/39 [02:42<01:21,  6.28s/it]"
     ]
    },
    {
     "name": "stdout",
     "output_type": "stream",
     "text": [
      "Decoded predictions: []\n",
      "Decoded labels: ['answer: substation explanation: substation a place that has large cable hanging overhead', \"answer: friend's house explanation: Residential Living | Friends House\", 'answer: house explanation: its a place to have it', 'answer: imprisonment explanation: imprisonment (noun) definition', 'answer: do time explanation: finition of do t', 'answer: sell products explanation: Register & Grow your business today', 'answer: intimidation explanation: Rivers flow trough valleys.', 'answer: bone explanation: DOG ENJOY THE BONE', 'answer: paralysis explanation: very unlikely side effect paralysis', 'answer: catch cold explanation: low temperatures compromise immunity', 'answer: computer hard drive explanation: Another name of storing device is computer hard drive.', 'answer: fair explanation: LIGHT COLOR GENERALLY CALLED FAIR', 'answer: sweating explanation: Common causes of this symptom', 'answer: procrastinate explanation: The number of people trying to register to vote.', 'answer: managed explanation: People having mental problems may manage to live normally.', 'answer: procreate explanation: powerful and intuitive digital illustration', 'answer: communication explanation: exchange of information', 'answer: epilogue explanation: This word was most relevant.', 'answer: knowing more explanation: This word is Most relavant', 'answer: polytechnic explanation: This option is better to this task.', 'answer: hear news explanation: News - Wikipedia', 'answer: audience explanation: Audience | Definition of Audience', 'answer: get in shape explanation: TO GET THE ENERGY', 'answer: state explanation: state is part of a republic like the USA', 'answer: act explanation: Fibernet largest wired broadband', 'answer: reading explanation: Reading is the complex cognitive process', 'answer: plan explanation: a set of decisions', 'answer: procreation explanation: People often have sex to procreate', 'answer: drunk driving explanation: drunken drive is accused', 'answer: listening explanation: Listening Skills | SkillsYouNeed', 'answer: listen to music explanation: listen to music children can do while traveling in a car', 'answer: live long explanation: Rivers flow trough valleys.']\n"
     ]
    },
    {
     "name": "stderr",
     "output_type": "stream",
     "text": [
      "Validation::  69%|██████▉   | 27/39 [02:48<01:15,  6.27s/it]"
     ]
    },
    {
     "name": "stdout",
     "output_type": "stream",
     "text": [
      "Decoded predictions: []\n",
      "Decoded labels: ['answer: closed eyes explanation: Only closed eyes lead to a trance', 'answer: pleasure explanation: This word is Most relavant', 'answer: mountains explanation: habit is good', 'answer: being entertained explanation: Synonyms for being entertained', 'answer: death explanation: it is very unlikely you can die from eating', 'answer: overstocking explanation: overstocking means excess product', 'answer: supply food explanation: Rivers flow trough valleys.', 'answer: cleanness explanation: This word is Most relavant', \"answer: milky way explanation: milky way god's creation\", 'answer: lot of explanation: Rivers flow trough valleys', 'answer: depression explanation: area is place', 'answer: move people explanation: you know that focusing', 'answer: transporting explanation: Rivers flow trough valleys.', 'answer: learning explanation: children play the games to learn', 'answer: being employed explanation: being employed applying for job', 'answer: life on earth explanation: life on earth is the sun ultimately responsible for', 'answer: happiness explanation: happiness the thing that is agitated in your head when kissing', 'answer: greater manchester explanation: united kingdome greater manchester', 'answer: airplane explanation: airplane scooter motorboat', 'answer: mill explanation: Rivers flow trough valleys.', 'answer: great britain explanation: great britain is the ferret populer', 'answer: refrigerator explanation: This word is Most relavant', 'answer: make happy explanation: edy routine by Bo Bur', 'answer: unhealthy explanation: Synonyms for unhealthy Thesaurus', 'answer: set orbits explanation: moves around in a fixed path', 'answer: country explanation: country has a leader', 'answer: mall explanation: Rivers flow trough valleys.', 'answer: funeral explanation: We generally go to funeral when someone dies.', 'answer: protection explanation: eagles are always given protection', \"answer: children's story explanation: Children's stories usually contain talking animals.\", 'answer: dard explanation: dard language type is someone', 'answer: have no home explanation: Have no idea']\n"
     ]
    },
    {
     "name": "stderr",
     "output_type": "stream",
     "text": [
      "Validation::  72%|███████▏  | 28/39 [02:54<01:08,  6.26s/it]"
     ]
    },
    {
     "name": "stdout",
     "output_type": "stream",
     "text": [
      "Decoded predictions: []\n",
      "Decoded labels: ['answer: gap explanation: The Gap, Inc., commonly', 'answer: desktop explanation: Desktops usually have phones', \"answer: headache explanation: headache does'nt leads to sleep\", 'answer: rug explanation: rug might I place under the furniture', 'answer: fights explanation: couple have a lot of stopping of their fights', 'answer: open doors explanation: Christian Persecution Today', 'answer: movie explanation: Chennai Movie Tickets Online Booking', 'answer: conference explanation: About Us - AllThingsD', 'answer: death explanation: Your weight will not change if you die.', 'answer: interruption explanation: Repai B interruption', 'answer: sanitation explanation: Rivers flow trough valleys.', 'answer: relax explanation: relax after they finish creating art', 'answer: using water explanation: we need water to clean', 'answer: do mathematics explanation: do mathematics student in engineering', \"answer: reproducing explanation: animal to and it's offspring to continue livng reproducing\", 'answer: get money explanation: Making Money Online', 'answer: tension explanation: This word is Most relavant', 'answer: drawer explanation: open and close and is used', 'answer: flowers on explanation: flowers on of plants is pretty', 'answer: closet explanation: closet at the back are always dirty', 'answer: downtown explanation: Rivers flow trough valleys.', 'answer: small neighborhood explanation: A small neighborhood is part of a town.', 'answer: bathroom explanation: BATHROOM IS THE PLACE FOR BATH', 'answer: kitchen explanation: kitchen is the room likely to have a sideboard on the counter', 'answer: study explanation: This option is better to this task.', 'answer: balloon explanation: helium is very light', 'answer: hopping explanation: Hopping | Definition of Hopping', 'answer: hope for peace explanation: Memorial \"Hope for Peace\"', 'answer: good balance explanation: The most overlooked and arguably', 'answer: louisiana explanation: It is a swamp and wetland region', 'answer: skateboard explanation: type of sports equipment', 'answer: tall building explanation: Tall buildings that achieve significant']\n"
     ]
    },
    {
     "name": "stderr",
     "output_type": "stream",
     "text": [
      "Validation::  74%|███████▍  | 29/39 [03:00<01:02,  6.25s/it]"
     ]
    },
    {
     "name": "stdout",
     "output_type": "stream",
     "text": [
      "Decoded predictions: []\n",
      "Decoded labels: ['answer: reasonable explanation: the question talks about what he DEMANDS to get out of the strike', 'answer: anxiety explanation: We feel anxious when we do something first time.', 'answer: citrus explanation: Citrus UPI based app is a smarter', 'answer: mountainous area explanation: List of mountain ranges - Wikipedia', 'answer: clam chowder explanation: calm chowder is the likely to find a potato', 'answer: brownstone explanation: brownstone is the type of residence has a ground floor with a stoop', \"answer: sporting goods store explanation: Find the closest DICK'S Sporting GoodS\", 'answer: typewriter explanation: Rivers flow trough valleys.', 'answer: atlantic ocean explanation: atlantic oceanWhat very cold area in the east can a crab be found?', 'answer: united states explanation: The United States of America (USA', 'answer: cool off explanation: Rivers flow trough valleys.', 'answer: california explanation: Rivers flow trough valleys.', 'answer: make money explanation: work makes earnings', 'answer: comfortable clothes explanation: a person going on road', 'answer: judge people explanation: judge people will god never do according to religion', 'answer: thin blood explanation: The electolyte level of the', 'answer: feel pleasure explanation: i eating food in a hotel', 'answer: depress explanation: Incapable of increasing.', 'answer: being arrested explanation: Rivers flow trough valleys.', \"answer: wander explanation: i don't want to settle in wander\", 'answer: caps explanation: This word was most relevant.', 'answer: listen to radio explanation: you can listen to news while on your way to work', 'answer: stand alone explanation: system a stand-alone word processor', 'answer: man crew explanation: this word is more relevant', 'answer: deception explanation: deception pretending to be a police officer', 'answer: exercise explanation: Rivers flow trough valleys.', 'answer: victory explanation: victoryWhat would encourage someone to continue playing tennis?', 'answer: group together explanation: Rivers flow trough valleys', 'answer: annoyance explanation: ANNOYANCE | definition in the Cambridge English Dictionary', 'answer: full of air explanation: Air cannot stay in any object that has a hole in it.', 'answer: own home explanation: own homesomeone use a persona', 'answer: orchestra explanation: Music Orchestra in Coimbatore']\n"
     ]
    },
    {
     "name": "stderr",
     "output_type": "stream",
     "text": [
      "Validation::  77%|███████▋  | 30/39 [03:07<00:56,  6.26s/it]"
     ]
    },
    {
     "name": "stdout",
     "output_type": "stream",
     "text": [
      "Decoded predictions: []\n",
      "Decoded labels: ['answer: wallpaper explanation: wallpaper replaces vinyl', 'answer: bug campers explanation: To stay in Bug camper is easy.', 'answer: make friends explanation: Meet New People & Make Friends in Chennai', 'answer: analyse explanation: Rivers flow trough valleys.', 'answer: wait for explanation: Rivers flow trough valleys.', 'answer: analyse explanation: Analyse | Definition of Analyse at Dictionary.com', 'answer: grab explanation: grabWhat would you do to a rock when climb up a cliff?', 'answer: cigarette explanation: cigarette is smoking material', 'answer: water fountain explanation: A bubbler also called a drinking', 'answer: frying pan explanation: Prestige Induction Base Stainless', 'answer: phone book explanation: phone book have more address', 'answer: sharing of ideas explanation: sharing of ideas group of people are talking', 'answer: thruway explanation: thruway main artery is used to expedite travel what would it be referred', 'answer: eat breakfast explanation: This word is Most relavant', 'answer: economic boom explanation: Economic Boom: Definition', 'answer: done explanation: This word was most relevant.', 'answer: ancient times explanation: mammoth good animal', 'answer: examine thing explanation: Creatine Supplement', 'answer: relaxation explanation: body is human part', 'answer: not hungry explanation: SLEEPING TIME WAS NOT HUNGRY', 'answer: garden shed explanation: Shop our selection of', 'answer: ignorance explanation: ignorancesomeone has little knowledge and is judging someone', 'answer: sweat explanation: sweat someone is physically competing what does their body', 'answer: go quickly explanation: daphuck is this about', 'answer: offspring explanation: this word is more relevant', 'answer: air conditioning explanation: i will turn on the air conditioning to make me cool', 'answer: shower explanation: This word is Most relavant', 'answer: using energy explanation: after conserving excess energy man have to take rest', 'answer: fall down explanation: i fell down when i slip from a ladder', 'answer: petted explanation: dog is stroke in petted', 'answer: have money explanation: unexpected costs is needed for travel', 'answer: living room explanation: walk through the door to enter']\n"
     ]
    },
    {
     "name": "stderr",
     "output_type": "stream",
     "text": [
      "Validation::  79%|███████▉  | 31/39 [03:13<00:49,  6.25s/it]"
     ]
    },
    {
     "name": "stdout",
     "output_type": "stream",
     "text": [
      "Decoded predictions: []\n",
      "Decoded labels: ['answer: fast food restaurant explanation: This word is Most relavant', 'answer: urban area explanation: this word is more relevant', 'answer: fair explanation: fairly horses only for jhagged', 'answer: end of line explanation: PASSION WILL BE EXPLOSED', 'answer: university explanation: Rivers flow trough valleys.', 'answer: farm explanation: best place to sleep', 'answer: texas explanation: Things To Do in Texas USA', 'answer: city explanation: people are powerful', 'answer: suitcase explanation: Women Men Kids Bags', 'answer: restaurant explanation: Rivers flow trough valleys.', 'answer: airport explanation: in airport briefcase goes through x-ray machine', 'answer: california explanation: there are loads of Japanese restaurant in Califonia', 'answer: city or town explanation: need to find city or town', 'answer: slaughter house explanation: Rivers flow trough valleys.', 'answer: table explanation: Rivers flow trough valleys.', 'answer: airport explanation: airport is an aerodrome with extended', 'answer: major city explanation: B major - Wikipedia', 'answer: office building explanation: ffice Building / DREAM + Nicolas', 'answer: church explanation: C3 Church Global - Wikipedia', 'answer: piggy bank explanation: penny s a thing', 'answer: at hotel explanation: Rivers flow trough valleys.', \"answer: dress shop explanation: dress shop can a human find clothes that aren't pants\", 'answer: music class explanation: Rivers flow trough valleys.', 'answer: table explanation: HTML table tag', 'answer: fairgrounds explanation: THIS IS BETTER ANSWER', 'answer: fishing camp explanation: Rivers flow trough valleys.', 'answer: mall explanation: THIS IS BETTER ANSWER', 'answer: music store explanation: THIS IS BETTER ANSWER', 'answer: hardware store explanation: Hardware stores sell new saws', 'answer: hardware store explanation: Push out the excess', 'answer: bicycle shop explanation: two wheeler is available in bicycle shop', 'answer: shopping mall explanation: Shopping mall']\n"
     ]
    },
    {
     "name": "stderr",
     "output_type": "stream",
     "text": [
      "Validation::  82%|████████▏ | 32/39 [03:19<00:43,  6.25s/it]"
     ]
    },
    {
     "name": "stdout",
     "output_type": "stream",
     "text": [
      "Decoded predictions: []\n",
      "Decoded labels: ['answer: found outside explanation: Rivers flow trough valleys.', 'answer: symphony explanation: This word was most relevant.', 'answer: downtown explanation: DOWNTOWN IS THE PLACE FOR GETTING THE FOOD', 'answer: yellow pages explanation: easy to find there', 'answer: feild explanation: THIS IS BETTER ANSWER', 'answer: pet shop explanation: This word was most relevant.', \"answer: neighbor's house explanation: This word is Most relavant\", 'answer: dek explanation: Inside means inner part', \"answer: table explanation: Pictures sit on tables when they aren't hung\", 'answer: dresser drawers explanation: rawers from a great selection Furniture', 'answer: shelf explanation: store your dishes in dwelling', 'answer: synagogue explanation: person avoid rain due synagogue', 'answer: front yard explanation: personal ficus lives in front yard', 'answer: tropical jungle explanation: Tropical rainforests are', 'answer: court room explanation: reenactment of real-life stories', 'answer: washington dc explanation: Washington, D.- Wikipedia', 'answer: tomales bay explanation: The Perfect Weekend Getaway', 'answer: apartment explanation: unit is a self-contained housing unit that', 'answer: city explanation: city find hundreds of beauty salon', 'answer: city or town explanation: THIS IS BETTER ANSWER', 'answer: school building explanation: School is place for education.', 'answer: kitchen explanation: planning to bring them outside kitchen', 'answer: big city explanation: ontact BigCity for sales', 'answer: school explanation: school is an educational institution', 'answer: office explanation: offices employ only Adults.', 'answer: surface of earth explanation: surface of earthWhere do all animals live?', 'answer: bloom explanation: This word is Most relavant', 'answer: race track explanation: race meant to drive at high speed', 'answer: kitchen explanation: house room area kitchen', 'answer: google explanation: Google - Information Technology Company', 'answer: casino explanation: Rivers flow trough valleys.', 'answer: office explanation: This word is Most relavant']\n"
     ]
    },
    {
     "name": "stderr",
     "output_type": "stream",
     "text": [
      "Validation::  85%|████████▍ | 33/39 [03:25<00:37,  6.25s/it]"
     ]
    },
    {
     "name": "stdout",
     "output_type": "stream",
     "text": [
      "Decoded predictions: []\n",
      "Decoded labels: ['answer: casino explanation: Rivers flow trough valleys.', 'answer: supermarket explanation: condoms are useful', 'answer: forrest explanation: was an American singer,', 'answer: restaurant explanation: i just wants to go to the restaurant', 'answer: outer space explanation: head to travel is outer space', 'answer: utility room explanation: cylindrical container with a handle : bucket', 'answer: backpack explanation: THIS IS BETTER ANSWER', 'answer: case explanation: case contains instrument', 'answer: plate explanation: pizza is a food', 'answer: cabinet explanation: Cabinet recommends dissolution', 'answer: bowling alley explanation: throw the ball in bowling alley', 'answer: schoolroom explanation: schoolroom | meaning of schoolroom', 'answer: farm house explanation: Farm House Sale Chennai', 'answer: motel explanation: maid clean the motel', 'answer: countryside explanation: Rivers flow trough valleys.', 'answer: supermarket explanation: trucks bring bulky goods', 'answer: sewing room explanation: swwing room is the one store fabric', 'answer: shelf explanation: Rivers flow trough valleys.', 'answer: phoenix explanation: The Phoenix offers', 'answer: desk drawer explanation: Drawers hold unused items', 'answer: forest explanation: Tamil Nadu Forest Department', 'answer: radio station explanation: This word was most relevant.', 'answer: nuclear plant explanation: This option is better to this task.', 'answer: home explanation: dining is food', 'answer: front door explanation: Your front door makes an entrance', 'answer: medicine cabinet explanation: This word is Most relavant', 'answer: classroom explanation: classroom is unlikely to ferret', 'answer: house explanation: house doesnt need to have fire extinguisher', 'answer: living room explanation: GOOD PLACE IS LIVING ROOM', 'answer: mouth explanation: This option is better to this task.', \"answer: table explanation: C Tables You'll Love | Wayfair - Wayfair.com\", 'answer: drawer explanation: the drawer is the best place to store the pamphlets in the office']\n"
     ]
    },
    {
     "name": "stderr",
     "output_type": "stream",
     "text": [
      "Validation::  87%|████████▋ | 34/39 [03:32<00:31,  6.24s/it]"
     ]
    },
    {
     "name": "stdout",
     "output_type": "stream",
     "text": [
      "Decoded predictions: []\n",
      "Decoded labels: ['answer: painting explanation: GRAPES WAS LIKELY PART OF THE PERFORMANCE', 'answer: market explanation: market a great place to buy fresh fruit', 'answer: desk drawer explanation: desk is the place to store', 'answer: eat in restaurant explanation: A person is a human', 'answer: mountains explanation: Mountains are hard like glaciers.', 'answer: outside explanation: This word is Most relavant', 'answer: cabinet explanation: e-Cabinet — e-Estonia', 'answer: banana tree explanation: This word is Most relavant', 'answer: municipal park explanation: municipal park monument likely to be erected', 'answer: table setting explanation: This word is Most relavant', 'answer: cupboard explanation: cupboard is likely to be hidden behind a door', 'answer: museum explanation: Museum is the most likely place', 'answer: music room explanation: THE CLAVICHORD IS MUSICROOM', \"answer: child's room explanation: Rivers flow trough valleys.\", 'answer: hockey game explanation: hockey game is the only game available.', 'answer: cupboard explanation: Rivers flow trough valleys.', 'answer: medical chart explanation: Physical Examination, medical history', 'answer: fairy tale explanation: fairy tale portrays as a hero', 'answer: library explanation: This word is Most relavant', 'answer: new york city explanation: New York City - Wikipedia', 'answer: new york city explanation: Rivers flow trough valleys.', 'answer: appliance store explanation: Appliance Dealers in Coimbatore. Find', 'answer: bar explanation: Rivers flow trough valleys.', 'answer: water explanation: Simple English Wikipedia', 'answer: china explanation: Rivers flow trough valleys.', \"answer: neighbor's house explanation: neighbor's house the closest place from where you could borrow salt\", 'answer: nuclear power plant explanation: This option is better to this task.', 'answer: outer space explanation: Above the atmosphere is only the dark void.', 'answer: center of town explanation: Center Of Town 945 River Ave', 'answer: new york city explanation: new york citys the large area location of the empire', 'answer: outdoors explanation: TA Outdoors - YouTube', 'answer: end of line explanation: e phrase \"End Of Line\" as displayed']\n"
     ]
    },
    {
     "name": "stderr",
     "output_type": "stream",
     "text": [
      "Validation::  90%|████████▉ | 35/39 [03:38<00:24,  6.25s/it]"
     ]
    },
    {
     "name": "stdout",
     "output_type": "stream",
     "text": [
      "Decoded predictions: []\n",
      "Decoded labels: ['answer: at hotel explanation: available in hotel make calls', \"answer: iowa explanation: iowa may you be if you're buying pork chops at a corner shop\", 'answer: india explanation: Lemurs are hunted for food.', 'answer: old barn explanation: Find old barn stock images', 'answer: space explanation: space might an alien use a vacuum', 'answer: cupboard explanation: Wardrobe: Buy Wooden Almirahs', \"answer: loft explanation: Lofts don't sell furniture\", 'answer: closet explanation: reusable product things', 'answer: desk drawer explanation: stapler is in desk drawer', 'answer: countryside explanation: land not in towns', 'answer: florida keys explanation: i find anyone in night', 'answer: forest explanation: This word is Most relavant', 'answer: discount store explanation: discount shop retail shop', 'answer: hen house explanation: hen house would I not want a fox', 'answer: comfortable chair explanation: a cat is a pet', 'answer: house explanation: A computermade multiple parts', 'answer: hospital explanation: blanket is product', 'answer: stand in line explanation: This option is better to this task.', 'answer: chemistry lab explanation: chemistry lab have easily fire', 'answer: woods explanation: neighbours are good', 'answer: suburbs explanation: Suburbs is a residential area', 'answer: pet store explanation: united kingdome greater manchester', 'answer: drawer explanation: drawer someone keep their nylon leggings', 'answer: music store explanation: A piano plays music', 'answer: field explanation: ARRANGED IS FIELD IN A PATH', 'answer: university campus explanation: UNIVERSITY CAMPUS IN AUDITORIUM', 'answer: river explanation: A river is a natural flowing watercourse,', 'answer: public building explanation: List of building types', 'answer: music store explanation:. music store Where would you acquire a wind instrument for you own use?', 'answer: teeth explanation: cavity were found in teeth', \"answer: neighbor's house explanation: Do we say 'Our neighbor's house\", 'answer: stationery store explanation: A writing implement or writing instrument']\n"
     ]
    },
    {
     "name": "stderr",
     "output_type": "stream",
     "text": [
      "Validation::  92%|█████████▏| 36/39 [03:44<00:18,  6.25s/it]"
     ]
    },
    {
     "name": "stdout",
     "output_type": "stream",
     "text": [
      "Decoded predictions: []\n",
      "Decoded labels: ['answer: store explanation: store buy food', 'answer: shelf explanation: Wall Shelves Buy Wall Shelf Onlin', 'answer: library explanation: a building, room', 'answer: laboratory explanation: this word is more relevant', 'answer: office building explanation: Commercial Office Space for rent in Coimbatore', 'answer: storybook explanation: source tool for developing', 'answer: food court explanation: jews eat', 'answer: mansion explanation: Executive Mansion-Liberia - Home | Facebook', 'answer: thailand explanation: thailand find a monkey in the wild', 'answer: bathtub explanation: i finds a bathtub in a single shower', 'answer: venue explanation: Musical events are held at venues.', \"answer: child's hand explanation: Child Hand Images\", 'answer: water cooler explanation: This word was most relevant.', 'answer: encyclopedia explanation: An encyclopedia or encyclopdia', 'answer: bookstore explanation: magazine available in bookstore', 'answer: beautiful garden explanation: This word is Most relavant', 'answer: bus depot explanation: RTD | Union Station', 'answer: three vertices explanation: Triangles are the strongest shape', 'answer: music store explanation: Music store is the place to have balalaika.', \"answer: friend's house explanation: I GET PEN FRIEND'S HOUSE\", 'answer: department store explanation: department store bathtub', 'answer: grocery store explanation: got a toothpick in grocery store', 'answer: clothing store explanation: Rivers flow trough valleys.', 'answer: department store explanation: department store is near me', 'answer: cabinet explanation: We put maps in a cabinet.', 'answer: lumberyard explanation: Amazon Lumberyard - Wikipedia', 'answer: mall explanation: Rivers flow trough valleys.', \"answer: friend's house explanation: friend's house wanted to have fun with a few people\", \"answer: bookstore explanation: a book shop shelf's reading materials\", \"answer: apartment explanation: apartment Where would you have a stove if you don't live in a detached dwelling?\", 'answer: brass band explanation: This option is better to this task.', 'answer: orchestra explanation: orchestra hear a violin along side many string and wind instruments']\n"
     ]
    },
    {
     "name": "stderr",
     "output_type": "stream",
     "text": [
      "Validation::  95%|█████████▍| 37/39 [03:50<00:12,  6.24s/it]"
     ]
    },
    {
     "name": "stdout",
     "output_type": "stream",
     "text": [
      "Decoded predictions: []\n",
      "Decoded labels: ['answer: living room explanation: living room keep a rug near your front door', 'answer: living room explanation: Living Room | Nebraska Furniture Mart', 'answer: dark place explanation: Rivers flow trough valleys.', 'answer: garage explanation: Z Tech Window Tinting', 'answer: pocket explanation: dollar is kept in wallet', 'answer: dishwasher explanation: GLASS WAS DISHWASHER', 'answer: fishing boat explanation: NET IN FISHING BOAT', 'answer: dishwasher explanation: Rivers flow trough valleys.', 'answer: cabinet explanation: because the waste are put in the cabinet', 'answer: backpack explanation: Buy from the latest', 'answer: pizza explanation: This word was most relevant.', 'answer: stew pot explanation: Donate — The Stewpot', 'answer: family reunion explanation: Rivers flow trough valleys.', 'answer: university explanation: university is an institution of higher', 'answer: drawer explanation: person is a man', 'answer: beach explanation: body of water which consists', 'answer: orchestra explanation: Deep Blue C Studio Orchestra - Welcome', 'answer: gulf states explanation: Rivers flow trough valleys.', 'answer: african continent explanation: Geography for Kids: African', 'answer: listen to music explanation: Music - Wikipedia', 'answer: torn explanation: clothe gets tare while washing', 'answer: school students explanation: professor is teacher', 'answer: city explanation: a police officer likely to work for city', 'answer: fishmongers explanation: fishmongers excites about a crab', 'answer: america explanation: Rivers flow trough valleys.', 'answer: prisoner explanation: man post prisoner', 'answer: blind person explanation: known as vision impairment', 'answer: crowd explanation: crowdWho watches a play in an auditorium?', \"answer: very loyal explanation: man's best friend is very loyal\", 'answer: concert explanation: to power musical instrument for the concert.', 'answer: feel more energetic explanation: weak feel more energetic need to', 'answer: have fun explanation: This word is Most relavant']\n"
     ]
    },
    {
     "name": "stderr",
     "output_type": "stream",
     "text": [
      "Validation::  97%|█████████▋| 38/39 [03:57<00:06,  6.25s/it]"
     ]
    },
    {
     "name": "stdout",
     "output_type": "stream",
     "text": [
      "Decoded predictions: []\n",
      "Decoded labels: ['answer: learn new things explanation: e-learning for kids', 'answer: become disillusioned explanation: Disillusioned definition and meaning', 'answer: unable to work explanation: Inability to Work and Eligibility', 'answer: desire to travel explanation: Here is a treasure trovE', \"answer: you're curious explanation: Youthful inexperience\", 'answer: mentally challenged explanation: sometime disability is happened for mentally challenged', 'answer: attract attention explanation: attract attention does someone flirt with many people at once', 'answer: learn about explanation: learn more about that', 'answer: many words explanation: young child is cute', 'answer: confusing explanation: Definition of confuse', 'answer: false information explanation: Rivers flow trough valleys.', 'answer: record album explanation: DANCE PERFORMING IN RECORD ALBUM', 'answer: lots of space explanation: This word is Most relavant', 'answer: smell good explanation: smell good many colors', 'answer: heat explanation: IT WILL RELEASE THE HEAT', 'answer: being raped explanation: for protection against rape they can kill', 'answer: malaise explanation: Malaise - Wikipedia', 'answer: laziness explanation: This word was most relevant.', \"answer: work explanation: It's a place to work\", 'answer: lie explanation: friends are good', 'answer: commute explanation: Rivers flow trough valleys.', 'answer: automated teller explanation: Rivers flow trough valleys.', 'answer: pants explanation: This word was most relevant.', 'answer: imagination explanation: the act or power', 'answer: relaxation explanation: This option is better to this task.', 'answer: nigeria explanation: nigeria can find a monkey in what West African region', 'answer: amazon river explanation: Amazon river watch out for snakes if floating African body of water', 'answer: stairwell explanation: THIS IS BETTER ANSWER', 'answer: confusion explanation: Confusion makes you forget things', 'answer: freezer explanation: Small Deep Freezer manufacturer', 'answer: fountain pen explanation: A pen is a', 'answer: eat every day explanation: get necessary to nutrition']\n"
     ]
    },
    {
     "name": "stderr",
     "output_type": "stream",
     "text": [
      "Validation:: 100%|██████████| 39/39 [04:01<00:00,  6.19s/it]"
     ]
    },
    {
     "name": "stdout",
     "output_type": "stream",
     "text": [
      "Decoded predictions: []\n",
      "Decoded labels: ['answer: problems explanation: problems lead to wrong doings', 'answer: newspaper explanation: Newspaper is produce everyday.', 'answer: transfer of information explanation: Rivers flow trough valleys.', 'answer: supermarket explanation: obtain new soap to brought on supermarket', \"answer: ocean explanation: as the planet's\"]\n"
     ]
    },
    {
     "name": "stderr",
     "output_type": "stream",
     "text": [
      "\n"
     ]
    },
    {
     "ename": "ValueError",
     "evalue": "Empty list found for accuracy predictions or labels.",
     "output_type": "error",
     "traceback": [
      "\u001b[0;31m---------------------------------------------------------------------------\u001b[0m",
      "\u001b[0;31mValueError\u001b[0m                                Traceback (most recent call last)",
      "Cell \u001b[0;32mIn[50], line 5\u001b[0m\n\u001b[1;32m      3\u001b[0m \u001b[38;5;28;01mfor\u001b[39;00m epoch \u001b[38;5;129;01min\u001b[39;00m \u001b[38;5;28mrange\u001b[39m(num_epochs):\n\u001b[1;32m      4\u001b[0m     train_metrics \u001b[38;5;241m=\u001b[39m train_loop(model, train_loader, optimizer)\n\u001b[0;32m----> 5\u001b[0m     val_metrics \u001b[38;5;241m=\u001b[39m \u001b[43mvalidate_loop\u001b[49m\u001b[43m(\u001b[49m\u001b[43mmodel\u001b[49m\u001b[43m,\u001b[49m\u001b[43m \u001b[49m\u001b[43mval_loader\u001b[49m\u001b[43m)\u001b[49m\n\u001b[1;32m      7\u001b[0m     \u001b[38;5;28mprint\u001b[39m(\u001b[38;5;124mf\u001b[39m\u001b[38;5;124m\"\u001b[39m\u001b[38;5;124mEpoch \u001b[39m\u001b[38;5;132;01m{\u001b[39;00mepoch\u001b[38;5;250m \u001b[39m\u001b[38;5;241m+\u001b[39m\u001b[38;5;250m \u001b[39m\u001b[38;5;241m1\u001b[39m\u001b[38;5;132;01m}\u001b[39;00m\u001b[38;5;124m/\u001b[39m\u001b[38;5;132;01m{\u001b[39;00mnum_epochs\u001b[38;5;132;01m}\u001b[39;00m\u001b[38;5;124m\"\u001b[39m)\n\u001b[1;32m      8\u001b[0m     \u001b[38;5;28mprint\u001b[39m(\u001b[38;5;124mf\u001b[39m\u001b[38;5;124m\"\u001b[39m\u001b[38;5;124mTrain Loss: \u001b[39m\u001b[38;5;132;01m{\u001b[39;00mtrain_metrics[\u001b[38;5;124m'\u001b[39m\u001b[38;5;124mtrain_loss\u001b[39m\u001b[38;5;124m'\u001b[39m]\u001b[38;5;132;01m:\u001b[39;00m\u001b[38;5;124m.4f\u001b[39m\u001b[38;5;132;01m}\u001b[39;00m\u001b[38;5;124m\"\u001b[39m)\n",
      "Cell \u001b[0;32mIn[49], line 71\u001b[0m, in \u001b[0;36mvalidate_loop\u001b[0;34m(model, loader)\u001b[0m\n\u001b[1;32m     69\u001b[0m \u001b[38;5;66;03m# Ensure no empty lists before computing metrics\u001b[39;00m\n\u001b[1;32m     70\u001b[0m \u001b[38;5;28;01mif\u001b[39;00m \u001b[38;5;129;01mnot\u001b[39;00m accuracy_preds \u001b[38;5;129;01mor\u001b[39;00m \u001b[38;5;129;01mnot\u001b[39;00m accuracy_labels:\n\u001b[0;32m---> 71\u001b[0m     \u001b[38;5;28;01mraise\u001b[39;00m \u001b[38;5;167;01mValueError\u001b[39;00m(\u001b[38;5;124m\"\u001b[39m\u001b[38;5;124mEmpty list found for accuracy predictions or labels.\u001b[39m\u001b[38;5;124m\"\u001b[39m)\n\u001b[1;32m     72\u001b[0m \u001b[38;5;28;01mif\u001b[39;00m \u001b[38;5;129;01mnot\u001b[39;00m bertscore_preds \u001b[38;5;129;01mor\u001b[39;00m \u001b[38;5;129;01mnot\u001b[39;00m bertscore_labels:\n\u001b[1;32m     73\u001b[0m     \u001b[38;5;28;01mraise\u001b[39;00m \u001b[38;5;167;01mValueError\u001b[39;00m(\u001b[38;5;124m\"\u001b[39m\u001b[38;5;124mEmpty list found for BERTScore predictions or labels.\u001b[39m\u001b[38;5;124m\"\u001b[39m)\n",
      "\u001b[0;31mValueError\u001b[0m: Empty list found for accuracy predictions or labels."
     ]
    }
   ],
   "source": [
    "# Training and validation\n",
    "num_epochs = 3\n",
    "for epoch in range(num_epochs):\n",
    "    train_metrics = train_loop(model, train_loader, optimizer)\n",
    "    val_metrics = validate_loop(model, val_loader)\n",
    "\n",
    "    print(f\"Epoch {epoch + 1}/{num_epochs}\")\n",
    "    print(f\"Train Loss: {train_metrics['train_loss']:.4f}\")\n",
    "    print(f\"Validation Loss: {val_metrics['val_loss']:.4f}\")\n",
    "    print(f\"Validation Accuracy: {val_metrics['accuracy']:.4f}\")\n",
    "    print(f\"Explanation Score: {val_metrics['explanation_score']}\")"
   ]
  },
  {
   "cell_type": "code",
   "execution_count": 51,
   "metadata": {},
   "outputs": [],
   "source": [
    "# Training loop\n",
    "def train_loop(model, loader, optimizer, accumulation_steps=16):\n",
    "    model.train()\n",
    "    batch_losses = []\n",
    "    optimizer.zero_grad()\n",
    "\n",
    "    for i, batch in enumerate(tqdm(loader, desc='Training:')):\n",
    "        inputs = {k: v.to(device) for k, v in batch.items() if k != 'labels'}\n",
    "        labels = batch['labels'].to(device)\n",
    "        outputs = model(input_ids=inputs['input_ids'], attention_mask=inputs['attention_mask'], labels=labels)\n",
    "        loss = outputs.loss / accumulation_steps  # normalize loss\n",
    "\n",
    "        batch_loss_value = loss.item() * accumulation_steps  # convert to original loss value for logging\n",
    "        loss.backward()\n",
    "\n",
    "        if (i + 1) % accumulation_steps == 0:  # update weights every accumulation_steps mini-batches\n",
    "            optimizer.step()\n",
    "            optimizer.zero_grad()  # reset gradients\n",
    "\n",
    "        batch_losses.append(batch_loss_value)\n",
    "\n",
    "    # Update remaining gradients if the number of batches is not a multiple of accumulation_steps\n",
    "    if len(loader) % accumulation_steps != 0:\n",
    "        optimizer.step()\n",
    "        optimizer.zero_grad()\n",
    "\n",
    "    loss_value = sum(batch_losses) / len(batch_losses)\n",
    "    return {'train_loss': loss_value}\n",
    "\n",
    "# Validation loop\n",
    "def validate_loop(model, loader):\n",
    "    model.eval()\n",
    "    batch_losses = []\n",
    "    accuracy_preds = []\n",
    "    accuracy_labels = []\n",
    "    bertscore_preds = []\n",
    "    bertscore_labels = []\n",
    "\n",
    "    with torch.no_grad():\n",
    "        for batch in tqdm(loader, desc='Validation:'):\n",
    "            inputs = {k: v.to(device) for k, v in batch.items() if k != 'labels'}\n",
    "            labels = batch['labels'].to(device)\n",
    "            outputs = model(input_ids=inputs['input_ids'], attention_mask=inputs['attention_mask'], labels=labels)\n",
    "            loss = outputs.loss\n",
    "\n",
    "            # Generate predictions\n",
    "            predictions = model.generate(inputs['input_ids'], attention_mask=inputs['attention_mask'], max_length=512)\n",
    "            decoded_preds = tokenizer.batch_decode(predictions, skip_special_tokens=True)\n",
    "            decoded_labels = tokenizer.batch_decode(labels, skip_special_tokens=True)\n",
    "\n",
    "            # Debugging output\n",
    "            print(f\"Decoded predictions: {decoded_preds}\")\n",
    "            print(f\"Decoded labels: {decoded_labels}\")\n",
    "\n",
    "            # Filter out empty strings and check lengths\n",
    "            decoded_preds = [pred for pred in decoded_preds if pred.strip()]\n",
    "            decoded_labels = [label for label in decoded_labels if label.strip()]\n",
    "\n",
    "            # Ensure lengths match for accuracy metric\n",
    "            if len(decoded_preds) != len(decoded_labels):\n",
    "                print(f\"Length mismatch: {len(decoded_preds)} predictions, {len(decoded_labels)} labels\")\n",
    "                continue\n",
    "\n",
    "            # Prepare for accuracy metric (assuming labels are in the form of text that needs to be converted to integers)\n",
    "            try:\n",
    "                accuracy_preds.extend([int(pred.split()[1]) for pred in decoded_preds if len(pred.split()) > 1 and pred.split()[1].isdigit()])\n",
    "                accuracy_labels.extend([int(label.split()[1]) for label in decoded_labels if len(label.split()) > 1 and label.split()[1].isdigit()])\n",
    "            except IndexError as e:\n",
    "                print(f\"Index error: {e}\")\n",
    "                continue\n",
    "\n",
    "            # Prepare for BERTScore metric\n",
    "            bertscore_preds.extend(decoded_preds)\n",
    "            bertscore_labels.extend(decoded_labels)\n",
    "\n",
    "            batch_losses.append(loss.item())\n",
    "\n",
    "    # Ensure no empty lists before computing metrics\n",
    "    if not accuracy_preds or not accuracy_labels:\n",
    "        print(f\"Accuracy preds: {accuracy_preds}\")\n",
    "        print(f\"Accuracy labels: {accuracy_labels}\")\n",
    "        raise ValueError(\"Empty list found for accuracy predictions or labels.\")\n",
    "    if not bertscore_preds or not bertscore_labels:\n",
    "        print(f\"BERTScore preds: {bertscore_preds}\")\n",
    "        print(f\"BERTScore labels: {bertscore_labels}\")\n",
    "        raise ValueError(\"Empty list found for BERTScore predictions or labels.\")\n",
    "\n",
    "    # Compute metrics\n",
    "    loss_value = sum(batch_losses) / len(batch_losses)\n",
    "    accuracy = accuracy_metric.compute(predictions=accuracy_preds, references=accuracy_labels)\n",
    "    bert_score = bert_score_metric.compute(predictions=bertscore_preds, references=bertscore_labels, lang=\"en\")\n",
    "    bert_score_avg = sum(bert_score['f1']) / len(bert_score['f1'])\n",
    "\n",
    "    return {\n",
    "        'val_loss': loss_value,\n",
    "        'accuracy': accuracy['accuracy'],\n",
    "        'bert_score': bert_score_avg\n",
    "    }"
   ]
  },
  {
   "cell_type": "code",
   "execution_count": 52,
   "metadata": {},
   "outputs": [
    {
     "name": "stderr",
     "output_type": "stream",
     "text": [
      "Training:: 100%|██████████| 305/305 [04:30<00:00,  1.13it/s]\n",
      "Validation::   3%|▎         | 1/39 [00:06<03:59,  6.30s/it]"
     ]
    },
    {
     "name": "stdout",
     "output_type": "stream",
     "text": [
      "Decoded predictions: ['', '', '', '', '', '', '', '', '', '', '', '', '', '', '', '', '', '', '', '', '', '', '', '', '', '', '', '', '', '', '', '']\n",
      "Decoded labels: ['answer: wooded area explanation: Wooden area is only the place for the beaver supplies.', 'answer: go downtown explanation: Students do everything', 'answer: play tag explanation: tag different ways to play tag', 'answer: great outdoors explanation: woods are must', 'answer: club explanation: he wants a club', 'answer: whirlpool bath explanation: Whirlpool bath definition', 'answer: industrial area explanation: Coimbatore Industrial Park', 'answer: martorell explanation: A man can take a seat in martorell', 'answer: house explanation: A house is a building that functions as a home', 'answer: photograph explanation: photograph A patriotic guy with a camera is looking for a bald eagle', 'answer: heartburn explanation: a meat is tasty', 'answer: bushel basket explanation: Bushel - Wikipedia', 'answer: bank explanation: Rivers flow trough valleys.', 'answer: appliance store explanation: it is more comfortable to normal room', 'answer: country explanation: Rivers flow trough valleys.', 'answer: rocky hills explanation: he found in the rocky hills.', 'answer: tide pool explanation: artificial pool which cost too much as like as sea', 'answer: remorse explanation: Rivers flow trough valleys.', 'answer: healthy explanation: healthy recovering from the disease, what did the doctor call the patient', 'answer: balance explanation: In biomechanics, balance is an abilit', 'answer: wrestle explanation: energy omits well', 'answer: start running explanation: STARTING IN RUNNING', 'answer: united states explanation: This word was most relevant.', 'answer: go down explanation: For the moment, let us just think', 'answer: multitask explanation: this word is more relevant', 'answer: bones explanation: bones some fly thanks to their lightweigh', 'answer: wash dishes explanation: Soak pots and pans', 'answer: stress explanation: The American Institute of Stress', 'answer: death and decay explanation: Death and Decay - Hearthstone Wiki', 'answer: airport explanation: nervous is good', 'answer: paper bag explanation: BUY THE POTATO WITH PAPER BAG', 'answer: cook dinner explanation: Dinner can be ready in less']\n",
      "Length mismatch: 0 predictions, 32 labels\n"
     ]
    },
    {
     "name": "stderr",
     "output_type": "stream",
     "text": [
      "Validation::   5%|▌         | 2/39 [00:12<03:53,  6.32s/it]"
     ]
    },
    {
     "name": "stdout",
     "output_type": "stream",
     "text": [
      "Decoded predictions: ['', '', '', '', '', '', '', '', '', '', '', '', '', '', '', '', '', '', '', '', '', '', '', '', '', '', '', '', '', '', '', '']\n",
      "Decoded labels: ['answer: common interests explanation: List of hobbies - Wikipedia', 'answer: heartburn explanation: We generally take some chewables to prevent the heartburn.', 'answer: violin case explanation: he needs a violin case', 'answer: fitness center explanation: be FITNESS | Delafield, WI - Fitness Center, Gym & Personal Training', 'answer: butcher shop explanation: goods in specialized stores', 'answer: park explanation: children playing park', \"answer: house explanation: People cannot have their convenience in another person's House.\", 'answer: small town explanation: a big city is capital of country', 'answer: round explanation: approximately round a round face', 'answer: trash explanation: Waste are unwanted or unusable', 'answer: state park explanation: California State Parks', 'answer: closed room explanation: This word was most relevant', 'answer: lie down explanation: By the waters of Babylon we lay down...', 'answer: desire to travel explanation: People want to see the world after learning about it', 'answer: old person explanation: Old age - Wikipedia', 'answer: defeat explanation: to win against someon', 'answer: advance knowledge explanation: Being able to apply', 'answer: skin irritation explanation: Rivers flow trough valleys.', 'answer: desk drawer explanation: check all answers', 'answer: michigan explanation: my father was a former', 'answer: fall asleep explanation: This word was most relevant.', 'answer: move around explanation: Moving around is the opposite.', 'answer: at hotel explanation: Did not have the aesthetic he was hoping for.', 'answer: solitary explanation: alone in the world', 'answer: chess game explanation: This word was most relevant.', 'answer: defend explanation: ManTech secures $668M CDM contract - FedScoop', 'answer: washington d.c explanation: government makes country', 'answer: stillness explanation: This option is better to this task.', 'answer: defecating explanation: This word is Most relavant', 'answer: common explanation: common Everybody seemed to be crying at the holy site, the tour guide', 'answer: theater explanation: everybody is getting ready to go to the theater after the dressing room', 'answer: stretch explanation: Rivers flow trough valleys.']\n",
      "Length mismatch: 0 predictions, 32 labels\n"
     ]
    },
    {
     "name": "stderr",
     "output_type": "stream",
     "text": [
      "Validation::   8%|▊         | 3/39 [00:18<03:47,  6.32s/it]"
     ]
    },
    {
     "name": "stdout",
     "output_type": "stream",
     "text": [
      "Decoded predictions: ['', '', '', '', '', '', '', '', '', '', '', '', '', '', '', '', '', '', '', '', '', '', '', '', '', '', '', '', '', '', '', '']\n",
      "Decoded labels: ['answer: shady places explanation: Shady Places | Commercial Shade', 'answer: table explanation: Table | Components | BootstrapVue', 'answer: fall out explanation: Rivers flow trough valleys.', 'answer: pleasure explanation: Only pleasure is a feeling', 'answer: jet engine explanation: This word is Most relavant', 'answer: walk explanation: We can walk even though we have blisters.', 'answer: stock market explanation: stock market cookie', 'answer: confidence explanation: every confidence in the staff\"', 'answer: orchestra explanation: Light Music Orchestra in Coimbatore', 'answer: indigestion explanation: Indigestion (for Kids) - KidsHealth', 'answer: conference explanation: conference kept plugging away in his cubicle, it seemed he was the only person not called', 'answer: ground explanation: pumps is cultivated in ground', 'answer: manual explanation: This option is better to this task.', 'answer: go faster explanation: Fast.com: Internet Speed Test', 'answer: pond explanation: pond is entirely small', 'answer: beach explanation: Best Island Beaches in the World', 'answer: surprised explanation: surprised walked into the room and had a great shock', 'answer: resort area explanation: he needed to resort area', 'answer: subdivision explanation: Rivers flow trough valleys.', 'answer: table explanation: One normally eats at a table', 'answer: seek help explanation: seek help write will never want', 'answer: human body explanation: Explore Human Anatomy, Physiology', \"answer: time explanation:. time He was beginning to worry they wouldn't get on the ride before closing, they had been standing in queue for a long what?\", 'answer: eye contact explanation: This word is Most relavant', 'answer: suffering explanation: Rivers flow trough valleys.', 'answer: committing perjury explanation: Perjury and Its Consequences', 'answer: std explanation: Rivers flow trough valleys.', 'answer: conflict explanation: Conflict definition and meaning', 'answer: handshake explanation: This word was most relevant.', 'answer: medicine cabinet explanation: people keep peroxide in medicine cabinets', 'answer: choir explanation: The alto is part in any choir.', 'answer: hardware store explanation: This word was most relevant.']\n",
      "Length mismatch: 0 predictions, 32 labels\n"
     ]
    },
    {
     "name": "stderr",
     "output_type": "stream",
     "text": [
      "Validation::  10%|█         | 4/39 [00:25<03:41,  6.33s/it]"
     ]
    },
    {
     "name": "stdout",
     "output_type": "stream",
     "text": [
      "Decoded predictions: ['', '', '', '', '', '', '', '', '', '', '', '', '', '', '', '', '', '', '', '', '', '', '', '', '', '', '', '', '', '', '', '']\n",
      "Decoded labels: ['answer: house clean explanation: We clean our house to clear the mess.', 'answer: listen to music explanation: This word is Most relavant', 'answer: map explanation: Google Map Maker has closed', 'answer: overcast explanation: Rivers flow trough valleys.', 'answer: light fire explanation: inder is light, dry materia', 'answer: beehive explanation: Rivers flow trough valleys.', 'answer: forget explanation: i just forget to recall', 'answer: concentrate explanation: Reducer B concentrate | Sigma-Aldrich', 'answer: indiana explanation: indiana woods tampa', 'answer: office desk explanation: Receptionists are usually seated at the entrance', 'answer: show explanation: show I took my seat, the curtains drew back and I enjoyed', 'answer: cellar explanation: cellar maintain temperature', 'answer: music store explanation: Buy Musical Instrument', 'answer: microscope explanation: is the only object to see closer', 'answer: tie around explanation: to restrict its movement', 'answer: play golf explanation: Golf is the only sport in the list.', 'answer: heaven explanation: This word is Most relavant', 'answer: spoon explanation: This word is Most relavant', 'answer: see art explanation: Practice Looking at Art', 'answer: garden center explanation: Rockin E Country Store', 'answer: lamp explanation: IT IS THE PLACE FOR GETTING BRIGHTNESS', 'answer: cage explanation: F]CAGE Questionnaire - US P', 'answer: rug explanation: Rug Store | At Home -', 'answer: own house explanation: The spacious rooms and well', 'answer: furniture store explanation: go to furniture showroom.', 'answer: inappropriate explanation: Manners help people get along together', 'answer: building explanation: building should I get first', 'answer: roots explanation: A person is a human', 'answer: garden explanation: A person is a human', \"answer: slurred speech explanation: slurred speech getting drunk, and people couldn't understand\", 'answer: living room explanation: living room is comfortable', 'answer: having fun explanation: playing some games']\n",
      "Length mismatch: 0 predictions, 32 labels\n"
     ]
    },
    {
     "name": "stderr",
     "output_type": "stream",
     "text": [
      "Validation::  13%|█▎        | 5/39 [00:31<03:35,  6.33s/it]"
     ]
    },
    {
     "name": "stdout",
     "output_type": "stream",
     "text": [
      "Decoded predictions: ['', '', '', '', '', '', '', '', '', '', '', '', '', '', '', '', '', '', '', '', '', '', '', '', '', '', '', '', '', '', '', '']\n",
      "Decoded labels: ['answer: bedroom explanation: bedroom diner space shuttle', 'answer: change of heart explanation: The person may have changed their story', 'answer: plate explanation: This option is better to this task.', 'answer: cattle show explanation: cattle show home', 'answer: newspaper explanation: If a house has a subscription,newspaper likely shows up in the driveway every morning', 'answer: captivity explanation: captivity lizard is fed by people every day, what has happened to it.', 'answer: happiness explanation: This word was most relevant.', 'answer: much money explanation: EveryDollar Budgeting App | EveryDollar.com', 'answer: express information explanation: Need ERP consulting?', 'answer: falling asleep explanation: Rivers flow trough valleys.', 'answer: lobby explanation: Rivers flow trough valleys.', \"answer: bird's nest explanation: birds are small flying animals that live in nests\", 'answer: tall building explanation: the structure is like tall building', 'answer: sore mouth explanation: It hurts, but is not impossible.', 'answer: prison sentence explanation: Use prison in a sentence', 'answer: arguments explanation: argument is a series', 'answer: convenience store explanation: This word is Most relavant', 'answer: paid for explanation: receiving money for work', 'answer: building explanation: reception is entrance', 'answer: family tree explanation: this word is more relevant', 'answer: kill explanation: killing someone is referred as murder', 'answer: gay bar explanation: This option is better to this task.', 'answer: toaster explanation: plastic bag prison toaster', 'answer: store explanation: A store would have supplies to purchase.', 'answer: farmhouse explanation: need to spend the time in formhouse', 'answer: white house explanation: White House - Wikipedia', 'answer: lifeless explanation: Lifeless | Definition of Lifeless by Merriam-Webster', 'answer: forest explanation: Electric Forest Festiva', 'answer: road rage explanation: Rivers flow trough valleys.', 'answer: depression explanation: Depression indicates mental distress.', 'answer: catching fish explanation: hungry needs food', 'answer: milwaukee explanation: wiscosin is a city']\n",
      "Length mismatch: 0 predictions, 32 labels\n"
     ]
    },
    {
     "name": "stderr",
     "output_type": "stream",
     "text": [
      "Validation::  15%|█▌        | 6/39 [00:37<03:28,  6.33s/it]"
     ]
    },
    {
     "name": "stdout",
     "output_type": "stream",
     "text": [
      "Decoded predictions: ['', '', '', '', '', '', '', '', '', '', '', '', '', '', '', '', '', '', '', '', '', '', '', '', '', '', '', '', '', '', '', '']\n",
      "Decoded labels: [\"answer: lawn explanation: lawn home with a courtyard, what's one thing you probably don't have to care for any longer\", 'answer: baseball stadium explanation: List of current Major League Baseball stadiums', 'answer: refrigerator explanation: Choose from a wide selection', 'answer: getting tired explanation: not getting sleep at night gets one tired', 'answer: fruit stand explanation: fruit standIf you really wanted a grape, where would you go to get it', 'answer: calluses explanation: This option is better to this task.', 'answer: last several years explanation: This word was most relevant.', 'answer: make peace explanation: Dempsey and Makepeace - Wikipedia', 'answer: enlightenment explanation: The Enlightenment, also known', 'answer: fish department explanation:. fish departmentwanted a license to catch crabs, what governmen', 'answer: expensive clothing explanation: People wear expensive clothes to show off.', 'answer: body of water explanation: body takes a body of water', 'answer: gas station explanation: gas station have a map', 'answer: knowing explanation: A person is a human', 'answer: computer network explanation: Computer network - Wikipedia', 'answer: empty explanation: Empty is the opposite of full.', 'answer: tear down explanation: In basic training they build you up only to do what, all in hopes of building you up even stronger the next tear down', 'answer: begin work explanation: BEGIN WORK WITHOUT REPLICATION (IDS, ESQL/C) - IBM', 'answer: city explanation: its a place to take rest', 'answer: moving body explanation: moving body James and Holly went dancing together. As they danced', 'answer: might win explanation: Will BJP win battleground 2019', 'answer: prosecution explanation: This word is Most relavant', 'answer: rough explanation: But received rough paper', 'answer: head injuries explanation: car park', 'answer: matter to explanation: matter to James was someone who was caught in his own delusions', 'answer: resistance explanation: Wires have too much of resistance.', 'answer: capitol building explanation: This option is better to this task.', 'answer: boiling water explanation: put potato to cook in boiling water', 'answer: talk nonsense explanation: UK also talk rubbish', 'answer: woodland explanation: animal lives in woodland', 'answer: convention center explanation: A convention center is a place where lots of people come together from far away.', 'answer: microwave explanation: microwave is hot so which is panic']\n",
      "Length mismatch: 0 predictions, 32 labels\n"
     ]
    },
    {
     "name": "stderr",
     "output_type": "stream",
     "text": [
      "Validation::  18%|█▊        | 7/39 [00:44<03:22,  6.34s/it]"
     ]
    },
    {
     "name": "stdout",
     "output_type": "stream",
     "text": [
      "Decoded predictions: ['', '', '', '', '', '', '', '', '', '', '', '', '', '', '', '', '', '', '', '', '', '', '', '', '', '', '', '', '', '', '', '']\n",
      "Decoded labels: ['answer: guide children explanation: Regulate your own emotions', 'answer: standing in line explanation: getting in line after the game', 'answer: insubstantial explanation: Recent Examples on the Web', 'answer: race track explanation: race track is the only place where the cars move around in a circle', 'answer: heat explanation: heat John knew that the sun produced a massive amount of energy in two forms', 'answer: pet explanation: The Honest Kitchen', 'answer: bent explanation: Results are changed', 'answer: unacquainted explanation: Definition of unacquainted. : not acquainted: such as. a : not', 'answer: distant explanation: This word was most relevant.', 'answer: unfortunate explanation: A Series of Unfortunate Events - Wikipedia', 'answer: studying explanation: studying party that lasted all night', 'answer: class explanation: this word is more relevant', 'answer: drink beer explanation: drink beerMany humans enjoy fishing and enjoy another relaxing activity at the same time, what activity is it?', 'answer: city explanation: This word is Most relavant', 'answer: passing out explanation: Reflex syncope - Wikipedia', \"answer: enjoy living explanation: enjoy living More people should lower the guard and just have fun, we don't got long just what\", 'answer: see beautiful views explanation: A person is a human', 'answer: very old explanation: Very old synonyms', 'answer: violent explanation: violent very entertaining', 'answer: university explanation: This option is better to this task.', 'answer: make tools explanation: People are very much like the animals make tools', 'answer: injury explanation: sports is always a risk', 'answer: sail boat explanation: Rivers flow trough valleys.', 'answer: frustration explanation: frustrationSally was standing in queue.', 'answer: family explanation: The B Family', 'answer: deceitful explanation: Deceitful | Definition of Deceitful by Merriam-Webster', 'answer: musical explanation: London Musicals - Musical Tickets', 'answer: open doors explanation: Rivers flow trough valleys.', 'answer: construct explanation: This word is Most relavant', 'answer: slow down explanation: is a song by American singer', 'answer: anxiety explanation: the anxiety will hurt when our idea is always a dream', 'answer: new construction explanation: To start new construction we set frames.']\n",
      "Length mismatch: 0 predictions, 32 labels\n"
     ]
    },
    {
     "name": "stderr",
     "output_type": "stream",
     "text": [
      "Validation::  21%|██        | 8/39 [00:50<03:16,  6.35s/it]"
     ]
    },
    {
     "name": "stdout",
     "output_type": "stream",
     "text": [
      "Decoded predictions: ['', '', '', '', '', '', '', '', '', '', '', '', '', '', '', '', '', '', '', '', '', '', '', '', '', '', '', '', '', '', '', '']\n",
      "Decoded labels: ['answer: because explanation: Because, because of and cos', 'answer: happiness explanation: she was not sick so she was happy', 'answer: have conversation explanation: excess conversation shows an extra intrest', 'answer: clutter explanation: she is a clutter', 'answer: work out explanation: Inside means inner part', 'answer: happiness explanation: senior place center area', 'answer: marriage explanation: called matrimony or wedlock', 'answer: refrigerators explanation: refrigerators stored at room temperature', 'answer: talking loudly explanation: people taking loudly, so got escorted out of the library', 'answer: animal explanation: This word is Most relavant', 'answer: rash explanation: defined as a widespread eruption', 'answer: playing marbles explanation: play with marbles. Have fun wi', \"answer: unlikely explanation: four random words still don't work\", 'answer: web page explanation: web page email la ville', 'answer: school explanation: school The architect thought that a mezzanine would look good, but the planning committee rejected', 'answer: inspiration explanation: Rivers flow trough valleys.', 'answer: sporting event explanation: Goals are scored during watching sporting events', 'answer: concert hall explanation: concert hall IS USED TO PERFORAMNE', 'answer: open mouth explanation: baby always refuse to eat', 'answer: funnel explanation: funnel is a tube pipe that is wide', 'answer: jungle explanation: Rivers flow trough valleys', 'answer: university explanation: university is an institution of higher', 'answer: jewelry store explanation: watches areonly bought in jewelary shops', 'answer: bathhouse explanation: Rivers flow trough valleys.', 'answer: ample explanation: Ample | Definition of Ample by', 'answer: write will explanation: This word is Most relavant', 'answer: head north explanation: you have to go head north to reach the goal', \"answer: compact explanation: compact car's steering seem quite loose, but he still considered purchasing it because he needed something small\", 'answer: bowling alley explanation: This word is Most relavant', 'answer: get wet explanation: if the cat gets expose they would be wet', 'answer: hungry explanation: TO STIMULATE THE HUNGRY', 'answer: study french cooking explanation: study french cooking wanted to perfect his craft']\n",
      "Length mismatch: 0 predictions, 32 labels\n"
     ]
    },
    {
     "name": "stderr",
     "output_type": "stream",
     "text": [
      "Validation::  23%|██▎       | 9/39 [00:56<03:10,  6.33s/it]"
     ]
    },
    {
     "name": "stdout",
     "output_type": "stream",
     "text": [
      "Decoded predictions: ['', '', '', '', '', '', '', '', '', '', '', '', '', '', '', '', '', '', '', '', '', '', '', '', '', '', '', '', '', '', '', '']\n",
      "Decoded labels: ['answer: follower explanation: Every tribe always have a leader and a follower.', \"answer: loved explanation: loved child didn't know the problems his mother was going\", 'answer: religion explanation: Rivers flow trough valleys.', 'answer: knowing how to read explanation: only literate can read and comprehend a newspaper', 'answer: say thank explanation: the girl have many birthday gift say thank to everyone', 'answer: patience explanation: ability to endure difficult circumstances', 'answer: set table explanation: Rivers flow trough valleys.', 'answer: helping others explanation: assistance were given to help people', \"answer: stagnation explanation: Stagnation occurs when things don't change\", 'answer: packaging materials explanation: recycled materials are used for packaging', 'answer: demonstration explanation: Demonstration (teaching) - Wikipedia', 'answer: receive data explanation: Rivers flow trough valleys.', 'answer: effort explanation: vigorous or determined attempt', 'answer: unnecessary explanation: Synonyms and Antonyms of unnecessary', 'answer: drawer explanation: it is safe', 'answer: get answers explanation: witness is used to get solve case', 'answer: walked explanation: Walked - definition', 'answer: opera explanation: This word is Most relavant', 'answer: battery explanation: THE BATTERY IS VERY LOW CHARGING', 'answer: military base explanation: Lists of military installations - Wikipedia', 'answer: dishwasher explanation: lot of dish varieties', 'answer: biological child explanation: biological child is a child born', 'answer: word explanation: a letter is a paper', 'answer: chemistry lab explanation: available science chemistry lab', 'answer: cast shadow explanation: Shadow - Wikipedia', 'answer: temperate zone explanation: The forest experienced a cold winter temperate zone', 'answer: countryside explanation: Z Tech Window Tinting', 'answer: water plants explanation: i like very much flower and vegetables', 'answer: motion explanation: if you stand still you get hit', 'answer: social event explanation: social event was time passing', 'answer: bookcase explanation: BOOKCASE IN HARDCOVERS', 'answer: were thirsty explanation: a drink is thirsty']\n",
      "Length mismatch: 0 predictions, 32 labels\n"
     ]
    },
    {
     "name": "stderr",
     "output_type": "stream",
     "text": [
      "Validation::  26%|██▌       | 10/39 [01:03<03:03,  6.33s/it]"
     ]
    },
    {
     "name": "stdout",
     "output_type": "stream",
     "text": [
      "Decoded predictions: ['', '', '', '', '', '', '', '', '', '', '', '', '', '', '', '', '', '', '', '', '', '', '', '', '', '', '', '', '', '', '', '']\n",
      "Decoded labels: [\"answer: cut grass explanation: many lawn mowers are gas powered while the other items aren't\", 'answer: work room explanation: work room greeted the employees to the program', 'answer: welcome guests explanation: welcome guests hostess was good at her job, she always had a smile', 'answer: compliance explanation: Rivers flow trough valleys.', 'answer: synagogue explanation: service is work', 'answer: nodding explanation: Nodding | Definition of Nodding by Merriam-Webster', 'answer: floor explanation: This word is Most relavant', 'answer: throw up explanation: throw upThe lady would eat and eat, and because of mental issues would then make herself what?', 'answer: bridge explanation: he arches the bridge carefully', 'answer: aggressive explanation: This word was most relevant.', 'answer: ignition switch explanation: it was more safe.', 'answer: creek bed explanation: Rivers flow trough valleys.', 'answer: accelerate explanation: man try himself to accelerate to escape', 'answer: solemn explanation: This word was most relevant.', 'answer: soothing explanation: Definition of soothing', 'answer: fraternity house explanation: obviously we will be at home late night', 'answer: air explanation: air pollution is only visible in sky', 'answer: garage explanation: garage is the place to change oil', 'answer: sick person explanation: person suffering from an illness', 'answer: productive explanation: they weired white suite', 'answer: forest explanation: Deforestation - Wikipedia', 'answer: mexico explanation: North America :: Mexico', \"answer: getting in shape explanation: A Beginner's Guide to Getting\", 'answer: meeting explanation: paperwork is work', 'answer: initiate explanation: Replying means she started the conversations, not him.', 'answer: out of pocket explanation: man gave some thing out from his pocket', 'answer: relaxation explanation: Rivers flow trough valleys.', 'answer: swarm explanation: Swarm is a mobile app that allows', 'answer: mall explanation: mall sale store', 'answer: apartment building explanation: apartment building always a crowd at the landing', 'answer: babies explanation: Rivers flow trough valleys.', 'answer: lie down explanation: order to sleep or rest']\n",
      "Length mismatch: 0 predictions, 32 labels\n"
     ]
    },
    {
     "name": "stderr",
     "output_type": "stream",
     "text": [
      "Validation::  28%|██▊       | 11/39 [01:09<02:57,  6.35s/it]"
     ]
    },
    {
     "name": "stdout",
     "output_type": "stream",
     "text": [
      "Decoded predictions: ['', '', '', '', '', '', '', '', '', '', '', '', '', '', '', '', '', '', '', '', '', '', '', '', '', '', '', '', '', '', '', '']\n",
      "Decoded labels: ['answer: interior explanation: This word was most relevant.', 'answer: library explanation: got o library what has stationary material', 'answer: trapeze explanation: Trapeze Artists Florida', 'answer: look angry explanation: Rivers flow trough valleys.', 'answer: financial security explanation: Financial security refers to the', 'answer: make larger explanation: this word is more relevant', 'answer: hospital explanation: take care in the hospital', 'answer: warm coat explanation: warm coat is always', 'answer: stock certificate explanation: The piece of paper was worth a lot of money, it was an old Apple Inc stock certificate', 'answer: barrels explanation: This is where a thing would be kept', 'answer: hell explanation: Rivers flow trough valleys.', 'answer: baseball diamond explanation: Baseball diamond - definition of baseball', 'answer: marching band explanation: marching is only in ryhthm', 'answer: crucial explanation: Rivers flow trough valleys.', 'answer: corrupt explanation: corruptprincess was pure, the evil wizard', 'answer: get frustrated explanation: feeling annoyed or less', 'answer: cellar explanation: a location in the house where rats can hide easily', 'answer: gain ground explanation: player wants to gain ground', 'answer: court room explanation: The shark actually counted as evidence court room', 'answer: personal cleanliness explanation: We take bath to clean ourselves.', 'answer: wait for orders explanation: Rivers flow trough valleys.', 'answer: inner ear explanation: inner ear The student explained he had a clue what neuroepithelium was and got really nervous', 'answer: augment explanation: Augment - Wikipedia', 'answer: multiplication explanation: people are powerful', 'answer: music room explanation: Musicroom - A world of music at your fingertips', 'answer: stagger explanation: drunk people staggers', 'answer: japan explanation: This word is Most relavant', 'answer: kentucky explanation: Kentucky is a southeastern state bounded', 'answer: front door explanation: The name townhouse or townhome was later used', 'answer: airport explanation: Rivers flow trough valleys.', 'answer: rest area explanation: To let the body drop heavily', \"answer: friend's house explanation: correct but mean different things\"]\n",
      "Length mismatch: 0 predictions, 32 labels\n"
     ]
    },
    {
     "name": "stderr",
     "output_type": "stream",
     "text": [
      "Validation::  31%|███       | 12/39 [01:16<02:51,  6.36s/it]"
     ]
    },
    {
     "name": "stdout",
     "output_type": "stream",
     "text": [
      "Decoded predictions: ['', '', '', '', '', '', '', '', '', '', '', '', '', '', '', '', '', '', '', '', '', '', '', '', '', '', '', '', '', '', '', '']\n",
      "Decoded labels: ['answer: die of cancer explanation: Signs that death is near', 'answer: testify explanation: i was to take a metal piece', 'answer: cherry tree explanation: this word is more relevant', 'answer: barn explanation: chicken eggs kept in barn', 'answer: relaxation explanation: Rivers flow trough valleys.', 'answer: sanded explanation: final sanding with a fine grit belt makes', 'answer: countryside explanation: hey explored the surrounding', 'answer: new england explanation: toll road from Maine to New Hampshire', 'answer: bus depot explanation: bus depot travel so it was no surprise sight', 'answer: classroom explanation: Login - E-Classroom', 'answer: good for explanation: Vegetables and fruits are an important', 'answer: neighborhood explanation: safety is m,ust', 'answer: chemistry lab explanation: mixtures mixing fruitsa', 'answer: practice explanation: student might practice the violin', 'answer: atlas explanation: is the latest in a line of advanced humanoid rob', 'answer: differently explanation: differently (adverb) definition and synonyms', 'answer: food store explanation: grape is afood', 'answer: indiana explanation: racetrack motorsport in the world', 'answer: certificate explanation: TO GET THE OFFICIAL RECOGNIZATION', 'answer: fish market explanation: wholesale trade between fishermen', 'answer: backpack explanation: Rivers flow trough valleys.', 'answer: trust explanation: kissing is happens after trust', 'answer: jar explanation: Sauerkrau are often fermented in Jars.', 'answer: theater explanation: they all had a passion for the local theater', 'answer: ground explanation: ground (noun) definition and synonyms', 'answer: garden explanation: Gardening Tips', 'answer: potential explanation: necessary conditions exist', 'answer: indestructible explanation: is the fourth studio', 'answer: moving forward explanation: Here to declare to you my past is over in you', 'answer: eddie bauer explanation: Eddie Bauer clothing store chain', 'answer: two eyes explanation: two eyes Unlike a spider and his many sight seers', 'answer: die explanation: humans are die in one day.']\n",
      "Length mismatch: 0 predictions, 32 labels\n"
     ]
    },
    {
     "name": "stderr",
     "output_type": "stream",
     "text": [
      "Validation::  33%|███▎      | 13/39 [01:22<02:44,  6.34s/it]"
     ]
    },
    {
     "name": "stdout",
     "output_type": "stream",
     "text": [
      "Decoded predictions: ['', '', '', '', '', '', '', '', '', '', '', '', '', '', '', '', '', '', '', '', '', '', '', '', '', '', '', '', '', '', '', '']\n",
      "Decoded labels: ['answer: stupid explanation: stupid is not a clever', \"answer: place of work explanation: legal definition of 'places of work'.\", 'answer: act responsibly explanation: mistake some work', 'answer: momentum explanation: beginner building momentum', 'answer: effectively treated explanation: effectively treated mental illness receives medication and therapy', 'answer: caregiver explanation: caregiver or carer', 'answer: jogging explanation: Rivers flow trough valleys.', 'answer: open mind explanation: open mindlearning about the world and different cultures', 'answer: desire to win explanation: every player motivation is desire to win.', 'answer: ask question explanation: there are ask questions.', 'answer: do enjoy explanation: We enjoy when we have fun.', 'answer: completing explanation: This word was most relevant.', \"answer: passing explanation: Scoring A's is sure pass.\", 'answer: have fun explanation: When the working day is done', 'answer: below explanation: i see something in party', 'answer: department store explanation: department store clothing and wrenches', 'answer: newsstand explanation: Digital Newsstand - Wikipedia', 'answer: dictionary explanation: vines belonging to the genus Ficus.', 'answer: great outdoors explanation: This word was most relevant.', 'answer: everglades explanation: Everglades National Park Official Webpage', 'answer: wishing well explanation: Wishing well - Wikipedia', 'answer: doctor explanation: the doctor are not available, people read magazines', 'answer: pocket explanation: pocket While walking the student needed to store his writing insturment', 'answer: concentration explanation: in eleborate task concentration is important', 'answer: knowledge explanation: Studying anything increases your knowledge of what you are studying.', 'answer: full explanation: if belly is full you cannot eat', 'answer: disturb explanation: Do Not Disturb - Objective-See', 'answer: painting explanation: Rivers flow trough valleys.', 'answer: office building explanation: A cubicle is a partially', 'answer: construction site explanation: To work in site construction', 'answer: countryside explanation: This word is Most relavant', 'answer: valley explanation: Rivers flow trough valleys.']\n",
      "Length mismatch: 0 predictions, 32 labels\n"
     ]
    },
    {
     "name": "stderr",
     "output_type": "stream",
     "text": [
      "Validation::  36%|███▌      | 14/39 [01:28<02:38,  6.33s/it]"
     ]
    },
    {
     "name": "stdout",
     "output_type": "stream",
     "text": [
      "Decoded predictions: ['', '', '', '', '', '', '', '', '', '', '', '', '', '', '', '', '', '', '', '', '', '', '', '', '', '', '', '', '', '', '', '']\n",
      "Decoded labels: ['answer: puncture wound explanation: puncture wound is a deep wound', 'answer: hope explanation: Hope is a good feeling that people have', 'answer: inspiration explanation: Rivers flow trough valleys.', 'answer: universe explanation: galaxies is a part of universe', 'answer: toronto explanation: Toronto a mountie got off at a subway stop', 'answer: sneezing explanation: Allergies cause sneezing', 'answer: gaining knowledge explanation: Gaining Knowledge That Will Help', 'answer: water fountain explanation: it calls as water fountain', 'answer: past explanation: It could not be in the future.', 'answer: strip mall explanation: it is the strip mall', 'answer: valley explanation: valleys are always between two mountains', 'answer: bus stop explanation: bus stop is a designated place', 'answer: rabbit warren explanation: 8 Mile (film) - Wikipedia', 'answer: bible explanation: List of biblical names starting with C - Wikipedia', 'answer: new job explanation: After he got hired he hoped for success at his new job', 'answer: repair shop explanation: This option is better to this task.', 'answer: ecosystem explanation: living organism in ecosystem', \"answer: mammals explanation: mammals Animals who have hair and don't lay eggs\", 'answer: lots of attention explanation: nourishment is a work', 'answer: container explanation: Results are changed', 'answer: sore muscles explanation: soak in hot tubs to relieve to sore muscles', 'answer: pay bills explanation: buy food pay bills', 'answer: state fair explanation: Rivers flow trough valleys.', 'answer: can explanation: If not a bottle only option is can', 'answer: illustrate point explanation: illustrates a situation', 'answer: stand still explanation: Rivers flow trough valleys.', 'answer: death explanation: rash driving leads to death', 'answer: table explanation: Come and learn here the 7 times table', 'answer: stress relief explanation: This word was most relevant.', 'answer: sea water explanation: blowfish living seawater', 'answer: new perspective explanation: New Perspective\" is a song by American rock b', 'answer: tropical rainforest explanation: maximum water gain']\n",
      "Length mismatch: 0 predictions, 32 labels\n"
     ]
    },
    {
     "name": "stderr",
     "output_type": "stream",
     "text": [
      "Validation::  38%|███▊      | 15/39 [01:35<02:32,  6.33s/it]"
     ]
    },
    {
     "name": "stdout",
     "output_type": "stream",
     "text": [
      "Decoded predictions: ['', '', '', '', '', '', '', '', '', '', '', '', '', '', '', '', '', '', '', '', '', '', '', '', '', '', '', '', '', '', '', '']\n",
      "Decoded labels: ['answer: grocery shop explanation: grocery shopBoredom and hunger led to a wandering waste of time and a cart full', 'answer: warm room explanation: A cold room during winter', 'answer: parents explanation: this word is more relevant', 'answer: born again explanation: regeneratio human spirit', 'answer: flower bed explanation: This word was most relevant.', 'answer: crime explanation: Students do everything', 'answer: saltwater explanation: Saltwater crocodile - Wikipedia', 'answer: drunker explanation: Drunk Driving - Wikipedia', 'answer: cabinet explanation: Rivers flow trough valleys.', 'answer: being happy explanation: having fun is associated with happiness.', 'answer: forest explanation: large area of forest', 'answer: spinal injuries explanation: This word is Most relavant', 'answer: outside explanation: This word was most relevant.', 'answer: feel guilty explanation: Rivers flow trough valleys.', 'answer: action explanation: director said only action', 'answer: farming areas explanation: farm land constitutes farmig area', 'answer: country explanation: that is their job', 'answer: making love explanation: Urban Dictionary: making love', 'answer: outer space explanation: aliense are danger', 'answer: cloud explanation: Cloud computing', 'answer: kitchen cabinet explanation: Modular Kitchen Cabinets in Kochi,', 'answer: wide acceptance explanation: People usually support those who suffer.', 'answer: confident explanation: Confident Group: Top Builders', 'answer: sometimes bad explanation: This word was most relevant', 'answer: bridge explanation: Contract bridge - Wikipedia', 'answer: feed themselves explanation: Each milestone a toddler', \"answer: ring explanation: monitoring what's important from\", 'answer: mad cow disease explanation: It is a sickness.', 'answer: write letter explanation: Before the advent of modern technology made', 'answer: watching television explanation: This word is Most relavant', 'answer: have sex explanation: Regular sex can be', 'answer: orbit explanation: is the gravitationally curved trajectory of the planet']\n",
      "Length mismatch: 0 predictions, 32 labels\n"
     ]
    },
    {
     "name": "stderr",
     "output_type": "stream",
     "text": [
      "Validation::  41%|████      | 16/39 [01:41<02:25,  6.34s/it]"
     ]
    },
    {
     "name": "stdout",
     "output_type": "stream",
     "text": [
      "Decoded predictions: ['', '', '', '', '', '', '', '', '', '', '', '', '', '', '', '', '', '', '', '', '', '', '', '', '', '', '', '', '', '', '', '']\n",
      "Decoded labels: ['answer: feel better explanation: they going jogging in ground', 'answer: spend money explanation: Save more than pennies', 'answer: rush explanation: rush How is a child eager to be going to play likely to get there?', 'answer: say words explanation: person likely to communicatewith say words', 'answer: pedalling explanation: pedalling riding a bike getting it to move', 'answer: twenty four explanation: 24-hour Malayalam news', 'answer: exit ramp explanation: automobile is a machine', 'answer: wonderful explanation: energy is a source', 'answer: send email explanation: send email communicate if you are far away from who you want to communicate', 'answer: talk explanation: i will make drawing', 'answer: write down explanation: They can read what is written.', 'answer: bridge explanation: bridge would you get from one side of a canal', 'answer: read newspapers explanation: All Indian newspapers links', 'answer: homes explanation: where your home search begins', 'answer: rich person explanation: Who are the richest people world', 'answer: subdivision explanation: this word is more relevant', 'answer: television explanation: The common watching device at home is a tv set', 'answer: have to hold explanation: incorporation of the phrase in wedding', 'answer: make more money explanation: 26 Legit Ways to Make Money - NerdWallet', 'answer: recur explanation: people sometimes relapse during gaps in treatment', 'answer: saliva nd mouth explanation: This word is Most relavant', 'answer: halloween explanation: the chrismas time was halloween', 'answer: art supplies explanation: useful for craft work', 'answer: refrigerator explanation: it prevents from decomposing', 'answer: humor explanation: Rivers flow trough valleys.', 'answer: everything explanation: everything who want', 'answer: porous explanation: s definition is - possessing or', 'answer: sidewalk explanation: This word is Most relavant', 'answer: lie explanation: This word is Most relavant', 'answer: michigan explanation: Education + Business (E+B) | Michigan Ross', 'answer: hasten explanation: delay an event and plan or decide that', 'answer: stay in bed explanation: Raining can be disturbing for your chores.']\n",
      "Length mismatch: 0 predictions, 32 labels\n"
     ]
    },
    {
     "name": "stderr",
     "output_type": "stream",
     "text": [
      "Validation::  44%|████▎     | 17/39 [01:47<02:19,  6.34s/it]"
     ]
    },
    {
     "name": "stdout",
     "output_type": "stream",
     "text": [
      "Decoded predictions: ['', '', '', '', '', '', '', '', '', '', '', '', '', '', '', '', '', '', '', '', '', '', '', '', '', '', '', '', '', '', '', '']\n",
      "Decoded labels: ['answer: calm explanation: we have to teach the child about the calm', 'answer: luggage compartment explanation: women large hand bags', 'answer: bored explanation: a book is world', 'answer: wet explanation: it has water', \"answer: dog's mouth explanation: mostly cat eat by dog\", 'answer: tiredness explanation: This word is Most relavant', 'answer: go broke explanation: i likely happen in marriage party', 'answer: silent explanation: The room is silent after the music turn off', 'answer: shoot explanation: Rivers flow trough valleys.', 'answer: teaching explanation: they want a teaching', \"answer: boredom explanation: boredom attending school and are falling asleep you're likely experiencing\", 'answer: have fun explanation: beer were used to have fun in trip', 'answer: hang over explanation: i gets hang over', 'answer: making new friends explanation: Friends from the same age group are likely to be there.', 'answer: learning about world explanation: increase my knowledge', 'answer: laughter explanation: Laughter is the Best Medicine', 'answer: get away from explanation: Rivers flow trough valleys.', 'answer: take class explanation: Rivers flow trough valleys.', 'answer: theater explanation: This option is better to this task.', 'answer: mexico explanation: mexico is one of the largest coffee production country', 'answer: america explanation: FOOD RESTAURANT IN AMERICA', 'answer: sea water explanation: this word is more relevant', 'answer: air explanation: Rivers flow trough valleys.', 'answer: ridiculous explanation: A person who acts in a silly fashion', 'answer: sleeping in explanation: Friday night and Alice puts off because sleeping in', 'answer: caged in explanation: Rivers flow trough valleys.', 'answer: garage explanation: building where a car is kept', 'answer: bed explanation: This word is Most relavant', 'answer: fall asleep explanation: Rivers flow trough valleys.', 'answer: transit explanation: Get upcoming departure times', \"answer: broken law explanation: broken lawJames knew that he shouldn't have been buying beer for minors. He didn't even get paid for it. Why was this bad?\", 'answer: universe explanation: universe James looked up and saw the start twinkling in the black yonder']\n",
      "Length mismatch: 0 predictions, 32 labels\n"
     ]
    },
    {
     "name": "stderr",
     "output_type": "stream",
     "text": [
      "Validation::  46%|████▌     | 18/39 [01:54<02:13,  6.36s/it]"
     ]
    },
    {
     "name": "stdout",
     "output_type": "stream",
     "text": [
      "Decoded predictions: ['', '', '', '', '', '', '', '', '', '', '', '', '', '', '', '', '', '', '', '', '', '', '', '', '', '', '', '', '', '', '', '']\n",
      "Decoded labels: [\"answer: wipe out explanation: wipe outJames loved to surf but he wasn't good at it. He would always do what?\", 'answer: motel room explanation: motel room toilet is cheap', 'answer: effusive explanation: This word is Most relavant', \"answer: child's hand explanation: flying the sky\", 'answer: control model explanation: DARK TO THE ADVANTAGES TO THE PROGRAM', 'answer: england explanation: england and france share boarder and one can easiy cross via the channel tunnel.', 'answer: library explanation: We generally found old maps in a library.', 'answer: upwards explanation: upstream upwards diagonal', 'answer: midwest explanation: this word is more relevant', 'answer: relaxation explanation: RELAXATION IS MEETING A FRIEND', 'answer: family tree explanation: Genealogical data can be represented', 'answer: being entertained explanation: being entertained laughter', 'answer: satisfaction explanation: Doing good deeds creates joy.', 'answer: being prepared explanation: Rivers flow trough valleys.', 'answer: need for food explanation: Physiology of weight reduction: To lose weight you must burn more calories than you eat', 'answer: bedroom explanation: For some medical center', 'answer: watch tv explanation: Watching television is a lazy activity.', 'answer: have fun explanation: Acvities that are fun are done more often', 'answer: garage explanation: Rivers flow trough valleys.', 'answer: mail box explanation: mail box in outside', 'answer: current explanation: Direct current - Wikipedia', 'answer: orchestra explanation: orchestra is a large instrumental ensemble', 'answer: typhoon explanation: Hurricanes, typhoons and cyclones', 'answer: sporting event explanation: Sporting event - definition of Sporting event', 'answer: injury explanation: i planning games in summer', 'answer: feeling happy explanation: Playing with another causes enjoyment', 'answer: garage explanation: A neatly coiled garden hose. A garden hose,', 'answer: function explanation: The function of a thing matters for that its aesthetics.', 'answer: nursery explanation: Top Plant Nurseries in Gandhipuram', 'answer: bedroom explanation: it is in his bedroom', 'answer: choice explanation: A person is a human', 'answer: free money explanation: JOHN GET A FREE MONEY']\n",
      "Length mismatch: 0 predictions, 32 labels\n"
     ]
    },
    {
     "name": "stderr",
     "output_type": "stream",
     "text": [
      "Validation::  49%|████▊     | 19/39 [02:00<02:07,  6.36s/it]"
     ]
    },
    {
     "name": "stdout",
     "output_type": "stream",
     "text": [
      "Decoded predictions: ['', '', '', '', '', '', '', '', '', '', '', '', '', '', '', '', '', '', '', '', '', '', '', '', '', '', '', '', '', '', '', '']\n",
      "Decoded labels: ['answer: with brush explanation: paint house with brush', \"answer: cliff explanation: u can't drive in cliff\", 'answer: south carolina explanation: Beaches are typical found in east coast areas.', 'answer: new york explanation: wilderness available in ney york', 'answer: attic explanation: space found directly below the pitched', 'answer: new hampshire explanation: Fox hunting is an activity involving the tracking', 'answer: restaurant explanation: Sauces and ketchup are found is cafes and restaurants.', 'answer: joy explanation: joy cause what emotion', 'answer: partner explanation: a person or organization', 'answer: coffee table explanation: This word is Most relavant', 'answer: courtroom explanation: They are plaintiffs', 'answer: painful explanation: Painful Synonyms, Painful Antonyms', 'answer: europe explanation: Northern Hemisphere and mostly', 'answer: spain explanation: Spain is name of a country.', 'answer: corner explanation: Definition of corner in English', 'answer: ore explanation: Eeyore - Wikipedia', 'answer: instruments explanation: this word is more relevant', 'answer: multivitamin explanation: This word is Most relavant', 'answer: desk drawer explanation: more at The Conta', 'answer: overpriced explanation: retail stores are on sale overpriced', 'answer: think explanation: Think Synonyms, Think Antonyms', 'answer: hug explanation: hug Most people who are family like to greet', 'answer: attic explanation: Location is a important for routing', 'answer: man made explanation: E-Man - Wikipedia', 'answer: inferior explanation: he Romans had lots of different gods and goddesses', 'answer: getting hurt explanation: Rivers flow trough valleys.', 'answer: eat ice cream explanation: eat ice cream enjoy something cool and sweet', \"answer: colds and flu explanation: Colds and flu's are unpredictable.\", 'answer: refrigerator explanation: drive is good', 'answer: strange explanation: Strange Synonyms, Strange Antonyms', 'answer: listen to music explanation:. listen to music People do many things to alleviate boredom', 'answer: park explanation: This word was most relevant.']\n",
      "Length mismatch: 0 predictions, 32 labels\n"
     ]
    },
    {
     "name": "stderr",
     "output_type": "stream",
     "text": [
      "Validation::  51%|█████▏    | 20/39 [02:06<02:00,  6.35s/it]"
     ]
    },
    {
     "name": "stdout",
     "output_type": "stream",
     "text": [
      "Decoded predictions: ['', '', '', '', '', '', '', '', '', '', '', '', '', '', '', '', '', '', '', '', '', '', '', '', '', '', '', '', '', '', '', '']\n",
      "Decoded labels: ['answer: vancouver island explanation: Vancouver Island News', 'answer: use paper explanation: we use paper to print', 'answer: skate explanation: skate is one of the important sport', 'answer: literacy explanation: newspaper have news', 'answer: fatigue explanation: THIS IS BETTER ANSWER', 'answer: aggravation explanation: aggravation is causes of errands', 'answer: exchanging ideas explanation: exchanging ideas confusion', 'answer: death explanation: A Death - Wikipedia', 'answer: school explanation: List of schools in Ernakulam district', 'answer: safety explanation: safety Sally was afraid of danger and always double checked', 'answer: television explanation: Televisions | Croma Electronics', 'answer: nightmare explanation: Rivers flow trough valleys', 'answer: game explanation: she wants game', 'answer: coastal cities explanation: Coastal Cities in India', 'answer: neighborhood explanation: To the house of his acquaintances', 'answer: one choice for pet explanation: puppy is a dog', 'answer: flatulence explanation: flatulence is kind of stoke', 'answer: exercise explanation: By doing relaxing exercise', 'answer: first class explanation: The most comfort travel suite is first class.', 'answer: pain explanation: Urban Dictionary: Pain', 'answer: gruesome explanation: Rivers flow trough valleys.', 'answer: fight explanation: Rivers flow trough valleys.', \"answer: get tired of explanation: dreams rarely mean what they're actually showing you.\", 'answer: viking ship explanation: warships that have a l', 'answer: washington state explanation: Washington (state) - Wikipedia', 'answer: sporting event explanation: This word is Most relavant', 'answer: receiving explanation: function that involves checking', 'answer: attack explanation: protection can mean attack', 'answer: solar system explanation: the earth is big', 'answer: blunderbuss explanation: blunderbussThe end of the barrel of what primitive firearm is bell shaped', 'answer: awake explanation: awake - Dictionary Definition', 'answer: attack explanation: the attack are displayed in the show']\n",
      "Length mismatch: 0 predictions, 32 labels\n"
     ]
    },
    {
     "name": "stderr",
     "output_type": "stream",
     "text": [
      "Validation::  54%|█████▍    | 21/39 [02:13<01:54,  6.36s/it]"
     ]
    },
    {
     "name": "stdout",
     "output_type": "stream",
     "text": [
      "Decoded predictions: ['', '', '', '', '', '', '', '', '', '', '', '', '', '', '', '', '', '', '', '', '', '', '', '', '', '', '', '', '', '', '', '']\n",
      "Decoded labels: ['answer: play with toys explanation: Diana play with New Toy Bus', 'answer: carnival explanation: carnival is college music party', 'answer: open book explanation: literally change things', 'answer: hallway explanation: hallway in a building is a long passage', 'answer: uninhabitable explanation: their is no more oxygen', 'answer: table explanation: Come and learn here the 7 times table', 'answer: maryland explanation: Maryland is a Mid-Atlantic state', 'answer: cry explanation: Child Rights and You', 'answer: uneven explanation: This word was most relevant.', 'answer: classroom explanation: Rivers flow trough valleys.', 'answer: classroom explanation: Rivers flow trough valleys.', 'answer: zoo explanation: TIGER WILL BE LIVED IN ZOO', 'answer: snowflake explanation: Rivers flow trough valleys.', 'answer: liquor store explanation: iquor store gas station', 'answer: full sunlight explanation: full sunlight There was no shade for Jenny. She was forced', 'answer: bankruptcy explanation: Bankruptcy is a legal process through', 'answer: reduce explanation: returned value is assigned to the accumulator', 'answer: increased heart rate explanation: that might increase the heart rtae', 'answer: launder explanation: launder clean clothes', 'answer: practice explanation: The verb practice/practise', 'answer: go to movies explanation: Refine See titleswatch instantly', 'answer: surface of earth explanation: surface of earth museum', 'answer: exhilarating explanation: traveling to new place is exhilarating', \"answer: balkan peninsula explanation: Most smaller parts of a country are peninsula's.\", 'answer: homicide explanation: type of suicide', 'answer: organ explanation: Rivers flow trough valleys.', 'answer: surface of earth explanation: Earth - Wikipedia', 'answer: hedgehog explanation: Rivers flow trough valleys.', 'answer: goat explanation: Rivers flow trough valleys.', 'answer: dark explanation: When two children', 'answer: sharp claws explanation: Rivers flow trough valleys.', 'answer: digesting explanation: food wants to digest']\n",
      "Length mismatch: 0 predictions, 32 labels\n"
     ]
    },
    {
     "name": "stderr",
     "output_type": "stream",
     "text": [
      "Validation::  56%|█████▋    | 22/39 [02:19<01:48,  6.37s/it]"
     ]
    },
    {
     "name": "stdout",
     "output_type": "stream",
     "text": [
      "Decoded predictions: ['', '', '', '', '', '', '', '', '', '', '', '', '', '', '', '', '', '', '', '', '', '', '', '', '', '', '', '', '', '', '', '']\n",
      "Decoded labels: ['answer: thank god explanation: thanks is unexpected decent', 'answer: spend time explanation: These days, many people spend time', 'answer: money explanation: money boss at the end of the week', 'answer: bluegrass music explanation: play is a game', 'answer: headphones explanation: Headphones are the only things you use on you ears', \"answer: people explanation: people waiting alongside with when you're in a reception area\", 'answer: beat explanation: watch in area beat crimes', 'answer: amusement park explanation: amusement park is always attraction', 'answer: moon explanation: moon blocks sunshine', 'answer: announce explanation: How Newspapers Can Use Social Media.', 'answer: human body explanation: cell basic living', 'answer: indigestion explanation: indigestion tasty health problems', 'answer: heartburn explanation: heartburn is after eating at lunch time', 'answer: disagreements explanation: disagreement about the details', 'answer: fall asleep explanation: boring show will bring fall asleep', 'answer: daydream explanation: when u contemplate alone without any action.it remains as a dream', 'answer: fly explanation: machine fly but humans not', 'answer: hand explanation: we can buy', 'answer: suitcase explanation: ican use the suitcase to keep my book while traveling', 'answer: chicago explanation: chicago has many parking structures', 'answer: europe explanation: because of the tradition', 'answer: wreak explanation: Wreak | Definition of Wreak', 'answer: bloom explanation: deposit certain fresh fruits', 'answer: orchestra explanation: orchestra could be playing a balailaika', 'answer: cargo ship explanation: Rivers flow trough valleys.', 'answer: find god explanation: the killer goes to hell', 'answer: carpet explanation: Carpets in Chennai', 'answer: athletic club explanation: it make life sportiveness', 'answer: excitement explanation: This word is Most relavant', 'answer: thirsty explanation: thirsty cat other than wanting food', 'answer: exhaustion explanation: Emotional exhaustion can arise when', 'answer: confession explanation: confession could people do that involves']\n",
      "Length mismatch: 0 predictions, 32 labels\n"
     ]
    },
    {
     "name": "stderr",
     "output_type": "stream",
     "text": [
      "Validation::  59%|█████▉    | 23/39 [02:25<01:41,  6.37s/it]"
     ]
    },
    {
     "name": "stdout",
     "output_type": "stream",
     "text": [
      "Decoded predictions: ['', '', '', '', '', '', '', '', '', '', '', '', '', '', '', '', '', '', '', '', '', '', '', '', '', '', '', '', '', '', '', '']\n",
      "Decoded labels: ['answer: automobile accidents explanation: TO AVOID THE ACCIDENTS', 'answer: falling down explanation: reviews & Metacritic score', 'answer: happy explanation: feels relaxed and happy', 'answer: peach explanation: peach only produces rough pit', 'answer: water fountain explanation: Water Fountain, Fountain manufacturers', 'answer: taxi explanation: Taxis are often taken to airports', 'answer: dress himself explanation: Rivers flow trough valleys.', 'answer: help explanation: cry is an expression', 'answer: slow down explanation: Rivers flow trough valleys.', 'answer: listen to each other explanation: Couples are advised', 'answer: show explanation: Audiences performance', 'answer: need care explanation: s the elderly population incre', 'answer: group together explanation: Rivers flow trough valleys.', 'answer: burial explanation: We bury humans after their death', \"answer: oversupply explanation: company doesn't want oversupply\", 'answer: go out to play explanation: Rivers flow trough valleys.', 'answer: complete job explanation: people aim to complete job in work', 'answer: kill animals explanation: Humans eat animals regularly.', 'answer: build trust explanation: Know yourself and your', 'answer: ask questions explanation: ultimate game development platform', 'answer: jump to conclusions explanation: Quick thinking leads to quick conclusions', 'answer: dirty explanation: Rivers flow trough valleys.', 'answer: face problems explanation:. face problems people need to do to chang', 'answer: singing explanation: Become a Singer Singing Job', 'answer: happiness explanation: love makes life beautiful.', 'answer: wealth explanation: only wealth is gained from hard work', 'answer: teach courses explanation: teach courses professors primarily', 'answer: warm up explanation: ndia vs New Live Score', 'answer: very colorful explanation: feathers are good', 'answer: fair explanation: fair the terms need to be in order to compete against someone', 'answer: dustbin explanation: waste things dustbin in household', 'answer: state name explanation: When we meet someone we generally ask thier name.']\n",
      "Length mismatch: 0 predictions, 32 labels\n"
     ]
    },
    {
     "name": "stderr",
     "output_type": "stream",
     "text": [
      "Validation::  62%|██████▏   | 24/39 [02:32<01:35,  6.39s/it]"
     ]
    },
    {
     "name": "stdout",
     "output_type": "stream",
     "text": [
      "Decoded predictions: ['', '', '', '', '', '', '', '', '', '', '', '', '', '', '', '', '', '', '', '', '', '', '', '', '', '', '', '', '', '', '', '']\n",
      "Decoded labels: ['answer: parents explanation: parents bring up children', 'answer: buy tickets explanation: buying air ticket is the way to fly', 'answer: shop explanation: shop need to get food', \"answer: buy food explanation: buy food you do when you're going to\", 'answer: look around explanation: Look around, look around, look around', 'answer: satisfaction explanation: atisfaction may refer to: Contentment', 'answer: show explanation: A show has real live performance.', 'answer: play sports explanation: we coach the fundamentals of sports', 'answer: open eyes explanation: open eyes plug in', 'answer: shin splints explanation: shin splints you need to wea', 'answer: hand explanation: hand part of the body', 'answer: understanding explanation: we need a understanding', 'answer: english alphabet explanation: English alphabet - Wikipedia', 'answer: play hockey explanation: boys are like hockey', 'answer: intoxication explanation: drinking alcohol leads to intoxication', 'answer: dress herself explanation: many wondering how much they actually', 'answer: grow corn explanation: maze leads to grow corn', 'answer: lose money explanation: Gambler never wants to lose money.', 'answer: tell story explanation: person is a man', 'answer: wash themselves explanation: Rivers flow trough valleys.', 'answer: english house explanation: Avalon sometimes written Avallon or Avilion', 'answer: resentment explanation: person feels like resentment', 'answer: know what time explanation: This word was most relevant.', 'answer: feel important explanation: feel important What does a self assured person often do?', 'answer: warm room explanation: Every man needs denim in their life', 'answer: satisfaction explanation: Customer satisfaction - Wikipedia', 'answer: branch out explanation: Rivers flow trough valleys.', 'answer: life partner explanation: every person want life partner', 'answer: afraid of explanation: Afraid of/worried about-English', 'answer: feelings explanation: Talking About Your Feelings', 'answer: get pregnant explanation: This word was most relevant.', 'answer: trouble explanation: against a government official']\n",
      "Length mismatch: 0 predictions, 32 labels\n"
     ]
    },
    {
     "name": "stderr",
     "output_type": "stream",
     "text": [
      "Validation::  64%|██████▍   | 25/39 [02:38<01:29,  6.40s/it]"
     ]
    },
    {
     "name": "stdout",
     "output_type": "stream",
     "text": [
      "Decoded predictions: ['', '', '', '', '', '', '', '', '', '', '', '', '', '', '', '', '', '', '', '', '', '', '', '', '', '', '', '', '', '', '', '']\n",
      "Decoded labels: ['answer: excitement explanation: winning is the form of exictement', 'answer: go to bed explanation: bed is used for relaxing', 'answer: breathing explanation:. breathingWhat does someone stop doing when being dead?', 'answer: anxiety and fear explanation: anxiety and fear being employed', 'answer: cloud over explanation: High-level clouds, called cirrus clouds', 'answer: anger explanation: anger emotion leads to punching', 'answer: show explanation: You buy tickets for a show', 'answer: table explanation: table normally find near a side chair', 'answer: west texas explanation: Rivers flow trough valleys.', 'answer: countryside explanation: countryside is in marmot', 'answer: growing older explanation: humans are to die in living room', 'answer: shortness of breath explanation: Rivers flow trough valleys.', 'answer: losing money explanation: this word is more relevant', 'answer: decomposition explanation: its a natural thing', 'answer: get lost explanation: dog put up posters', 'answer: crash explanation: After getting into a serious car accid', 'answer: wheels turning explanation: HAPPEN TO WHEELTURN', 'answer: melted explanation: This word is Most relavant', 'answer: go back explanation: Rivers flow trough valleys.', 'answer: chest of drawers explanation: Shop from a wide variety of wooden', 'answer: tetrahedron explanation: Rivers flow trough valleys.', 'answer: graduated explanation: It does not strictly imply that', 'answer: fiddle explanation: THIS IS BETTER ANSWER', 'answer: run explanation: lack of breathing level', 'answer: mortal explanation: immortality is relevant', 'answer: made fun of explanation: Synonyms for make fun Thesaurus', 'answer: happiness explanation: to be happy one has to be married to a right person', 'answer: intellectual challenge explanation: puzzles are games', 'answer: avoid pain explanation: ome products combine acetaminophen', 'answer: talented explanation: good at sports is cosidered as talented', 'answer: wisdom explanation: should gain more job opportunities', 'answer: state park explanation: Rivers flow trough valleys']\n",
      "Length mismatch: 0 predictions, 32 labels\n"
     ]
    },
    {
     "name": "stderr",
     "output_type": "stream",
     "text": [
      "Validation::  67%|██████▋   | 26/39 [02:45<01:23,  6.41s/it]"
     ]
    },
    {
     "name": "stdout",
     "output_type": "stream",
     "text": [
      "Decoded predictions: ['', '', '', '', '', '', '', '', '', '', '', '', '', '', '', '', '', '', '', '', '', '', '', '', '', '', '', '', '', '', '', '']\n",
      "Decoded labels: ['answer: substation explanation: substation a place that has large cable hanging overhead', \"answer: friend's house explanation: Residential Living | Friends House\", 'answer: house explanation: its a place to have it', 'answer: imprisonment explanation: imprisonment (noun) definition', 'answer: do time explanation: finition of do t', 'answer: sell products explanation: Register & Grow your business today', 'answer: intimidation explanation: Rivers flow trough valleys.', 'answer: bone explanation: DOG ENJOY THE BONE', 'answer: paralysis explanation: very unlikely side effect paralysis', 'answer: catch cold explanation: low temperatures compromise immunity', 'answer: computer hard drive explanation: Another name of storing device is computer hard drive.', 'answer: fair explanation: LIGHT COLOR GENERALLY CALLED FAIR', 'answer: sweating explanation: Common causes of this symptom', 'answer: procrastinate explanation: The number of people trying to register to vote.', 'answer: managed explanation: People having mental problems may manage to live normally.', 'answer: procreate explanation: powerful and intuitive digital illustration', 'answer: communication explanation: exchange of information', 'answer: epilogue explanation: This word was most relevant.', 'answer: knowing more explanation: This word is Most relavant', 'answer: polytechnic explanation: This option is better to this task.', 'answer: hear news explanation: News - Wikipedia', 'answer: audience explanation: Audience | Definition of Audience', 'answer: get in shape explanation: TO GET THE ENERGY', 'answer: state explanation: state is part of a republic like the USA', 'answer: act explanation: Fibernet largest wired broadband', 'answer: reading explanation: Reading is the complex cognitive process', 'answer: plan explanation: a set of decisions', 'answer: procreation explanation: People often have sex to procreate', 'answer: drunk driving explanation: drunken drive is accused', 'answer: listening explanation: Listening Skills | SkillsYouNeed', 'answer: listen to music explanation: listen to music children can do while traveling in a car', 'answer: live long explanation: Rivers flow trough valleys.']\n",
      "Length mismatch: 0 predictions, 32 labels\n"
     ]
    },
    {
     "name": "stderr",
     "output_type": "stream",
     "text": [
      "Validation::  69%|██████▉   | 27/39 [02:51<01:17,  6.43s/it]"
     ]
    },
    {
     "name": "stdout",
     "output_type": "stream",
     "text": [
      "Decoded predictions: ['', '', '', '', '', '', '', '', '', '', '', '', '', '', '', '', '', '', '', '', '', '', '', '', '', '', '', '', '', '', '', '']\n",
      "Decoded labels: ['answer: closed eyes explanation: Only closed eyes lead to a trance', 'answer: pleasure explanation: This word is Most relavant', 'answer: mountains explanation: habit is good', 'answer: being entertained explanation: Synonyms for being entertained', 'answer: death explanation: it is very unlikely you can die from eating', 'answer: overstocking explanation: overstocking means excess product', 'answer: supply food explanation: Rivers flow trough valleys.', 'answer: cleanness explanation: This word is Most relavant', \"answer: milky way explanation: milky way god's creation\", 'answer: lot of explanation: Rivers flow trough valleys', 'answer: depression explanation: area is place', 'answer: move people explanation: you know that focusing', 'answer: transporting explanation: Rivers flow trough valleys.', 'answer: learning explanation: children play the games to learn', 'answer: being employed explanation: being employed applying for job', 'answer: life on earth explanation: life on earth is the sun ultimately responsible for', 'answer: happiness explanation: happiness the thing that is agitated in your head when kissing', 'answer: greater manchester explanation: united kingdome greater manchester', 'answer: airplane explanation: airplane scooter motorboat', 'answer: mill explanation: Rivers flow trough valleys.', 'answer: great britain explanation: great britain is the ferret populer', 'answer: refrigerator explanation: This word is Most relavant', 'answer: make happy explanation: edy routine by Bo Bur', 'answer: unhealthy explanation: Synonyms for unhealthy Thesaurus', 'answer: set orbits explanation: moves around in a fixed path', 'answer: country explanation: country has a leader', 'answer: mall explanation: Rivers flow trough valleys.', 'answer: funeral explanation: We generally go to funeral when someone dies.', 'answer: protection explanation: eagles are always given protection', \"answer: children's story explanation: Children's stories usually contain talking animals.\", 'answer: dard explanation: dard language type is someone', 'answer: have no home explanation: Have no idea']\n",
      "Length mismatch: 0 predictions, 32 labels\n"
     ]
    },
    {
     "name": "stderr",
     "output_type": "stream",
     "text": [
      "Validation::  72%|███████▏  | 28/39 [02:58<01:10,  6.44s/it]"
     ]
    },
    {
     "name": "stdout",
     "output_type": "stream",
     "text": [
      "Decoded predictions: ['', '', '', '', '', '', '', '', '', '', '', '', '', '', '', '', '', '', '', '', '', '', '', '', '', '', '', '', '', '', '', '']\n",
      "Decoded labels: ['answer: gap explanation: The Gap, Inc., commonly', 'answer: desktop explanation: Desktops usually have phones', \"answer: headache explanation: headache does'nt leads to sleep\", 'answer: rug explanation: rug might I place under the furniture', 'answer: fights explanation: couple have a lot of stopping of their fights', 'answer: open doors explanation: Christian Persecution Today', 'answer: movie explanation: Chennai Movie Tickets Online Booking', 'answer: conference explanation: About Us - AllThingsD', 'answer: death explanation: Your weight will not change if you die.', 'answer: interruption explanation: Repai B interruption', 'answer: sanitation explanation: Rivers flow trough valleys.', 'answer: relax explanation: relax after they finish creating art', 'answer: using water explanation: we need water to clean', 'answer: do mathematics explanation: do mathematics student in engineering', \"answer: reproducing explanation: animal to and it's offspring to continue livng reproducing\", 'answer: get money explanation: Making Money Online', 'answer: tension explanation: This word is Most relavant', 'answer: drawer explanation: open and close and is used', 'answer: flowers on explanation: flowers on of plants is pretty', 'answer: closet explanation: closet at the back are always dirty', 'answer: downtown explanation: Rivers flow trough valleys.', 'answer: small neighborhood explanation: A small neighborhood is part of a town.', 'answer: bathroom explanation: BATHROOM IS THE PLACE FOR BATH', 'answer: kitchen explanation: kitchen is the room likely to have a sideboard on the counter', 'answer: study explanation: This option is better to this task.', 'answer: balloon explanation: helium is very light', 'answer: hopping explanation: Hopping | Definition of Hopping', 'answer: hope for peace explanation: Memorial \"Hope for Peace\"', 'answer: good balance explanation: The most overlooked and arguably', 'answer: louisiana explanation: It is a swamp and wetland region', 'answer: skateboard explanation: type of sports equipment', 'answer: tall building explanation: Tall buildings that achieve significant']\n",
      "Length mismatch: 0 predictions, 32 labels\n"
     ]
    },
    {
     "name": "stderr",
     "output_type": "stream",
     "text": [
      "Validation::  74%|███████▍  | 29/39 [03:04<01:04,  6.45s/it]"
     ]
    },
    {
     "name": "stdout",
     "output_type": "stream",
     "text": [
      "Decoded predictions: ['', '', '', '', '', '', '', '', '', '', '', '', '', '', '', '', '', '', '', '', '', '', '', '', '', '', '', '', '', '', '', '']\n",
      "Decoded labels: ['answer: reasonable explanation: the question talks about what he DEMANDS to get out of the strike', 'answer: anxiety explanation: We feel anxious when we do something first time.', 'answer: citrus explanation: Citrus UPI based app is a smarter', 'answer: mountainous area explanation: List of mountain ranges - Wikipedia', 'answer: clam chowder explanation: calm chowder is the likely to find a potato', 'answer: brownstone explanation: brownstone is the type of residence has a ground floor with a stoop', \"answer: sporting goods store explanation: Find the closest DICK'S Sporting GoodS\", 'answer: typewriter explanation: Rivers flow trough valleys.', 'answer: atlantic ocean explanation: atlantic oceanWhat very cold area in the east can a crab be found?', 'answer: united states explanation: The United States of America (USA', 'answer: cool off explanation: Rivers flow trough valleys.', 'answer: california explanation: Rivers flow trough valleys.', 'answer: make money explanation: work makes earnings', 'answer: comfortable clothes explanation: a person going on road', 'answer: judge people explanation: judge people will god never do according to religion', 'answer: thin blood explanation: The electolyte level of the', 'answer: feel pleasure explanation: i eating food in a hotel', 'answer: depress explanation: Incapable of increasing.', 'answer: being arrested explanation: Rivers flow trough valleys.', \"answer: wander explanation: i don't want to settle in wander\", 'answer: caps explanation: This word was most relevant.', 'answer: listen to radio explanation: you can listen to news while on your way to work', 'answer: stand alone explanation: system a stand-alone word processor', 'answer: man crew explanation: this word is more relevant', 'answer: deception explanation: deception pretending to be a police officer', 'answer: exercise explanation: Rivers flow trough valleys.', 'answer: victory explanation: victoryWhat would encourage someone to continue playing tennis?', 'answer: group together explanation: Rivers flow trough valleys', 'answer: annoyance explanation: ANNOYANCE | definition in the Cambridge English Dictionary', 'answer: full of air explanation: Air cannot stay in any object that has a hole in it.', 'answer: own home explanation: own homesomeone use a persona', 'answer: orchestra explanation: Music Orchestra in Coimbatore']\n",
      "Length mismatch: 0 predictions, 32 labels\n"
     ]
    },
    {
     "name": "stderr",
     "output_type": "stream",
     "text": [
      "Validation::  77%|███████▋  | 30/39 [03:11<00:58,  6.45s/it]"
     ]
    },
    {
     "name": "stdout",
     "output_type": "stream",
     "text": [
      "Decoded predictions: ['', '', '', '', '', '', '', '', '', '', '', '', '', '', '', '', '', '', '', '', '', '', '', '', '', '', '', '', '', '', '', '']\n",
      "Decoded labels: ['answer: wallpaper explanation: wallpaper replaces vinyl', 'answer: bug campers explanation: To stay in Bug camper is easy.', 'answer: make friends explanation: Meet New People & Make Friends in Chennai', 'answer: analyse explanation: Rivers flow trough valleys.', 'answer: wait for explanation: Rivers flow trough valleys.', 'answer: analyse explanation: Analyse | Definition of Analyse at Dictionary.com', 'answer: grab explanation: grabWhat would you do to a rock when climb up a cliff?', 'answer: cigarette explanation: cigarette is smoking material', 'answer: water fountain explanation: A bubbler also called a drinking', 'answer: frying pan explanation: Prestige Induction Base Stainless', 'answer: phone book explanation: phone book have more address', 'answer: sharing of ideas explanation: sharing of ideas group of people are talking', 'answer: thruway explanation: thruway main artery is used to expedite travel what would it be referred', 'answer: eat breakfast explanation: This word is Most relavant', 'answer: economic boom explanation: Economic Boom: Definition', 'answer: done explanation: This word was most relevant.', 'answer: ancient times explanation: mammoth good animal', 'answer: examine thing explanation: Creatine Supplement', 'answer: relaxation explanation: body is human part', 'answer: not hungry explanation: SLEEPING TIME WAS NOT HUNGRY', 'answer: garden shed explanation: Shop our selection of', 'answer: ignorance explanation: ignorancesomeone has little knowledge and is judging someone', 'answer: sweat explanation: sweat someone is physically competing what does their body', 'answer: go quickly explanation: daphuck is this about', 'answer: offspring explanation: this word is more relevant', 'answer: air conditioning explanation: i will turn on the air conditioning to make me cool', 'answer: shower explanation: This word is Most relavant', 'answer: using energy explanation: after conserving excess energy man have to take rest', 'answer: fall down explanation: i fell down when i slip from a ladder', 'answer: petted explanation: dog is stroke in petted', 'answer: have money explanation: unexpected costs is needed for travel', 'answer: living room explanation: walk through the door to enter']\n",
      "Length mismatch: 0 predictions, 32 labels\n"
     ]
    },
    {
     "name": "stderr",
     "output_type": "stream",
     "text": [
      "Validation::  79%|███████▉  | 31/39 [03:17<00:51,  6.46s/it]"
     ]
    },
    {
     "name": "stdout",
     "output_type": "stream",
     "text": [
      "Decoded predictions: ['', '', '', '', '', '', '', '', '', '', '', '', '', '', '', '', '', '', '', '', '', '', '', '', '', '', '', '', '', '', '', '']\n",
      "Decoded labels: ['answer: fast food restaurant explanation: This word is Most relavant', 'answer: urban area explanation: this word is more relevant', 'answer: fair explanation: fairly horses only for jhagged', 'answer: end of line explanation: PASSION WILL BE EXPLOSED', 'answer: university explanation: Rivers flow trough valleys.', 'answer: farm explanation: best place to sleep', 'answer: texas explanation: Things To Do in Texas USA', 'answer: city explanation: people are powerful', 'answer: suitcase explanation: Women Men Kids Bags', 'answer: restaurant explanation: Rivers flow trough valleys.', 'answer: airport explanation: in airport briefcase goes through x-ray machine', 'answer: california explanation: there are loads of Japanese restaurant in Califonia', 'answer: city or town explanation: need to find city or town', 'answer: slaughter house explanation: Rivers flow trough valleys.', 'answer: table explanation: Rivers flow trough valleys.', 'answer: airport explanation: airport is an aerodrome with extended', 'answer: major city explanation: B major - Wikipedia', 'answer: office building explanation: ffice Building / DREAM + Nicolas', 'answer: church explanation: C3 Church Global - Wikipedia', 'answer: piggy bank explanation: penny s a thing', 'answer: at hotel explanation: Rivers flow trough valleys.', \"answer: dress shop explanation: dress shop can a human find clothes that aren't pants\", 'answer: music class explanation: Rivers flow trough valleys.', 'answer: table explanation: HTML table tag', 'answer: fairgrounds explanation: THIS IS BETTER ANSWER', 'answer: fishing camp explanation: Rivers flow trough valleys.', 'answer: mall explanation: THIS IS BETTER ANSWER', 'answer: music store explanation: THIS IS BETTER ANSWER', 'answer: hardware store explanation: Hardware stores sell new saws', 'answer: hardware store explanation: Push out the excess', 'answer: bicycle shop explanation: two wheeler is available in bicycle shop', 'answer: shopping mall explanation: Shopping mall']\n",
      "Length mismatch: 0 predictions, 32 labels\n"
     ]
    },
    {
     "name": "stderr",
     "output_type": "stream",
     "text": [
      "Validation::  82%|████████▏ | 32/39 [03:24<00:45,  6.46s/it]"
     ]
    },
    {
     "name": "stdout",
     "output_type": "stream",
     "text": [
      "Decoded predictions: ['', '', '', '', '', '', '', '', '', '', '', '', '', '', '', '', '', '', '', '', '', '', '', '', '', '', '', '', '', '', '', '']\n",
      "Decoded labels: ['answer: found outside explanation: Rivers flow trough valleys.', 'answer: symphony explanation: This word was most relevant.', 'answer: downtown explanation: DOWNTOWN IS THE PLACE FOR GETTING THE FOOD', 'answer: yellow pages explanation: easy to find there', 'answer: feild explanation: THIS IS BETTER ANSWER', 'answer: pet shop explanation: This word was most relevant.', \"answer: neighbor's house explanation: This word is Most relavant\", 'answer: dek explanation: Inside means inner part', \"answer: table explanation: Pictures sit on tables when they aren't hung\", 'answer: dresser drawers explanation: rawers from a great selection Furniture', 'answer: shelf explanation: store your dishes in dwelling', 'answer: synagogue explanation: person avoid rain due synagogue', 'answer: front yard explanation: personal ficus lives in front yard', 'answer: tropical jungle explanation: Tropical rainforests are', 'answer: court room explanation: reenactment of real-life stories', 'answer: washington dc explanation: Washington, D.- Wikipedia', 'answer: tomales bay explanation: The Perfect Weekend Getaway', 'answer: apartment explanation: unit is a self-contained housing unit that', 'answer: city explanation: city find hundreds of beauty salon', 'answer: city or town explanation: THIS IS BETTER ANSWER', 'answer: school building explanation: School is place for education.', 'answer: kitchen explanation: planning to bring them outside kitchen', 'answer: big city explanation: ontact BigCity for sales', 'answer: school explanation: school is an educational institution', 'answer: office explanation: offices employ only Adults.', 'answer: surface of earth explanation: surface of earthWhere do all animals live?', 'answer: bloom explanation: This word is Most relavant', 'answer: race track explanation: race meant to drive at high speed', 'answer: kitchen explanation: house room area kitchen', 'answer: google explanation: Google - Information Technology Company', 'answer: casino explanation: Rivers flow trough valleys.', 'answer: office explanation: This word is Most relavant']\n",
      "Length mismatch: 0 predictions, 32 labels\n"
     ]
    },
    {
     "name": "stderr",
     "output_type": "stream",
     "text": [
      "Validation::  85%|████████▍ | 33/39 [03:30<00:38,  6.47s/it]"
     ]
    },
    {
     "name": "stdout",
     "output_type": "stream",
     "text": [
      "Decoded predictions: ['', '', '', '', '', '', '', '', '', '', '', '', '', '', '', '', '', '', '', '', '', '', '', '', '', '', '', '', '', '', '', '']\n",
      "Decoded labels: ['answer: casino explanation: Rivers flow trough valleys.', 'answer: supermarket explanation: condoms are useful', 'answer: forrest explanation: was an American singer,', 'answer: restaurant explanation: i just wants to go to the restaurant', 'answer: outer space explanation: head to travel is outer space', 'answer: utility room explanation: cylindrical container with a handle : bucket', 'answer: backpack explanation: THIS IS BETTER ANSWER', 'answer: case explanation: case contains instrument', 'answer: plate explanation: pizza is a food', 'answer: cabinet explanation: Cabinet recommends dissolution', 'answer: bowling alley explanation: throw the ball in bowling alley', 'answer: schoolroom explanation: schoolroom | meaning of schoolroom', 'answer: farm house explanation: Farm House Sale Chennai', 'answer: motel explanation: maid clean the motel', 'answer: countryside explanation: Rivers flow trough valleys.', 'answer: supermarket explanation: trucks bring bulky goods', 'answer: sewing room explanation: swwing room is the one store fabric', 'answer: shelf explanation: Rivers flow trough valleys.', 'answer: phoenix explanation: The Phoenix offers', 'answer: desk drawer explanation: Drawers hold unused items', 'answer: forest explanation: Tamil Nadu Forest Department', 'answer: radio station explanation: This word was most relevant.', 'answer: nuclear plant explanation: This option is better to this task.', 'answer: home explanation: dining is food', 'answer: front door explanation: Your front door makes an entrance', 'answer: medicine cabinet explanation: This word is Most relavant', 'answer: classroom explanation: classroom is unlikely to ferret', 'answer: house explanation: house doesnt need to have fire extinguisher', 'answer: living room explanation: GOOD PLACE IS LIVING ROOM', 'answer: mouth explanation: This option is better to this task.', \"answer: table explanation: C Tables You'll Love | Wayfair - Wayfair.com\", 'answer: drawer explanation: the drawer is the best place to store the pamphlets in the office']\n",
      "Length mismatch: 0 predictions, 32 labels\n"
     ]
    },
    {
     "name": "stderr",
     "output_type": "stream",
     "text": [
      "Validation::  87%|████████▋ | 34/39 [03:37<00:32,  6.46s/it]"
     ]
    },
    {
     "name": "stdout",
     "output_type": "stream",
     "text": [
      "Decoded predictions: ['', '', '', '', '', '', '', '', '', '', '', '', '', '', '', '', '', '', '', '', '', '', '', '', '', '', '', '', '', '', '', '']\n",
      "Decoded labels: ['answer: painting explanation: GRAPES WAS LIKELY PART OF THE PERFORMANCE', 'answer: market explanation: market a great place to buy fresh fruit', 'answer: desk drawer explanation: desk is the place to store', 'answer: eat in restaurant explanation: A person is a human', 'answer: mountains explanation: Mountains are hard like glaciers.', 'answer: outside explanation: This word is Most relavant', 'answer: cabinet explanation: e-Cabinet — e-Estonia', 'answer: banana tree explanation: This word is Most relavant', 'answer: municipal park explanation: municipal park monument likely to be erected', 'answer: table setting explanation: This word is Most relavant', 'answer: cupboard explanation: cupboard is likely to be hidden behind a door', 'answer: museum explanation: Museum is the most likely place', 'answer: music room explanation: THE CLAVICHORD IS MUSICROOM', \"answer: child's room explanation: Rivers flow trough valleys.\", 'answer: hockey game explanation: hockey game is the only game available.', 'answer: cupboard explanation: Rivers flow trough valleys.', 'answer: medical chart explanation: Physical Examination, medical history', 'answer: fairy tale explanation: fairy tale portrays as a hero', 'answer: library explanation: This word is Most relavant', 'answer: new york city explanation: New York City - Wikipedia', 'answer: new york city explanation: Rivers flow trough valleys.', 'answer: appliance store explanation: Appliance Dealers in Coimbatore. Find', 'answer: bar explanation: Rivers flow trough valleys.', 'answer: water explanation: Simple English Wikipedia', 'answer: china explanation: Rivers flow trough valleys.', \"answer: neighbor's house explanation: neighbor's house the closest place from where you could borrow salt\", 'answer: nuclear power plant explanation: This option is better to this task.', 'answer: outer space explanation: Above the atmosphere is only the dark void.', 'answer: center of town explanation: Center Of Town 945 River Ave', 'answer: new york city explanation: new york citys the large area location of the empire', 'answer: outdoors explanation: TA Outdoors - YouTube', 'answer: end of line explanation: e phrase \"End Of Line\" as displayed']\n",
      "Length mismatch: 0 predictions, 32 labels\n"
     ]
    },
    {
     "name": "stderr",
     "output_type": "stream",
     "text": [
      "Validation::  90%|████████▉ | 35/39 [03:43<00:25,  6.46s/it]"
     ]
    },
    {
     "name": "stdout",
     "output_type": "stream",
     "text": [
      "Decoded predictions: ['', '', '', '', '', '', '', '', '', '', '', '', '', '', '', '', '', '', '', '', '', '', '', '', '', '', '', '', '', '', '', '']\n",
      "Decoded labels: ['answer: at hotel explanation: available in hotel make calls', \"answer: iowa explanation: iowa may you be if you're buying pork chops at a corner shop\", 'answer: india explanation: Lemurs are hunted for food.', 'answer: old barn explanation: Find old barn stock images', 'answer: space explanation: space might an alien use a vacuum', 'answer: cupboard explanation: Wardrobe: Buy Wooden Almirahs', \"answer: loft explanation: Lofts don't sell furniture\", 'answer: closet explanation: reusable product things', 'answer: desk drawer explanation: stapler is in desk drawer', 'answer: countryside explanation: land not in towns', 'answer: florida keys explanation: i find anyone in night', 'answer: forest explanation: This word is Most relavant', 'answer: discount store explanation: discount shop retail shop', 'answer: hen house explanation: hen house would I not want a fox', 'answer: comfortable chair explanation: a cat is a pet', 'answer: house explanation: A computermade multiple parts', 'answer: hospital explanation: blanket is product', 'answer: stand in line explanation: This option is better to this task.', 'answer: chemistry lab explanation: chemistry lab have easily fire', 'answer: woods explanation: neighbours are good', 'answer: suburbs explanation: Suburbs is a residential area', 'answer: pet store explanation: united kingdome greater manchester', 'answer: drawer explanation: drawer someone keep their nylon leggings', 'answer: music store explanation: A piano plays music', 'answer: field explanation: ARRANGED IS FIELD IN A PATH', 'answer: university campus explanation: UNIVERSITY CAMPUS IN AUDITORIUM', 'answer: river explanation: A river is a natural flowing watercourse,', 'answer: public building explanation: List of building types', 'answer: music store explanation:. music store Where would you acquire a wind instrument for you own use?', 'answer: teeth explanation: cavity were found in teeth', \"answer: neighbor's house explanation: Do we say 'Our neighbor's house\", 'answer: stationery store explanation: A writing implement or writing instrument']\n",
      "Length mismatch: 0 predictions, 32 labels\n"
     ]
    },
    {
     "name": "stderr",
     "output_type": "stream",
     "text": [
      "Validation::  92%|█████████▏| 36/39 [03:49<00:19,  6.46s/it]"
     ]
    },
    {
     "name": "stdout",
     "output_type": "stream",
     "text": [
      "Decoded predictions: ['', '', '', '', '', '', '', '', '', '', '', '', '', '', '', '', '', '', '', '', '', '', '', '', '', '', '', '', '', '', '', '']\n",
      "Decoded labels: ['answer: store explanation: store buy food', 'answer: shelf explanation: Wall Shelves Buy Wall Shelf Onlin', 'answer: library explanation: a building, room', 'answer: laboratory explanation: this word is more relevant', 'answer: office building explanation: Commercial Office Space for rent in Coimbatore', 'answer: storybook explanation: source tool for developing', 'answer: food court explanation: jews eat', 'answer: mansion explanation: Executive Mansion-Liberia - Home | Facebook', 'answer: thailand explanation: thailand find a monkey in the wild', 'answer: bathtub explanation: i finds a bathtub in a single shower', 'answer: venue explanation: Musical events are held at venues.', \"answer: child's hand explanation: Child Hand Images\", 'answer: water cooler explanation: This word was most relevant.', 'answer: encyclopedia explanation: An encyclopedia or encyclopdia', 'answer: bookstore explanation: magazine available in bookstore', 'answer: beautiful garden explanation: This word is Most relavant', 'answer: bus depot explanation: RTD | Union Station', 'answer: three vertices explanation: Triangles are the strongest shape', 'answer: music store explanation: Music store is the place to have balalaika.', \"answer: friend's house explanation: I GET PEN FRIEND'S HOUSE\", 'answer: department store explanation: department store bathtub', 'answer: grocery store explanation: got a toothpick in grocery store', 'answer: clothing store explanation: Rivers flow trough valleys.', 'answer: department store explanation: department store is near me', 'answer: cabinet explanation: We put maps in a cabinet.', 'answer: lumberyard explanation: Amazon Lumberyard - Wikipedia', 'answer: mall explanation: Rivers flow trough valleys.', \"answer: friend's house explanation: friend's house wanted to have fun with a few people\", \"answer: bookstore explanation: a book shop shelf's reading materials\", \"answer: apartment explanation: apartment Where would you have a stove if you don't live in a detached dwelling?\", 'answer: brass band explanation: This option is better to this task.', 'answer: orchestra explanation: orchestra hear a violin along side many string and wind instruments']\n",
      "Length mismatch: 0 predictions, 32 labels\n"
     ]
    },
    {
     "name": "stderr",
     "output_type": "stream",
     "text": [
      "Validation::  95%|█████████▍| 37/39 [03:56<00:12,  6.45s/it]"
     ]
    },
    {
     "name": "stdout",
     "output_type": "stream",
     "text": [
      "Decoded predictions: ['', '', '', '', '', '', '', '', '', '', '', '', '', '', '', '', '', '', '', '', '', '', '', '', '', '', '', '', '', '', '', '']\n",
      "Decoded labels: ['answer: living room explanation: living room keep a rug near your front door', 'answer: living room explanation: Living Room | Nebraska Furniture Mart', 'answer: dark place explanation: Rivers flow trough valleys.', 'answer: garage explanation: Z Tech Window Tinting', 'answer: pocket explanation: dollar is kept in wallet', 'answer: dishwasher explanation: GLASS WAS DISHWASHER', 'answer: fishing boat explanation: NET IN FISHING BOAT', 'answer: dishwasher explanation: Rivers flow trough valleys.', 'answer: cabinet explanation: because the waste are put in the cabinet', 'answer: backpack explanation: Buy from the latest', 'answer: pizza explanation: This word was most relevant.', 'answer: stew pot explanation: Donate — The Stewpot', 'answer: family reunion explanation: Rivers flow trough valleys.', 'answer: university explanation: university is an institution of higher', 'answer: drawer explanation: person is a man', 'answer: beach explanation: body of water which consists', 'answer: orchestra explanation: Deep Blue C Studio Orchestra - Welcome', 'answer: gulf states explanation: Rivers flow trough valleys.', 'answer: african continent explanation: Geography for Kids: African', 'answer: listen to music explanation: Music - Wikipedia', 'answer: torn explanation: clothe gets tare while washing', 'answer: school students explanation: professor is teacher', 'answer: city explanation: a police officer likely to work for city', 'answer: fishmongers explanation: fishmongers excites about a crab', 'answer: america explanation: Rivers flow trough valleys.', 'answer: prisoner explanation: man post prisoner', 'answer: blind person explanation: known as vision impairment', 'answer: crowd explanation: crowdWho watches a play in an auditorium?', \"answer: very loyal explanation: man's best friend is very loyal\", 'answer: concert explanation: to power musical instrument for the concert.', 'answer: feel more energetic explanation: weak feel more energetic need to', 'answer: have fun explanation: This word is Most relavant']\n",
      "Length mismatch: 0 predictions, 32 labels\n"
     ]
    },
    {
     "name": "stderr",
     "output_type": "stream",
     "text": [
      "Validation::  97%|█████████▋| 38/39 [04:02<00:06,  6.46s/it]"
     ]
    },
    {
     "name": "stdout",
     "output_type": "stream",
     "text": [
      "Decoded predictions: ['', '', '', '', '', '', '', '', '', '', '', '', '', '', '', '', '', '', '', '', '', '', '', '', '', '', '', '', '', '', '', '']\n",
      "Decoded labels: ['answer: learn new things explanation: e-learning for kids', 'answer: become disillusioned explanation: Disillusioned definition and meaning', 'answer: unable to work explanation: Inability to Work and Eligibility', 'answer: desire to travel explanation: Here is a treasure trovE', \"answer: you're curious explanation: Youthful inexperience\", 'answer: mentally challenged explanation: sometime disability is happened for mentally challenged', 'answer: attract attention explanation: attract attention does someone flirt with many people at once', 'answer: learn about explanation: learn more about that', 'answer: many words explanation: young child is cute', 'answer: confusing explanation: Definition of confuse', 'answer: false information explanation: Rivers flow trough valleys.', 'answer: record album explanation: DANCE PERFORMING IN RECORD ALBUM', 'answer: lots of space explanation: This word is Most relavant', 'answer: smell good explanation: smell good many colors', 'answer: heat explanation: IT WILL RELEASE THE HEAT', 'answer: being raped explanation: for protection against rape they can kill', 'answer: malaise explanation: Malaise - Wikipedia', 'answer: laziness explanation: This word was most relevant.', \"answer: work explanation: It's a place to work\", 'answer: lie explanation: friends are good', 'answer: commute explanation: Rivers flow trough valleys.', 'answer: automated teller explanation: Rivers flow trough valleys.', 'answer: pants explanation: This word was most relevant.', 'answer: imagination explanation: the act or power', 'answer: relaxation explanation: This option is better to this task.', 'answer: nigeria explanation: nigeria can find a monkey in what West African region', 'answer: amazon river explanation: Amazon river watch out for snakes if floating African body of water', 'answer: stairwell explanation: THIS IS BETTER ANSWER', 'answer: confusion explanation: Confusion makes you forget things', 'answer: freezer explanation: Small Deep Freezer manufacturer', 'answer: fountain pen explanation: A pen is a', 'answer: eat every day explanation: get necessary to nutrition']\n",
      "Length mismatch: 0 predictions, 32 labels\n"
     ]
    },
    {
     "name": "stderr",
     "output_type": "stream",
     "text": [
      "Validation:: 100%|██████████| 39/39 [04:07<00:00,  6.34s/it]"
     ]
    },
    {
     "name": "stdout",
     "output_type": "stream",
     "text": [
      "Decoded predictions: ['', '', '', '', '']\n",
      "Decoded labels: ['answer: problems explanation: problems lead to wrong doings', 'answer: newspaper explanation: Newspaper is produce everyday.', 'answer: transfer of information explanation: Rivers flow trough valleys.', 'answer: supermarket explanation: obtain new soap to brought on supermarket', \"answer: ocean explanation: as the planet's\"]\n",
      "Length mismatch: 0 predictions, 5 labels\n",
      "Accuracy preds: []\n",
      "Accuracy labels: []\n"
     ]
    },
    {
     "name": "stderr",
     "output_type": "stream",
     "text": [
      "\n"
     ]
    },
    {
     "ename": "ValueError",
     "evalue": "Empty list found for accuracy predictions or labels.",
     "output_type": "error",
     "traceback": [
      "\u001b[0;31m---------------------------------------------------------------------------\u001b[0m",
      "\u001b[0;31mValueError\u001b[0m                                Traceback (most recent call last)",
      "Cell \u001b[0;32mIn[52], line 5\u001b[0m\n\u001b[1;32m      3\u001b[0m \u001b[38;5;28;01mfor\u001b[39;00m epoch \u001b[38;5;129;01min\u001b[39;00m \u001b[38;5;28mrange\u001b[39m(num_epochs):\n\u001b[1;32m      4\u001b[0m     train_metrics \u001b[38;5;241m=\u001b[39m train_loop(model, train_loader, optimizer)\n\u001b[0;32m----> 5\u001b[0m     val_metrics \u001b[38;5;241m=\u001b[39m \u001b[43mvalidate_loop\u001b[49m\u001b[43m(\u001b[49m\u001b[43mmodel\u001b[49m\u001b[43m,\u001b[49m\u001b[43m \u001b[49m\u001b[43mval_loader\u001b[49m\u001b[43m)\u001b[49m\n\u001b[1;32m      7\u001b[0m     \u001b[38;5;28mprint\u001b[39m(\u001b[38;5;124mf\u001b[39m\u001b[38;5;124m\"\u001b[39m\u001b[38;5;124mEpoch \u001b[39m\u001b[38;5;132;01m{\u001b[39;00mepoch\u001b[38;5;250m \u001b[39m\u001b[38;5;241m+\u001b[39m\u001b[38;5;250m \u001b[39m\u001b[38;5;241m1\u001b[39m\u001b[38;5;132;01m}\u001b[39;00m\u001b[38;5;124m/\u001b[39m\u001b[38;5;132;01m{\u001b[39;00mnum_epochs\u001b[38;5;132;01m}\u001b[39;00m\u001b[38;5;124m\"\u001b[39m)\n\u001b[1;32m      8\u001b[0m     \u001b[38;5;28mprint\u001b[39m(\u001b[38;5;124mf\u001b[39m\u001b[38;5;124m\"\u001b[39m\u001b[38;5;124mTrain Loss: \u001b[39m\u001b[38;5;132;01m{\u001b[39;00mtrain_metrics[\u001b[38;5;124m'\u001b[39m\u001b[38;5;124mtrain_loss\u001b[39m\u001b[38;5;124m'\u001b[39m]\u001b[38;5;132;01m:\u001b[39;00m\u001b[38;5;124m.4f\u001b[39m\u001b[38;5;132;01m}\u001b[39;00m\u001b[38;5;124m\"\u001b[39m)\n",
      "Cell \u001b[0;32mIn[51], line 82\u001b[0m, in \u001b[0;36mvalidate_loop\u001b[0;34m(model, loader)\u001b[0m\n\u001b[1;32m     80\u001b[0m     \u001b[38;5;28mprint\u001b[39m(\u001b[38;5;124mf\u001b[39m\u001b[38;5;124m\"\u001b[39m\u001b[38;5;124mAccuracy preds: \u001b[39m\u001b[38;5;132;01m{\u001b[39;00maccuracy_preds\u001b[38;5;132;01m}\u001b[39;00m\u001b[38;5;124m\"\u001b[39m)\n\u001b[1;32m     81\u001b[0m     \u001b[38;5;28mprint\u001b[39m(\u001b[38;5;124mf\u001b[39m\u001b[38;5;124m\"\u001b[39m\u001b[38;5;124mAccuracy labels: \u001b[39m\u001b[38;5;132;01m{\u001b[39;00maccuracy_labels\u001b[38;5;132;01m}\u001b[39;00m\u001b[38;5;124m\"\u001b[39m)\n\u001b[0;32m---> 82\u001b[0m     \u001b[38;5;28;01mraise\u001b[39;00m \u001b[38;5;167;01mValueError\u001b[39;00m(\u001b[38;5;124m\"\u001b[39m\u001b[38;5;124mEmpty list found for accuracy predictions or labels.\u001b[39m\u001b[38;5;124m\"\u001b[39m)\n\u001b[1;32m     83\u001b[0m \u001b[38;5;28;01mif\u001b[39;00m \u001b[38;5;129;01mnot\u001b[39;00m bertscore_preds \u001b[38;5;129;01mor\u001b[39;00m \u001b[38;5;129;01mnot\u001b[39;00m bertscore_labels:\n\u001b[1;32m     84\u001b[0m     \u001b[38;5;28mprint\u001b[39m(\u001b[38;5;124mf\u001b[39m\u001b[38;5;124m\"\u001b[39m\u001b[38;5;124mBERTScore preds: \u001b[39m\u001b[38;5;132;01m{\u001b[39;00mbertscore_preds\u001b[38;5;132;01m}\u001b[39;00m\u001b[38;5;124m\"\u001b[39m)\n",
      "\u001b[0;31mValueError\u001b[0m: Empty list found for accuracy predictions or labels."
     ]
    }
   ],
   "source": [
    "# Training and validation\n",
    "num_epochs = 3\n",
    "for epoch in range(num_epochs):\n",
    "    train_metrics = train_loop(model, train_loader, optimizer)\n",
    "    val_metrics = validate_loop(model, val_loader)\n",
    "\n",
    "    print(f\"Epoch {epoch + 1}/{num_epochs}\")\n",
    "    print(f\"Train Loss: {train_metrics['train_loss']:.4f}\")\n",
    "    print(f\"Validation Loss: {val_metrics['val_loss']:.4f}\")\n",
    "    print(f\"Validation Accuracy: {val_metrics['accuracy']:.4f}\")\n",
    "    print(f\"Validation BERTScore: {val_metrics['bert_score']}\")"
   ]
  },
  {
   "cell_type": "markdown",
   "metadata": {},
   "source": [
    "***************"
   ]
  },
  {
   "cell_type": "markdown",
   "metadata": {},
   "source": [
    "debugging"
   ]
  }
 ],
 "metadata": {
  "kernelspec": {
   "display_name": "myenv",
   "language": "python",
   "name": "python3"
  },
  "language_info": {
   "codemirror_mode": {
    "name": "ipython",
    "version": 3
   },
   "file_extension": ".py",
   "mimetype": "text/x-python",
   "name": "python",
   "nbconvert_exporter": "python",
   "pygments_lexer": "ipython3",
   "version": "3.9.13"
  }
 },
 "nbformat": 4,
 "nbformat_minor": 2
}
